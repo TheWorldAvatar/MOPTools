{
 "cells": [
  {
   "cell_type": "markdown",
   "metadata": {},
   "source": [
    "# Examples of MOPs assembly using OGM\n",
    "This Jupyter notebook provide examples on how to use the OGM-based algorithm to construct MOPs xyz given CBUs and AM.\n",
    "\n",
    "Available AMs in the OntoMOPs knowledge graph:\n",
    "| AM | AM IRI | GBU1 | GBU1 IRI | GBU2 | GBU2 IRI |\n",
    "|---|---|---|---|---|---|\n",
    "| (3-planar)x4(2-bent)x6_Td |\t<https://www.theworldavatar.com/kg/ontomops/AssemblyModel_88a0302e-9b44-44ba-83bb-848315ec26d8> |   3-planar\t| <https://www.theworldavatar.com/kg/ontomops/GenericBuildingUnit_42f3f1e1-a492-4ebf-95f6-42aa36aff5b1> |\t2-bent |\t<https://www.theworldavatar.com/kg/ontomops/GenericBuildingUnit_0a6be486-2de8-4106-8cb6-efd074934807> |\n",
    "| (3-planar)x4(3-pyramidal)x4_Td |\t<https://www.theworldavatar.com/kg/ontomops/AssemblyModel_793984ba-26f8-4770-aca3-e94b07f632f4> |\t3-planar |\t<https://www.theworldavatar.com/kg/ontomops/GenericBuildingUnit_d9c0fdd1-1510-475f-998d-7ab10a41d3e6> |   3-pyramidal\t| <https://www.theworldavatar.com/kg/ontomops/GenericBuildingUnit_bbffce47-ba16-4980-89b6-e4bdae235bd8> |\n",
    "| (3-planar)x8(2-bent)x12_Oh |\t<https://www.theworldavatar.com/kg/ontomops/AssemblyModel_ce490f69-fcc0-40f6-a1ac-75b8312202fa> |\t3-planar\t| <https://www.theworldavatar.com/kg/ontomops/GenericBuildingUnit_9b1134b5-b2c4-47f5-bad2-82935302c11b> |\t2-bent |\t<https://www.theworldavatar.com/kg/ontomops/GenericBuildingUnit_2b55f566-7560-45bd-9d2d-0e94c987faaf> |\n",
    "| (3-pyramidal)x2(2-bent)x3_D3h |\t<https://www.theworldavatar.com/kg/ontomops/AssemblyModel_4f695309-35ef-4b72-ac47-25d46d8e87cd> |\t3-pyramidal\t| <https://www.theworldavatar.com/kg/ontomops/GenericBuildingUnit_4a523077-7b6a-4ea3-8cd0-3881dbfca0bb> |\t2-bent |\t<https://www.theworldavatar.com/kg/ontomops/GenericBuildingUnit_e0257086-1573-4618-b7c9-8b34a4a2974b> |\n",
    "| (3-pyramidal)x4(2-linear)x6_Td |\t<https://www.theworldavatar.com/kg/ontomops/AssemblyModel_3d71c19a-ab54-4993-8c94-267dcfe41792> |\t3-pyramidal\t| <https://www.theworldavatar.com/kg/ontomops/GenericBuildingUnit_872e3c92-b090-481b-9c8f-bf80fcb3728f> |\t2-linear |\t<https://www.theworldavatar.com/kg/ontomops/GenericBuildingUnit_7eb74ecd-84c2-4d36-bb2b-cb13d300e3e1> |\n",
    "| (3-pyramidal)x8(2-bent)x12_Cs |\t<https://www.theworldavatar.com/kg/ontomops/AssemblyModel_a4a091c4-a2c3-4320-9405-8e22836cd65b> |\t3-pyramidal\t| <https://www.theworldavatar.com/kg/ontomops/GenericBuildingUnit_c8e60907-bf06-4357-ac76-3995cda05174> |\t2-bent |\t<https://www.theworldavatar.com/kg/ontomops/GenericBuildingUnit_6a107957-fa5d-4d03-b715-850bb874f031> |\n",
    "| (3-pyramidal)x8(2-bent)x12_Th |\t<https://www.theworldavatar.com/kg/ontomops/AssemblyModel_f738bfdb-8f73-4321-9888-bb26ebad977c> |\t3-pyramidal\t| <https://www.theworldavatar.com/kg/ontomops/GenericBuildingUnit_ae1b6c26-9a11-40a5-85e5-427e0634b222> |\t2-bent |\t<https://www.theworldavatar.com/kg/ontomops/GenericBuildingUnit_cfed60f5-16c9-4528-b531-ed0c1c7359a3> |\n",
    "| (4-planar)x12(2-bent)x24_D3h |\t<https://www.theworldavatar.com/kg/ontomops/AssemblyModel_3a3bccc5-4834-4aaf-963e-0d89df7a5242> |\t4-planar\t| <https://www.theworldavatar.com/kg/ontomops/GenericBuildingUnit_398f9b36-8879-4b75-9c60-931abf4e91c9> |\t2-bent |\t<https://www.theworldavatar.com/kg/ontomops/GenericBuildingUnit_bd993d29-81ad-4d8e-a574-c15e81fad867> |\n",
    "| (4-planar)x12(2-bent)x24_Oh |\t<https://www.theworldavatar.com/kg/ontomops/AssemblyModel_9d9ab0eb-cec0-4dd3-aaa0-0e16d8b154f0> |\t4-planar\t| <https://www.theworldavatar.com/kg/ontomops/GenericBuildingUnit_5feebbb1-1dc4-4cff-afd1-d6244f273aea> |\t2-bent |\t<https://www.theworldavatar.com/kg/ontomops/GenericBuildingUnit_6e8a62f6-d638-40cf-b12a-c29088cdb904> |\n",
    "| (4-planar)x6(2-bent)x12_Oh |\t<https://www.theworldavatar.com/kg/ontomops/AssemblyModel_52659f58-8e11-458e-aee9-766940004a7e> |\t4-planar\t| <https://www.theworldavatar.com/kg/ontomops/GenericBuildingUnit_59928639-c440-402f-a2d4-cf6c6077a48d> |\t2-bent |\t<https://www.theworldavatar.com/kg/ontomops/GenericBuildingUnit_d1a6b7a1-f860-4fa7-a279-44fa03e3ea3e> |\n",
    "| (4-planar)x6(3-pyramidal)x8_Oh |\t<https://www.theworldavatar.com/kg/ontomops/AssemblyModel_ae4c5d0c-f226-4567-8363-4af3e53da40e> |\t4-planar |\t<https://www.theworldavatar.com/kg/ontomops/GenericBuildingUnit_cfa2ac09-61c1-4f24-a16a-5b7123d73eeb> |\t3-pyramidal\t| <https://www.theworldavatar.com/kg/ontomops/GenericBuildingUnit_1cbb94f5-1765-4ec1-9a23-b3f5a9b59572> |\n",
    "| (4-planar)x6(3-pyramidal)x8_Th |\t<https://www.theworldavatar.com/kg/ontomops/AssemblyModel_03f32815-d43d-4fc4-94da-4157573cc668> |\t4-planar |\t<https://www.theworldavatar.com/kg/ontomops/GenericBuildingUnit_9f33af6a-ef40-4145-b2ea-2bee55168100> |\t3-pyramidal\t| <https://www.theworldavatar.com/kg/ontomops/GenericBuildingUnit_f78f9dbc-2c18-4c34-ae54-f46cb83d02b6> |\n",
    "| (4-pyramidal)x3(2-bent)x6_D3h |\t<https://www.theworldavatar.com/kg/ontomops/AssemblyModel_2fb6e7fe-95d1-400e-a9da-b6ce614935a8> |\t4-pyramidal\t| <https://www.theworldavatar.com/kg/ontomops/GenericBuildingUnit_707dfcc8-eb7c-419e-a019-a930ca338a36> |\t2-bent |\t<https://www.theworldavatar.com/kg/ontomops/GenericBuildingUnit_06f9fbef-6861-4e30-95e1-31bbde0abd57> |\n",
    "| (4-pyramidal)x4(2-bent)x8_D4h |\t<https://www.theworldavatar.com/kg/ontomops/AssemblyModel_35076129-4856-4f04-a535-58e41810b4d2> |\t4-pyramidal\t| <https://www.theworldavatar.com/kg/ontomops/GenericBuildingUnit_c6bb1e1d-b35d-4627-94fd-7031e9d17f60> |\t2-bent |\t<https://www.theworldavatar.com/kg/ontomops/GenericBuildingUnit_64356e88-56b0-4498-be84-565e14e9d45a> |\n",
    "| (4-pyramidal)x6(2-bent)x12_D3h |\t<https://www.theworldavatar.com/kg/ontomops/AssemblyModel_fd68c08d-8f7f-4ac9-8469-3f017c38066a> |\t4-pyramidal\t| <https://www.theworldavatar.com/kg/ontomops/GenericBuildingUnit_5221ff21-8b54-4b1e-968e-6cb2d3a3757e> |\t2-bent |\t<https://www.theworldavatar.com/kg/ontomops/GenericBuildingUnit_0ae079f7-7036-4368-ae2d-21476aa3b0e1> |\n",
    "| (4-pyramidal)x6(2-linear)x12_Oh |\t<https://www.theworldavatar.com/kg/ontomops/AssemblyModel_6289a7a7-62f9-49a7-a6da-4e074b99a328> |\t4-pyramidal\t| <https://www.theworldavatar.com/kg/ontomops/GenericBuildingUnit_f75b018a-26fe-462a-883b-97692b05b01a> |\t2-linear |\t<https://www.theworldavatar.com/kg/ontomops/GenericBuildingUnit_4baa0f3b-e27e-4616-899b-b0902345735e> |\n",
    "| (4-pyramidal)x6(3-planar)x8_Oh |\t<https://www.theworldavatar.com/kg/ontomops/AssemblyModel_038c423f-c7f7-48c7-8701-6441b597e6cd> |\t4-pyramidal |\t<https://www.theworldavatar.com/kg/ontomops/GenericBuildingUnit_6250d552-a8d2-41b3-81bb-9fe89b790cbf> |\t3-planar\t| <https://www.theworldavatar.com/kg/ontomops/GenericBuildingUnit_91e1df55-4956-4543-9c6a-61572d02bdd1> |\n",
    "| (4-pyramidal)x6(3-pyramidal)x8_Oh |\t<https://www.theworldavatar.com/kg/ontomops/AssemblyModel_b3922a4e-a7d0-4115-8113-64759855625e> |\t4-pyramidal |\t<https://www.theworldavatar.com/kg/ontomops/GenericBuildingUnit_1c15aca1-acce-42bb-951e-2e82b130e6d7> |\t3-pyramidal\t| <https://www.theworldavatar.com/kg/ontomops/GenericBuildingUnit_a628981a-4404-4844-ab58-a30eaaa2bd0c> |\n",
    "| (5-pyramidal)x12(2-linear)x30_Ih |\t<https://www.theworldavatar.com/kg/ontomops/AssemblyModel_4d34c0b4-2a4b-4f16-98dd-97c5ce7349a5> |\t5-pyramidal\t| <https://www.theworldavatar.com/kg/ontomops/GenericBuildingUnit_16df9dfa-f293-44b2-9ca2-cfb838917dea> |\t2-linear |\t<https://www.theworldavatar.com/kg/ontomops/GenericBuildingUnit_06ff251b-7be5-41fc-a51b-754e1392c343> |\n",
    "| (5-pyramidal)x12(3-planar)x20_Ih |\t<https://www.theworldavatar.com/kg/ontomops/AssemblyModel_f664df33-ef4a-44f8-a76f-930234465ea5> |\t5-pyramidal\t| <https://www.theworldavatar.com/kg/ontomops/GenericBuildingUnit_ab04eeb3-09c1-4a5d-b98b-28a58a7087b5> |\t3-planar |\t<https://www.theworldavatar.com/kg/ontomops/GenericBuildingUnit_1031f4a0-1951-4e43-8d9f-6d0ff2f597af> |\n"
   ]
  },
  {
   "cell_type": "markdown",
   "metadata": {},
   "source": [
    "## Install required packages if not already part of the environment"
   ]
  },
  {
   "cell_type": "code",
   "execution_count": null,
   "metadata": {},
   "outputs": [],
   "source": [
    "!pip install -q -r requirements.txt"
   ]
  },
  {
   "cell_type": "markdown",
   "metadata": {},
   "source": [
    "## Setup knowledge graph connection"
   ]
  },
  {
   "cell_type": "code",
   "execution_count": 1,
   "metadata": {},
   "outputs": [
    {
     "name": "stdout",
     "output_type": "stream",
     "text": [
      "Info: Initializing JPSGateway with resName=JpsBaseLib, jarPath=None\n"
     ]
    }
   ],
   "source": [
    "# Import the necessary twa modules\n",
    "from twa.kg_operations import PySparqlClient\n",
    "from twa.conf import config_generic, Config\n",
    "\n",
    "# Import the MOPs module\n",
    "import ontomops"
   ]
  },
  {
   "cell_type": "code",
   "execution_count": 2,
   "metadata": {},
   "outputs": [],
   "source": [
    "# Define the environment variables\n",
    "class MOPsConfig(Config):\n",
    "    SPARQL_ENDPOINT: str\n",
    "    SPARQL_USERNAME: str\n",
    "    SPARQL_PASSWORD: str\n",
    "    FS_URL: str\n",
    "    FS_USERNAME: str\n",
    "    FS_PASSWORD: str\n",
    "    DATA_DIR: str"
   ]
  },
  {
   "cell_type": "markdown",
   "metadata": {},
   "source": [
    "> **NOTE: remember to populate `./mops.env` to the knowledge graph endpoints**\n",
    "> \n",
    "> Please ask the maintainer of the repo if you would like to gain access"
   ]
  },
  {
   "cell_type": "code",
   "execution_count": 3,
   "metadata": {},
   "outputs": [],
   "source": [
    "# Retrieve the configuration parameters\n",
    "env_file = './mops.env'\n",
    "mops_conf = config_generic(MOPsConfig, env_file=env_file)"
   ]
  },
  {
   "cell_type": "code",
   "execution_count": 4,
   "metadata": {},
   "outputs": [],
   "source": [
    "# Create data folder if it does not exist\n",
    "import os\n",
    "if not os.path.exists(mops_conf.DATA_DIR):\n",
    "    os.makedirs(mops_conf.DATA_DIR)"
   ]
  },
  {
   "cell_type": "code",
   "execution_count": 5,
   "metadata": {},
   "outputs": [],
   "source": [
    "# Specify the knowledge graph client\n",
    "sparql_client = PySparqlClient(\n",
    "    query_endpoint = mops_conf.SPARQL_ENDPOINT,\n",
    "    update_endpoint = mops_conf.SPARQL_ENDPOINT,\n",
    "    kg_user = mops_conf.SPARQL_USERNAME,\n",
    "    kg_password = mops_conf.SPARQL_PASSWORD,\n",
    "    fs_url = mops_conf.FS_URL,\n",
    "    fs_user = mops_conf.FS_USERNAME,\n",
    "    fs_pwd = mops_conf.FS_PASSWORD,\n",
    ")"
   ]
  },
  {
   "cell_type": "markdown",
   "metadata": {},
   "source": [
    "## Example 1: Assemble MOP using existing CBUs\n",
    "\n",
    "For example, we would like to construct a MOP with the following chemical building units: `[Zr3O(OH)3(C5H5)3]` and `[(C6H3)(CO2)`, following the assembly model `(3-planar)x4(3-pyramidal)x4_Td`."
   ]
  },
  {
   "cell_type": "code",
   "execution_count": 6,
   "metadata": {},
   "outputs": [],
   "source": [
    "# Define the MOPs to be constructed\n",
    "data = {\n",
    "    'cbu1_iri': 'https://www.theworldavatar.com/kg/ontomops/ChemicalBuildingUnit_3d71c19a-ab54-4993-8c94-267dcfe41792_0', # [Zr3O(OH)3(C5H5)3]\n",
    "    'cbu2_iri': 'https://www.theworldavatar.com/kg/ontomops/ChemicalBuildingUnit_f664df33-ef4a-44f8-a76f-930234465ea5_1', # [(C6H3)(CO2)3]\n",
    "    'am_iri': 'https://www.theworldavatar.com/kg/ontomops/AssemblyModel_793984ba-26f8-4770-aca3-e94b07f632f4', # (3-planar)x4(3-pyramidal)x4_Td\n",
    "}"
   ]
  },
  {
   "cell_type": "code",
   "execution_count": 7,
   "metadata": {},
   "outputs": [],
   "source": [
    "# Pull the CBUs and AM from the KG - this might take one minute if the KG is large\n",
    "cbus = ontomops.ChemicalBuildingUnit.pull_from_kg(\n",
    "    [data['cbu1_iri'], data['cbu2_iri']],\n",
    "    sparql_client,\n",
    "    -1, # -1 means full recursion\n",
    ")\n",
    "am = ontomops.AssemblyModel.pull_from_kg(\n",
    "    [data['am_iri']],\n",
    "    sparql_client,\n",
    "    -1\n",
    ")[0] # The query returns a list, but we know there is only one AM"
   ]
  },
  {
   "cell_type": "code",
   "execution_count": 8,
   "metadata": {},
   "outputs": [],
   "source": [
    "# Define the provenance information\n",
    "prov = ontomops.Provenance(hasReferenceDOI='Placeholder DOI for TWA OGM')"
   ]
  },
  {
   "cell_type": "code",
   "execution_count": 9,
   "metadata": {},
   "outputs": [],
   "source": [
    "# Assemble the MOP\n",
    "new_mop = ontomops.MetalOrganicPolyhedron.from_assemble(am, cbus, prov, sparql_client=sparql_client, data_dir=mops_conf.DATA_DIR)"
   ]
  },
  {
   "cell_type": "code",
   "execution_count": 10,
   "metadata": {},
   "outputs": [
    {
     "data": {
      "text/plain": [
       "'./data/xyz_mops_new\\\\(3-pyramidal)x4(3-planar)x4_Td___[Zr3O(OH)3(C5H5)3]4[(C6H3)(CO2)3]4___MetalOrganicPolyhedron_ea81c220-a7e5-491c-b5f2-1c7a44d9e266.xyz'"
      ]
     },
     "execution_count": 10,
     "metadata": {},
     "output_type": "execute_result"
    }
   ],
   "source": [
    "# Check the file path of the assembled XYZ file\n",
    "xyz_fpath = list(list(new_mop.hasGeometry)[0].hasGeometryFile)[0]\n",
    "xyz_fpath"
   ]
  },
  {
   "cell_type": "code",
   "execution_count": 11,
   "metadata": {},
   "outputs": [
    {
     "data": {
      "application/vnd.plotly.v1+json": {
       "config": {
        "plotlyServerURL": "https://plot.ly"
       },
       "data": [
        {
         "hovertemplate": "Atom=Zr<br>X=%{x}<br>Y=%{y}<br>Z=%{z}<extra></extra>",
         "legendgroup": "Zr",
         "marker": {
          "color": "#636efa",
          "size": 2,
          "symbol": "circle"
         },
         "mode": "markers",
         "name": "Zr",
         "scene": "scene",
         "showlegend": true,
         "type": "scatter3d",
         "x": {
          "bdata": "Z8KQK8nmFECvoPRwcsQGQLeNMlD87wZAb8KQK8nmFEC3oPRwcsQGQLeNMlD87wZAccKQK8nmFMCxoPRwcsQGwLGNMlD87wbAbcKQK8nmFMCxoPRwcsQGwLmNMlD87wbA",
          "dtype": "f8"
         },
         "y": {
          "bdata": "3knBTcHlBkAC0lz+qOAUQCKZKfp5uQZA3knBTcHlBsAA0lz+qOAUwB6ZKfp5uQbA3knBTcHlBsAC0lz+qOAUwB6ZKfp5uQbA2knBTcHlBkAB0lz+qOAUQB6ZKfp5uQZA",
          "dtype": "f8"
         },
         "z": {
          "bdata": "Klz3r5baBkDiNZ1oUssGQMEPExDk2xRAwl5ZrpbaBsBuOP9mUssGwAsRRA/k2xTAKlz3r5baBkDiNZ1oUssGQMEPExDk2xRAul5ZrpbaBsBuOP9mUssGwAkRRA/k2xTA",
          "dtype": "f8"
         }
        },
        {
         "hovertemplate": "Atom=O<br>X=%{x}<br>Y=%{y}<br>Z=%{z}<extra></extra>",
         "legendgroup": "O",
         "marker": {
          "color": "#EF553B",
          "size": 2,
          "symbol": "circle"
         },
         "mode": "markers",
         "name": "O",
         "scene": "scene",
         "showlegend": true,
         "type": "scatter3d",
         "x": {
          "bdata": "r5U/QzWxCUBX0c1L8uQTQC+mp81x0hNA37Vp9hmeBkC/lT9DNbEJQFvRzUvy5BNAM6anzXHSE0DntWn2GZ4GQLmVP0M1sQnAYdHNS/LkE8A1pqfNcdITwOm1afYZngbAuZU/QzWxCcBZ0c1L8uQTwDGmp81x0hPA4bVp9hmeBsD9i0Q82/oFwAYq3TUfZhHAqFJS0lC46D/Mhr6/ULjoP7CUhsjb+gXAVaD2UB9mEcCUbMKzULjoP6mm1obb+gXAdtrXqNv6BcAl0wQpH2YRwO+4VR0fZhHAkGxO3lC46D/4i0Q82/oFQAYq3TUfZhFAwFJS0lC46L/Uhr6/ULjov7KUhsjb+gVAU6D2UB9mEUCobMKzULjov6mm1obb+gVAc9rXqNv6BUAj0wQpH2YRQO+4VR0fZhFApGxO3lC46L8=",
          "dtype": "f8"
         },
         "y": {
          "bdata": "yhynW/igCUCmucT5Y3QGQM9Zsoqz3BNAupSn/M7JE0DKHKdb+KAJwKa5xPljdAbA0VmyirPcE8C6lKf8zskTwMocp1v4oAnAprnE+WN0BsDPWbKKs9wTwLqUp/zOyRPAwhynW/igCUCiucT5Y3QGQM9Zsoqz3BNAuZSn/M7JE0BfuqVcH2YRQJlUxqdQuOi/5A8uKh9mEUD8YIWm2/oFQAGESupQuOi/DcBFXtv6BUD6i0Q82/oFwAUq3TUfZhHAu1JS0lC46D/bhr6/ULjoP66Uhsjb+gXAVaD2UB9mEcBfuqVcH2YRwKtUxqdQuOg/4Q8uKh9mEcD1YIWm2/oFwCOESupQuOg/DsBFXtv6BcD+i0Q82/oFQAcq3TUfZhFArVJS0lC46L/Rhr6/ULjov7KUhsjb+gVAV6D2UB9mEUA=",
          "dtype": "f8"
         },
         "z": {
          "bdata": "imv3i+GeCUB17ij5cdITQJJZEsQGRwZAC/we4uHLE0AiblmK4Z4JwL/vWfhx0hPAIlx0wgZHBsBV/U/h4csTwJJr94vhnglAde4o+XHSE0CSWRLEBkcGQA/8HuLhyxNAHm5ZiuGeCcDB71n4cdITwCJcdMIGRwbAVf1P4eHLE8C/cYawULjov2SlpYfb+gVAKtmmqdv6BUCAUmwpH2YRQEw4vR0fZhFAt3ES21C46L8EOz5cH2YRwH1PAqtQuOg/hpDGKR9mEcA+Yral2/oFwPF+hu1QuOg/V8F2Xdv6BcDDcYawULjov16lpYfb+gVAMNmmqdv6BUCCUmwpH2YRQEo4vR0fZhFAw3ES21C46L8COz5cH2YRwI1PAqtQuOg/iJDGKR9mEcBCYral2/oFwPF+hu1QuOg/VcF2Xdv6BcA=",
          "dtype": "f8"
         }
        },
        {
         "hovertemplate": "Atom=H<br>X=%{x}<br>Y=%{y}<br>Z=%{z}<extra></extra>",
         "legendgroup": "H",
         "marker": {
          "color": "#00cc96",
          "size": 2,
          "symbol": "circle"
         },
         "mode": "markers",
         "name": "H",
         "scene": "scene",
         "showlegend": true,
         "type": "scatter3d",
         "x": {
          "bdata": "46Y3+tmUFkDHp9kWVH4WQDe0qxLK6dc/X98zwIsjEUDu9lYedNb4P65y4MlX8fw/j32o5NjvH0AvX3fE6CMdQBU0Z2KFRx9AEd9X+LN+HEAle63mhD4eQE8KK8vxbgZAr5VxAPo+EEADQFw1Ye4QQCccTi/hxABA+6I5zsWXEUD3MSFasHnVP+7OKf423P0/56Y3+tmUFkDLp9kWVH4WQHe0qxLK6dc/X98zwIsjEUDu9lYedNb4P75y4MlX8fw/k32o5NjvH0A1X3fE6CMdQBs0Z2KFRx9AFd9X+LN+HEApe63mhD4eQEcKK8vxbgZAs5VxAPo+EED/P1w1Ye4QQCccTi/hxABA+6I5zsWXEUA3MiFasHnVP/7OKf423P0/6aY3+tmUFsDJp9kWVH4WwIm0qxLK6de/Xd8zwIsjEcDy9lYedNb4v8Jy4MlX8fy/lX2o5NjvH8AzX3fE6CMdwBs0Z2KFRx/AE99X+LN+HMApe63mhD4ewEEKK8vxbgbAuZVxAPo+EMAFQFw1Ye4QwCkcTi/hxADA/aI5zsWXEcDJMSFasHnVv+LOKf423P2/6aY3+tmUFsDJp9kWVH4WwEm0qxLK6de/Xd8zwIsjEcDi9lYedNb4v6Jy4MlX8fy/lX2o5NjvH8A3X3fE6CMdwB00Z2KFRx/AGd9X+LN+HMAte63mhD4ewEEKK8vxbgbAsZVxAPo+EMAFQFw1Ye4QwCkcTi/hxADA/aI5zsWXEcDJMSFasHnVv+LOKf423P2/jG9WqQ6B8b9P/gd0+4sQwOt64cYOgfG/l2LIFw+B8b+VTGLvDoHxv+V6+Ir7ixDAgW9WqQ6B8T9N/gd0+4sQQOt64cYOgfE/j2LIFw+B8T+RTGLvDoHxP+R6+Ir7ixBA",
          "dtype": "f8"
         },
         "y": {
          "bdata": "4tjXIscxBkCC6PdNjo4WQCKynN5ZwgFA4Cfp8d9vHkAHoHuCwqIRQHfuQvN5+B5AGjL21S1oDEByovUaRSIGQPOMxvk7ehJAt8jXs12/4T97cd+JidrwP0k52DXzeBZAws0X3y4uD0A86BxLXM0fQE3OHpnkuNU/G/LEzQlX9j/kj8ArgwwdQNJc0o4irxxA4tjXIscxBsCC6PdNjo4WwCaynN5ZwgHA3Sfp8d9vHsAJoHuCwqIRwHbuQvN5+B7AGjL21S1oDMByovUaRSIGwPOMxvk7ehLAqcjXs12/4b+Fcd+Jidrwv0c52DXzeBbAys0X3y4uD8A76BxLXM0fwJPOHpnkuNW/JfLEzQlX9r/hj8ArgwwdwMxc0o4irxzA3tjXIscxBsCB6PdNjo4WwB6ynN5ZwgHA3yfp8d9vHsAHoHuCwqIRwHTuQvN5+B7AFjL21S1oDMByovUaRSIGwPWMxvk7ehLAucjXs12/4b99cd+Jidrwv0c52DXzeBbAws0X3y4uD8A86BxLXM0fwFPOHpnkuNW/JfLEzQlX9r/hj8ArgwwdwNBc0o4irxzA5tjXIscxBkB/6PdNjo4WQB6ynN5ZwgFA3ifp8d9vHkAHoHuCwqIRQHHuQvN5+B5AHjL21S1oDEBuovUaRSIGQPeMxvk7ehJAp8jXs12/4T+Dcd+JidrwP0c52DXzeBZAxs0X3y4uD0A/6BxLXM0fQE3OHpnkuNU/I/LEzQlX9j/gj8ArgwwdQMtc0o4irxxAQv4HdPuLEEBWhbzRDoHxP59ke54OgfE/hG9WqQ6B8b9N/gd0+4sQwOd64cYOgfG/Qf4HdPuLEMBShbzRDoHxv5Nke54OgfG/im9WqQ6B8T9P/gd0+4sQQOt64cYOgfE/",
          "dtype": "f8"
         },
         "z": {
          "bdata": "7UWyKu+AFkDSzJHQ7d8FQCXjh+oHyRxABXmtTBa48z89zjXn/sYeQNmRfWtqQRJA1UEzhvd3EUCy5nI1GGLXP4rVJ5PJZgBAhQJGeeY6+j9p4yO75YoQQIFTbmqlexZAo90Cyjb1H0CCm//9ZDwOQE2ibtNgohxA37Z5wEWBHkDmr3/iEggEQOL4j6EGu9w/OUfjKe+AFsBiz/PO7d8FwGnkuOkHyRzAK35xSRa487+Dz2bm/sYewB+TrmpqQRLAIUNkhfd3EcCe+4IoGGLXvyLYiZHJZgDAuwcKduY6+r+35FS65YoQwMlUn2mlexbA8d4zyTb1H8AWnmH8ZDwOwJWjn9JgohzAKbiqv0WBHsBusuHgEggEwF4NoJQGu9y/70WyKu+AFkDSzJHQ7d8FQCXjh+oHyRxABXmtTBa48z8/zjXn/sYeQNeRfWtqQRJA10Ezhvd3EUDi5nI1GGLXP47VJ5PJZgBAhQJGeeY6+j9t4yO75YoQQINTbmqlexZAqd0Cyjb1H0CCm//9ZDwOQFGibtNgohxA4bZ5wEWBHkDir3/iEggEQNL4j6EGu9w/PUfjKe+AFsBmz/PO7d8FwGvkuOkHyRzAI35xSRa487+Hz2bm/sYewB2TrmpqQRLAIUNkhfd3EcB++4IoGGLXvyLYiZHJZgDAswcKduY6+r+55FS65YoQwMtUn2mlexbA894zyTb1H8ASnmH8ZDwOwJejn9JgohzAK7iqv0WBHsBusuHgEggEwD4NoJQGu9y/AWBmGQ+B8T8FSgDxDoHxP0H6X4v7ixBA5n6gc/uLEMDlhx7QDoHxvyZn3ZwOgfG/B2BmGQ+B8T/9SQDxDoHxP0L6X4v7ixBA5n6gc/uLEMDghx7QDoHxvyln3ZwOgfG/",
          "dtype": "f8"
         }
        },
        {
         "hovertemplate": "Atom=C<br>X=%{x}<br>Y=%{y}<br>Z=%{z}<extra></extra>",
         "legendgroup": "C",
         "marker": {
          "color": "#ab63fa",
          "size": 2,
          "symbol": "circle"
         },
         "mode": "markers",
         "name": "C",
         "scene": "scene",
         "showlegend": true,
         "type": "scatter3d",
         "x": {
          "bdata": "L1NamNihHkCzcABWUh0dQDOomtAgRh5AUZqRLTy8HEAPAFrcM68dQJ5Y8I74ZfU/X6rRCTNcAUBPfJ/jvvsLQJe6ftKdJwFAx7s5rwHBC0COLscAFdX1Px91u/6yAgBAl+bWonH/CkDXH8gP+2ECQOccL1pCbgxAM1NamNihHkC7cABWUh0dQDeomtAgRh5AXZqRLTy8HEATAFrcM68dQK5Y8I74ZfU/b6rRCTNcAUBXfJ/jvvsLQJe6ftKdJwFA17s5rwHBC0COLscAFdX1Pyd1u/6yAgBAn+bWonH/CkDfH8gP+2ECQO8cL1pCbgxANVNamNihHsC1cABWUh0dwDeomtAgRh7AWZqRLTy8HMATAFrcM68dwJJY8I74ZfW/YarRCTNcAcBZfJ/jvvsLwJG6ftKdJwHA0bs5rwHBC8CCLscAFdX1vyl1u/6yAgDAmebWonH/CsDZH8gP+2ECwOkcL1pCbgzANVNamNihHsC5cABWUh0dwDeomtAgRh7AW5qRLTy8HMAVAFrcM68dwJJY8I74ZfW/YarRCTNcAcBRfJ/jvvsLwIm6ftKdJwHA0bs5rwHBC8ByLscAFdX1vyF1u/6yAgDAmebWonH/CsDZH8gP+2ECwOkcL1pCbgzAbIRCYtOT7r+pB4J7vp/4v+NFlGQIegXAW/6XVUf5CcCFWNKZCHoFwKh6PIe+n/i/H3SYGPq10j8mjsGe4ncKwOO/SHvidwrAQOu2YQh6BcCexoxqvp/4vwJq8c/Tk+6/E0LgU76f+L++azxWCHoFwCUtuUxH+QnA+ZnYhOJ3CsDV5fBs4ncKwH9yzi76tdI/YoRCYtOT7j+iB4J7vp/4P+FFlGQIegVAW/6XVUf5CUCFWNKZCHoFQKZ6PIe+n/g/QXSYGPq10r8njsGe4ncKQN+/SHvidwpAPuu2YQh6BUCXxoxqvp/4P/Rp8c/Tk+4/DkLgU76f+D+9azxWCHoFQCUtuUxH+QlA95nYhOJ3CkDV5fBs4ncKQKFyzi76tdK/",
          "dtype": "f8"
         },
         "y": {
          "bdata": "apypeVDBCEA2WyPqgVYFQNLXqHAObA1A+xJ5Zgxt9z8Tmdybls/7PzfO9nkQEx1AkK+NW3rhHEDXJY29WsodQMCky4JmGB5A9fo3AA2FHkAS3KXhN8ICQILaWUBqUgxAZv+yqesWCkCbWqgIhBT1PxtygikJW/4/apypeVDBCMA2WyPqgVYFwNbXqHAObA3ADRN5Zgxt978Nmdybls/7vzbO9nkQEx3AjK+NW3rhHMDUJY29WsodwL+ky4JmGB7A8/o3AA2FHsAW3KXhN8ICwIbaWUBqUgzAav+yqesWCsClWqgIhBT1vx1ygikJW/6/ZpypeVDBCMA2WyPqgVYFwNbXqHAObA3ABRN5Zgxt978Vmdybls/7vzTO9nkQEx3Aj6+NW3rhHMDVJY29WsodwL2ky4JmGB7A8fo3AA2FHsAO3KXhN8ICwHraWUBqUgzAZv+yqesWCsCdWqgIhBT1vxVygikJW/6/apypeVDBCEA2WyPqgVYFQNrXqHAObA1ACxN5Zgxt9z8Dmdybls/7PzHO9nkQEx1Aia+NW3rhHEDRJY29WsodQLqky4JmGB5A8vo3AA2FHkAK3KXhN8ICQH7aWUBqUgxAav+yqesWCkCTWqgIhBT1PyNygikJW/4/N9lXjgh6BUBw/pdVR/kJQC/FDnAIegVAWYwukr6f+D81hUJi05PuPy32j3C+n/g/HtrZhuJ3CkBbc5gY+rXSvwJ0MJPidwpAYYRCYtOT7r+jB4J7vp/4v+FFlGQIegXAWv6XVUf5CcCCWNKZCHoFwKN6PIe+n/i/RXSYGPq10j8kjsGe4ncKwOC/SHvidwrAMtlXjgh6BcBu/pdVR/kJwC3FDnAIegXAVIwukr6f+L8hhUJi05PuvyP2j3C+n/i/GNrZhuJ3CsCNc5gY+rXSPwJ0MJPidwrAbYRCYtOT7j+pB4J7vp/4P+VFlGQIegVAXv6XVUf5CUCGWNKZCHoFQKl6PIe+n/g/K3SYGPq10r8ojsGe4ncKQOS/SHvidwpA",
          "dtype": "f8"
         },
         "z": {
          "bdata": "TvrBlNtRDEAlMXqeycL1P2aHVOsBOQJA8sfzef5rAEDi7BodO1cLQLZr7mOSJQRA/Zxfy0Vj9j894z5N/Tn9P6KWpYagLQ1A8myv2mDGCUCHt6T1UfAcQFnXncHi7h1ApeMJ0LmOHkBxrDBqR9AcQPOB2dyTyR1A6vwjk9tRDMBLNj6bycL1vwKKtukBOQLAjspVeP5rAMB+73wbO1cLwEJuUGKSJQTAG6IjyEVj9r9j6AJK/Tn9vzaZB4WgLQ3Ahm8R2WDGCcDPuNX0UfAcwKHYzsDi7h3A7eQ6z7mOHsC9rWFpR9AcwD2DCtyTyR3AVvrBlNtRDEAtMXqeycL1P2qHVOsBOQJA+sfzef5rAEDi7BodO1cLQLpr7mOSJQRA/Zxfy0Vj9j814z5N/Tn9P6qWpYagLQ1A9myv2mDGCUCJt6T1UfAcQF3XncHi7h1ApeMJ0LmOHkBzrDBqR9AcQPOB2dyTyR1A6vwjk9tRDMBLNj6bycL1vwKKtukBOQLAkspVeP5rAMB+73wbO1cLwEZuUGKSJQTAE6IjyEVj9r9b6AJK/Tn9vzKZB4WgLQ3Agm8R2WDGCcDRuNX0UfAcwKfYzsDi7h3A7eQ6z7mOHsC7rWFpR9AcwEGDCtyTyR3A9umFYgh6BUAKxCpsvp/4P9tkLdPTk+4/gz9+Vb6f+D92agtXCHoFQN4riE1H+QlAsJinheJ3CkCO5L9t4ncKQM58Vij6tdK/fNqIjQh6BcC3/8hUR/kJwHfGP28IegXA546QkL6f+L9LigZf05Puv7b48W6+n/i/YtsKhuJ3CsA6aRAf+rXSP0t1YZLidwrA+emFYgh6BUANxCpsvp/4P9lkLdPTk+4/fz9+Vb6f+D90agtXCHoFQN4riE1H+QlAtJinheJ3CkCL5L9t4ncKQN58Vij6tdK/ftqIjQh6BcC4/8hUR/kJwHbGP28IegXA446QkL6f+L9JigZf05Puv7f48W6+n/i/ZdsKhuJ3CsA6aRAf+rXSP0l1YZLidwrA",
          "dtype": "f8"
         }
        }
       ],
       "layout": {
        "autosize": false,
        "height": 400,
        "legend": {
         "title": {
          "text": "Atom"
         },
         "tracegroupgap": 0
        },
        "scene": {
         "domain": {
          "x": [
           0,
           1
          ],
          "y": [
           0,
           1
          ]
         },
         "xaxis": {
          "title": {
           "text": "X"
          }
         },
         "yaxis": {
          "title": {
           "text": "Y"
          }
         },
         "zaxis": {
          "title": {
           "text": "Z"
          }
         }
        },
        "template": {
         "data": {
          "bar": [
           {
            "error_x": {
             "color": "#2a3f5f"
            },
            "error_y": {
             "color": "#2a3f5f"
            },
            "marker": {
             "line": {
              "color": "#E5ECF6",
              "width": 0.5
             },
             "pattern": {
              "fillmode": "overlay",
              "size": 10,
              "solidity": 0.2
             }
            },
            "type": "bar"
           }
          ],
          "barpolar": [
           {
            "marker": {
             "line": {
              "color": "#E5ECF6",
              "width": 0.5
             },
             "pattern": {
              "fillmode": "overlay",
              "size": 10,
              "solidity": 0.2
             }
            },
            "type": "barpolar"
           }
          ],
          "carpet": [
           {
            "aaxis": {
             "endlinecolor": "#2a3f5f",
             "gridcolor": "white",
             "linecolor": "white",
             "minorgridcolor": "white",
             "startlinecolor": "#2a3f5f"
            },
            "baxis": {
             "endlinecolor": "#2a3f5f",
             "gridcolor": "white",
             "linecolor": "white",
             "minorgridcolor": "white",
             "startlinecolor": "#2a3f5f"
            },
            "type": "carpet"
           }
          ],
          "choropleth": [
           {
            "colorbar": {
             "outlinewidth": 0,
             "ticks": ""
            },
            "type": "choropleth"
           }
          ],
          "contour": [
           {
            "colorbar": {
             "outlinewidth": 0,
             "ticks": ""
            },
            "colorscale": [
             [
              0,
              "#0d0887"
             ],
             [
              0.1111111111111111,
              "#46039f"
             ],
             [
              0.2222222222222222,
              "#7201a8"
             ],
             [
              0.3333333333333333,
              "#9c179e"
             ],
             [
              0.4444444444444444,
              "#bd3786"
             ],
             [
              0.5555555555555556,
              "#d8576b"
             ],
             [
              0.6666666666666666,
              "#ed7953"
             ],
             [
              0.7777777777777778,
              "#fb9f3a"
             ],
             [
              0.8888888888888888,
              "#fdca26"
             ],
             [
              1,
              "#f0f921"
             ]
            ],
            "type": "contour"
           }
          ],
          "contourcarpet": [
           {
            "colorbar": {
             "outlinewidth": 0,
             "ticks": ""
            },
            "type": "contourcarpet"
           }
          ],
          "heatmap": [
           {
            "colorbar": {
             "outlinewidth": 0,
             "ticks": ""
            },
            "colorscale": [
             [
              0,
              "#0d0887"
             ],
             [
              0.1111111111111111,
              "#46039f"
             ],
             [
              0.2222222222222222,
              "#7201a8"
             ],
             [
              0.3333333333333333,
              "#9c179e"
             ],
             [
              0.4444444444444444,
              "#bd3786"
             ],
             [
              0.5555555555555556,
              "#d8576b"
             ],
             [
              0.6666666666666666,
              "#ed7953"
             ],
             [
              0.7777777777777778,
              "#fb9f3a"
             ],
             [
              0.8888888888888888,
              "#fdca26"
             ],
             [
              1,
              "#f0f921"
             ]
            ],
            "type": "heatmap"
           }
          ],
          "histogram": [
           {
            "marker": {
             "pattern": {
              "fillmode": "overlay",
              "size": 10,
              "solidity": 0.2
             }
            },
            "type": "histogram"
           }
          ],
          "histogram2d": [
           {
            "colorbar": {
             "outlinewidth": 0,
             "ticks": ""
            },
            "colorscale": [
             [
              0,
              "#0d0887"
             ],
             [
              0.1111111111111111,
              "#46039f"
             ],
             [
              0.2222222222222222,
              "#7201a8"
             ],
             [
              0.3333333333333333,
              "#9c179e"
             ],
             [
              0.4444444444444444,
              "#bd3786"
             ],
             [
              0.5555555555555556,
              "#d8576b"
             ],
             [
              0.6666666666666666,
              "#ed7953"
             ],
             [
              0.7777777777777778,
              "#fb9f3a"
             ],
             [
              0.8888888888888888,
              "#fdca26"
             ],
             [
              1,
              "#f0f921"
             ]
            ],
            "type": "histogram2d"
           }
          ],
          "histogram2dcontour": [
           {
            "colorbar": {
             "outlinewidth": 0,
             "ticks": ""
            },
            "colorscale": [
             [
              0,
              "#0d0887"
             ],
             [
              0.1111111111111111,
              "#46039f"
             ],
             [
              0.2222222222222222,
              "#7201a8"
             ],
             [
              0.3333333333333333,
              "#9c179e"
             ],
             [
              0.4444444444444444,
              "#bd3786"
             ],
             [
              0.5555555555555556,
              "#d8576b"
             ],
             [
              0.6666666666666666,
              "#ed7953"
             ],
             [
              0.7777777777777778,
              "#fb9f3a"
             ],
             [
              0.8888888888888888,
              "#fdca26"
             ],
             [
              1,
              "#f0f921"
             ]
            ],
            "type": "histogram2dcontour"
           }
          ],
          "mesh3d": [
           {
            "colorbar": {
             "outlinewidth": 0,
             "ticks": ""
            },
            "type": "mesh3d"
           }
          ],
          "parcoords": [
           {
            "line": {
             "colorbar": {
              "outlinewidth": 0,
              "ticks": ""
             }
            },
            "type": "parcoords"
           }
          ],
          "pie": [
           {
            "automargin": true,
            "type": "pie"
           }
          ],
          "scatter": [
           {
            "fillpattern": {
             "fillmode": "overlay",
             "size": 10,
             "solidity": 0.2
            },
            "type": "scatter"
           }
          ],
          "scatter3d": [
           {
            "line": {
             "colorbar": {
              "outlinewidth": 0,
              "ticks": ""
             }
            },
            "marker": {
             "colorbar": {
              "outlinewidth": 0,
              "ticks": ""
             }
            },
            "type": "scatter3d"
           }
          ],
          "scattercarpet": [
           {
            "marker": {
             "colorbar": {
              "outlinewidth": 0,
              "ticks": ""
             }
            },
            "type": "scattercarpet"
           }
          ],
          "scattergeo": [
           {
            "marker": {
             "colorbar": {
              "outlinewidth": 0,
              "ticks": ""
             }
            },
            "type": "scattergeo"
           }
          ],
          "scattergl": [
           {
            "marker": {
             "colorbar": {
              "outlinewidth": 0,
              "ticks": ""
             }
            },
            "type": "scattergl"
           }
          ],
          "scattermap": [
           {
            "marker": {
             "colorbar": {
              "outlinewidth": 0,
              "ticks": ""
             }
            },
            "type": "scattermap"
           }
          ],
          "scattermapbox": [
           {
            "marker": {
             "colorbar": {
              "outlinewidth": 0,
              "ticks": ""
             }
            },
            "type": "scattermapbox"
           }
          ],
          "scatterpolar": [
           {
            "marker": {
             "colorbar": {
              "outlinewidth": 0,
              "ticks": ""
             }
            },
            "type": "scatterpolar"
           }
          ],
          "scatterpolargl": [
           {
            "marker": {
             "colorbar": {
              "outlinewidth": 0,
              "ticks": ""
             }
            },
            "type": "scatterpolargl"
           }
          ],
          "scatterternary": [
           {
            "marker": {
             "colorbar": {
              "outlinewidth": 0,
              "ticks": ""
             }
            },
            "type": "scatterternary"
           }
          ],
          "surface": [
           {
            "colorbar": {
             "outlinewidth": 0,
             "ticks": ""
            },
            "colorscale": [
             [
              0,
              "#0d0887"
             ],
             [
              0.1111111111111111,
              "#46039f"
             ],
             [
              0.2222222222222222,
              "#7201a8"
             ],
             [
              0.3333333333333333,
              "#9c179e"
             ],
             [
              0.4444444444444444,
              "#bd3786"
             ],
             [
              0.5555555555555556,
              "#d8576b"
             ],
             [
              0.6666666666666666,
              "#ed7953"
             ],
             [
              0.7777777777777778,
              "#fb9f3a"
             ],
             [
              0.8888888888888888,
              "#fdca26"
             ],
             [
              1,
              "#f0f921"
             ]
            ],
            "type": "surface"
           }
          ],
          "table": [
           {
            "cells": {
             "fill": {
              "color": "#EBF0F8"
             },
             "line": {
              "color": "white"
             }
            },
            "header": {
             "fill": {
              "color": "#C8D4E3"
             },
             "line": {
              "color": "white"
             }
            },
            "type": "table"
           }
          ]
         },
         "layout": {
          "annotationdefaults": {
           "arrowcolor": "#2a3f5f",
           "arrowhead": 0,
           "arrowwidth": 1
          },
          "autotypenumbers": "strict",
          "coloraxis": {
           "colorbar": {
            "outlinewidth": 0,
            "ticks": ""
           }
          },
          "colorscale": {
           "diverging": [
            [
             0,
             "#8e0152"
            ],
            [
             0.1,
             "#c51b7d"
            ],
            [
             0.2,
             "#de77ae"
            ],
            [
             0.3,
             "#f1b6da"
            ],
            [
             0.4,
             "#fde0ef"
            ],
            [
             0.5,
             "#f7f7f7"
            ],
            [
             0.6,
             "#e6f5d0"
            ],
            [
             0.7,
             "#b8e186"
            ],
            [
             0.8,
             "#7fbc41"
            ],
            [
             0.9,
             "#4d9221"
            ],
            [
             1,
             "#276419"
            ]
           ],
           "sequential": [
            [
             0,
             "#0d0887"
            ],
            [
             0.1111111111111111,
             "#46039f"
            ],
            [
             0.2222222222222222,
             "#7201a8"
            ],
            [
             0.3333333333333333,
             "#9c179e"
            ],
            [
             0.4444444444444444,
             "#bd3786"
            ],
            [
             0.5555555555555556,
             "#d8576b"
            ],
            [
             0.6666666666666666,
             "#ed7953"
            ],
            [
             0.7777777777777778,
             "#fb9f3a"
            ],
            [
             0.8888888888888888,
             "#fdca26"
            ],
            [
             1,
             "#f0f921"
            ]
           ],
           "sequentialminus": [
            [
             0,
             "#0d0887"
            ],
            [
             0.1111111111111111,
             "#46039f"
            ],
            [
             0.2222222222222222,
             "#7201a8"
            ],
            [
             0.3333333333333333,
             "#9c179e"
            ],
            [
             0.4444444444444444,
             "#bd3786"
            ],
            [
             0.5555555555555556,
             "#d8576b"
            ],
            [
             0.6666666666666666,
             "#ed7953"
            ],
            [
             0.7777777777777778,
             "#fb9f3a"
            ],
            [
             0.8888888888888888,
             "#fdca26"
            ],
            [
             1,
             "#f0f921"
            ]
           ]
          },
          "colorway": [
           "#636efa",
           "#EF553B",
           "#00cc96",
           "#ab63fa",
           "#FFA15A",
           "#19d3f3",
           "#FF6692",
           "#B6E880",
           "#FF97FF",
           "#FECB52"
          ],
          "font": {
           "color": "#2a3f5f"
          },
          "geo": {
           "bgcolor": "white",
           "lakecolor": "white",
           "landcolor": "#E5ECF6",
           "showlakes": true,
           "showland": true,
           "subunitcolor": "white"
          },
          "hoverlabel": {
           "align": "left"
          },
          "hovermode": "closest",
          "mapbox": {
           "style": "light"
          },
          "paper_bgcolor": "white",
          "plot_bgcolor": "#E5ECF6",
          "polar": {
           "angularaxis": {
            "gridcolor": "white",
            "linecolor": "white",
            "ticks": ""
           },
           "bgcolor": "#E5ECF6",
           "radialaxis": {
            "gridcolor": "white",
            "linecolor": "white",
            "ticks": ""
           }
          },
          "scene": {
           "xaxis": {
            "backgroundcolor": "#E5ECF6",
            "gridcolor": "white",
            "gridwidth": 2,
            "linecolor": "white",
            "showbackground": true,
            "ticks": "",
            "zerolinecolor": "white"
           },
           "yaxis": {
            "backgroundcolor": "#E5ECF6",
            "gridcolor": "white",
            "gridwidth": 2,
            "linecolor": "white",
            "showbackground": true,
            "ticks": "",
            "zerolinecolor": "white"
           },
           "zaxis": {
            "backgroundcolor": "#E5ECF6",
            "gridcolor": "white",
            "gridwidth": 2,
            "linecolor": "white",
            "showbackground": true,
            "ticks": "",
            "zerolinecolor": "white"
           }
          },
          "shapedefaults": {
           "line": {
            "color": "#2a3f5f"
           }
          },
          "ternary": {
           "aaxis": {
            "gridcolor": "white",
            "linecolor": "white",
            "ticks": ""
           },
           "baxis": {
            "gridcolor": "white",
            "linecolor": "white",
            "ticks": ""
           },
           "bgcolor": "#E5ECF6",
           "caxis": {
            "gridcolor": "white",
            "linecolor": "white",
            "ticks": ""
           }
          },
          "title": {
           "x": 0.05
          },
          "xaxis": {
           "automargin": true,
           "gridcolor": "white",
           "linecolor": "white",
           "ticks": "",
           "title": {
            "standoff": 15
           },
           "zerolinecolor": "white",
           "zerolinewidth": 2
          },
          "yaxis": {
           "automargin": true,
           "gridcolor": "white",
           "linecolor": "white",
           "ticks": "",
           "title": {
            "standoff": 15
           },
           "zerolinecolor": "white",
           "zerolinewidth": 2
          }
         }
        },
        "title": {
         "text": "MOP: [Zr3O(OH)3(C5H5)3]4[(C6H3)(CO2)3]4\n AM: https://www.theworldavatar.com/kg/ontomops/AssemblyModel_793984ba-26f8-4770-aca3-e94b07f632f4"
        },
        "width": 1200
       }
      }
     },
     "metadata": {},
     "output_type": "display_data"
    }
   ],
   "source": [
    "# The visualisation is implemented using plotly - https://github.com/plotly/plotly.py/issues/931#issuecomment-2098209279\n",
    "# TODO delete import plotly.io as pio\n",
    "# pio.renderers.default = \"jupyterlab+png\"\n",
    "# To see the interactive plot, please replace `https://github.com/` with `https://nbviewer.org/github/` in the URL of the notebook\n",
    "fig = new_mop.visualise()"
   ]
  },
  {
   "cell_type": "markdown",
   "metadata": {},
   "source": [
    "## Example 2: Assemble MOP using user-provided xyz for new CBUs"
   ]
  },
  {
   "cell_type": "markdown",
   "metadata": {},
   "source": [
    "For example, we now want to instantiate a MOP from literature that has CBU doesn't exist in the existing graph:\n",
    "- MOP (CCDC [1955206](https://dx.doi.org/10.5517/ccdc.csd.cc23mk5h), from paper \"[Ligand-Based Phase Control in Porous Zirconium Coordination Cages](https://doi.org/10.1021/acs.chemmater.0c01965)\")\n",
    "- Metal CBU: `[Zr3O(OH)3(C5H5)3]` (`<https://www.theworldavatar.com/kg/ontomops/ChemicalBuildingUnit_3d71c19a-ab54-4993-8c94-267dcfe41792_0>`) functioning as `3-pyramidal`\n",
    "- Organic CBU: `[(C6H3)(CH3)(CO2)2]` (**doesn't exist in the graph**) functioning as `2-linear`\n",
    "- Assembly model `(3-pyramidal)x4(2-linear)x6_Td` (`<https://www.theworldavatar.com/kg/ontomops/AssemblyModel_3d71c19a-ab54-4993-8c94-267dcfe41792>`)\n",
    "\n",
    "Therefore, we need to first provide the xyz file."
   ]
  },
  {
   "cell_type": "markdown",
   "metadata": {},
   "source": [
    "`./example_cbu.xyz`\n",
    "```xyz\n",
    "21\n",
    "\n",
    "O       16.8813   14.6196    5.0518\n",
    "O       15.4873   13.7816    3.5101\n",
    "O       12.6994   12.0630   10.0028\n",
    "O       11.3814   11.2821    8.3778\n",
    "C       15.8852   13.9329    4.6907\n",
    "C      15.1049   13.2574    5.7687\n",
    "C      15.5103   13.1797    7.0945\n",
    "C      14.6456   12.6798    8.0610\n",
    "H      14.9235   12.6270    8.9669\n",
    "C      13.3688   12.2609    7.6999\n",
    "C      12.9635   12.3386    6.3723\n",
    "H      12.0913   12.0496    6.1257\n",
    "C      13.8282   12.8351    5.4076\n",
    "H      13.5508   12.8886    4.5004\n",
    "C      16.8816   13.6593    7.6609\n",
    "H     17.4385   13.9962    6.9283\n",
    "H     17.3363   12.9094    8.0986\n",
    "H     16.7325   14.3758    8.3134\n",
    "C       12.4332   11.8320    8.7796\n",
    "X     12.17133  11.72570  9.05340\n",
    "X     16.08460  14.11137  4.41753\n",
    "```\n",
    "\n",
    "where `X` refers to dummy atom to indicate the binding site."
   ]
  },
  {
   "cell_type": "code",
   "execution_count": 12,
   "metadata": {},
   "outputs": [
    {
     "name": "stdout",
     "output_type": "stream",
     "text": [
      "{\"2\": {\"atom\": \"O\", \"coordinate_x\": 16.8813, \"coordinate_y\": 14.6196, \"coordinate_z\": 5.0518}, \"3\": {\"atom\": \"O\", \"coordinate_x\": 15.4873, \"coordinate_y\": 13.7816, \"coordinate_z\": 3.5101}, \"4\": {\"atom\": \"O\", \"coordinate_x\": 12.6994, \"coordinate_y\": 12.063, \"coordinate_z\": 10.0028}, \"5\": {\"atom\": \"O\", \"coordinate_x\": 11.3814, \"coordinate_y\": 11.2821, \"coordinate_z\": 8.3778}, \"6\": {\"atom\": \"C\", \"coordinate_x\": 15.8852, \"coordinate_y\": 13.9329, \"coordinate_z\": 4.6907}, \"7\": {\"atom\": \"C\", \"coordinate_x\": 15.1049, \"coordinate_y\": 13.2574, \"coordinate_z\": 5.7687}, \"8\": {\"atom\": \"C\", \"coordinate_x\": 15.5103, \"coordinate_y\": 13.1797, \"coordinate_z\": 7.0945}, \"9\": {\"atom\": \"C\", \"coordinate_x\": 14.6456, \"coordinate_y\": 12.6798, \"coordinate_z\": 8.061}, \"10\": {\"atom\": \"H\", \"coordinate_x\": 14.9235, \"coordinate_y\": 12.627, \"coordinate_z\": 8.9669}, \"11\": {\"atom\": \"C\", \"coordinate_x\": 13.3688, \"coordinate_y\": 12.2609, \"coordinate_z\": 7.6999}, \"12\": {\"atom\": \"C\", \"coordinate_x\": 12.9635, \"coordinate_y\": 12.3386, \"coordinate_z\": 6.3723}, \"13\": {\"atom\": \"H\", \"coordinate_x\": 12.0913, \"coordinate_y\": 12.0496, \"coordinate_z\": 6.1257}, \"14\": {\"atom\": \"C\", \"coordinate_x\": 13.8282, \"coordinate_y\": 12.8351, \"coordinate_z\": 5.4076}, \"15\": {\"atom\": \"H\", \"coordinate_x\": 13.5508, \"coordinate_y\": 12.8886, \"coordinate_z\": 4.5004}, \"16\": {\"atom\": \"C\", \"coordinate_x\": 16.8816, \"coordinate_y\": 13.6593, \"coordinate_z\": 7.6609}, \"17\": {\"atom\": \"H\", \"coordinate_x\": 17.4385, \"coordinate_y\": 13.9962, \"coordinate_z\": 6.9283}, \"18\": {\"atom\": \"H\", \"coordinate_x\": 17.3363, \"coordinate_y\": 12.9094, \"coordinate_z\": 8.0986}, \"19\": {\"atom\": \"H\", \"coordinate_x\": 16.7325, \"coordinate_y\": 14.3758, \"coordinate_z\": 8.3134}, \"20\": {\"atom\": \"C\", \"coordinate_x\": 12.4332, \"coordinate_y\": 11.832, \"coordinate_z\": 8.7796}, \"21\": {\"atom\": \"X\", \"coordinate_x\": 12.17133, \"coordinate_y\": 11.7257, \"coordinate_z\": 9.0534}, \"22\": {\"atom\": \"X\", \"coordinate_x\": 16.0846, \"coordinate_y\": 14.11137, \"coordinate_z\": 4.41753}}\n",
      "{'2': {'atom': 'O', 'coordinate_x': 16.8813, 'coordinate_y': 14.6196, 'coordinate_z': 5.0518}, '3': {'atom': 'O', 'coordinate_x': 15.4873, 'coordinate_y': 13.7816, 'coordinate_z': 3.5101}, '4': {'atom': 'O', 'coordinate_x': 12.6994, 'coordinate_y': 12.063, 'coordinate_z': 10.0028}, '5': {'atom': 'O', 'coordinate_x': 11.3814, 'coordinate_y': 11.2821, 'coordinate_z': 8.3778}, '6': {'atom': 'C', 'coordinate_x': 15.8852, 'coordinate_y': 13.9329, 'coordinate_z': 4.6907}, '7': {'atom': 'C', 'coordinate_x': 15.1049, 'coordinate_y': 13.2574, 'coordinate_z': 5.7687}, '8': {'atom': 'C', 'coordinate_x': 15.5103, 'coordinate_y': 13.1797, 'coordinate_z': 7.0945}, '9': {'atom': 'C', 'coordinate_x': 14.6456, 'coordinate_y': 12.6798, 'coordinate_z': 8.061}, '10': {'atom': 'H', 'coordinate_x': 14.9235, 'coordinate_y': 12.627, 'coordinate_z': 8.9669}, '11': {'atom': 'C', 'coordinate_x': 13.3688, 'coordinate_y': 12.2609, 'coordinate_z': 7.6999}, '12': {'atom': 'C', 'coordinate_x': 12.9635, 'coordinate_y': 12.3386, 'coordinate_z': 6.3723}, '13': {'atom': 'H', 'coordinate_x': 12.0913, 'coordinate_y': 12.0496, 'coordinate_z': 6.1257}, '14': {'atom': 'C', 'coordinate_x': 13.8282, 'coordinate_y': 12.8351, 'coordinate_z': 5.4076}, '15': {'atom': 'H', 'coordinate_x': 13.5508, 'coordinate_y': 12.8886, 'coordinate_z': 4.5004}, '16': {'atom': 'C', 'coordinate_x': 16.8816, 'coordinate_y': 13.6593, 'coordinate_z': 7.6609}, '17': {'atom': 'H', 'coordinate_x': 17.4385, 'coordinate_y': 13.9962, 'coordinate_z': 6.9283}, '18': {'atom': 'H', 'coordinate_x': 17.3363, 'coordinate_y': 12.9094, 'coordinate_z': 8.0986}, '19': {'atom': 'H', 'coordinate_x': 16.7325, 'coordinate_y': 14.3758, 'coordinate_z': 8.3134}, '20': {'atom': 'C', 'coordinate_x': 12.4332, 'coordinate_y': 11.832, 'coordinate_z': 8.7796}, '21': {'atom': 'X', 'coordinate_x': 12.17133, 'coordinate_y': 11.7257, 'coordinate_z': 9.0534}, '22': {'atom': 'X', 'coordinate_x': 16.0846, 'coordinate_y': 14.11137, 'coordinate_z': 4.41753}}\n"
     ]
    }
   ],
   "source": [
    "# The first step is to create a new CBU entry in the KG\n",
    "# Assume that we have the xyz file of the CBU and the necessary parameters\n",
    "# NOTE the following example xyz file includes the dummy atoms for the CBU\n",
    "new_cbu_xyz_fpath = './example_cbu.xyz'\n",
    "\n",
    "new_cbu = ontomops.ChemicalBuildingUnit.from_geometry_xyz(\n",
    "    cbu_formula='[(C6H3)(CH3)(CO2)2]',\n",
    "    cbu_xyz_fpath=new_cbu_xyz_fpath,\n",
    "    charge=-2,\n",
    "    ocn=2,\n",
    "    binding_fragment='CO2',\n",
    "    gbu_type='2-linear',\n",
    "    gbu='https://www.theworldavatar.com/kg/ontomops/GenericBuildingUnit_7eb74ecd-84c2-4d36-bb2b-cb13d300e3e1', # the IRI of the 2-linear GBU in this AM\n",
    ")"
   ]
  },
  {
   "cell_type": "code",
   "execution_count": 13,
   "metadata": {},
   "outputs": [
    {
     "data": {
      "application/vnd.plotly.v1+json": {
       "config": {
        "plotlyServerURL": "https://plot.ly"
       },
       "data": [
        {
         "hovertemplate": "Atom=O<br>X=%{x}<br>Y=%{y}<br>Z=%{z}<extra></extra>",
         "legendgroup": "O",
         "marker": {
          "color": "#636efa",
          "size": 2,
          "symbol": "circle"
         },
         "mode": "markers",
         "name": "O",
         "scene": "scene",
         "showlegend": true,
         "type": "scatter3d",
         "x": {
          "bdata": "/fZ14JzhMEB9rrZif/kuQBKlvcEXZilAiGNd3EbDJkA=",
          "dtype": "f8"
         },
         "y": {
          "bdata": "BTQRNjw9LUBxGw3gLZArQMdLN4lBIChAOGdEaW+QJkA=",
          "dtype": "f8"
         },
         "z": {
          "bdata": "MLsnDws1FEBNhA1PrxQMQIzbaABvASRAjNtoAG/BIEA=",
          "dtype": "f8"
         }
        },
        {
         "hovertemplate": "Atom=C<br>X=%{x}<br>Y=%{y}<br>Z=%{z}<extra></extra>",
         "legendgroup": "C",
         "marker": {
          "color": "#EF553B",
          "size": 2,
          "symbol": "circle"
         },
         "mode": "markers",
         "name": "C",
         "scene": "scene",
         "showlegend": true,
         "type": "scatter3d",
         "x": {
          "bdata": "odY07zjFL0Bos+pztTUuQDBMpgpGBS9AX5hMFYxKLUCUh4Va07wqQFpkO99P7SlAKxiV1AmoK0BSJ6CJsOEwQCBB8WPM3ShA",
          "dtype": "f8"
         },
         "y": {
          "bdata": "duCcEaXdK0AW+8vuyYMqQLIubqMBXCpAQKTfvg5cKUCEDU+vlIUoQOjZrPpcrShAescpOpKrKUBvgQTFj1ErQESLbOf7qSdA",
          "dtype": "f8"
         },
         "z": {
          "bdata": "iGNd3EbDEkClvcEXJhMXQFTjpZvEYBxArBxaZDsfIECx4emVssweQAU0ETY8fRlA/mX35GGhFUCitDf4wqQeQFfsL7snjyFA",
          "dtype": "f8"
         }
        },
        {
         "hovertemplate": "Atom=H<br>X=%{x}<br>Y=%{y}<br>Z=%{z}<extra></extra>",
         "legendgroup": "H",
         "marker": {
          "color": "#00cc96",
          "size": 2,
          "symbol": "circle"
         },
         "mode": "markers",
         "name": "H",
         "scene": "scene",
         "showlegend": true,
         "type": "scatter3d",
         "x": {
          "bdata": "Rrbz/dTYLUDmP6Tfvi4oQAtGJXUCGitAx0s3iUFwMUASpb3BF1YxQOxRuB6FuzBA",
          "dtype": "f8"
         },
         "y": {
          "bdata": "Gy/dJAZBKUBhw9MrZRkoQIJzRpT2xilA54wo7Q3+K0D99nXgnNEpQHGsi9towCxA",
          "dtype": "f8"
         },
         "z": {
          "bdata": "OwFNhA3vIUDGbTSAt4AYQHGsi9toABJA2IFzRpS2G0Btxf6yezIgQP8h/fZ1oCBA",
          "dtype": "f8"
         }
        },
        {
         "hovertemplate": "Atom=BindingSite<br>X=%{x}<br>Y=%{y}<br>Z=%{z}<extra></extra>",
         "legendgroup": "BindingSite",
         "marker": {
          "color": "#ab63fa",
          "size": 2,
          "symbol": "circle"
         },
         "mode": "markers",
         "name": "BindingSite",
         "scene": "scene",
         "showlegend": true,
         "type": "scatter3d",
         "x": {
          "bdata": "PcOuALlXKEDZPXlYqBUwQA==",
          "dtype": "f8"
         },
         "y": {
          "bdata": "F2pN845zJ0BPZT4NBTksQA==",
          "dtype": "f8"
         },
         "z": {
          "bdata": "ezarPlcbIkBKoK7bjasRQA==",
          "dtype": "f8"
         }
        },
        {
         "hovertemplate": "Atom=AssemblyCenter<br>X=%{x}<br>Y=%{y}<br>Z=%{z}<extra></extra>",
         "legendgroup": "AssemblyCenter",
         "marker": {
          "color": "#FFA15A",
          "size": 2,
          "symbol": "circle"
         },
         "mode": "markers",
         "name": "AssemblyCenter",
         "scene": "scene",
         "showlegend": true,
         "type": "scatter3d",
         "x": {
          "bdata": "eJ/Q2IRBLEA=",
          "dtype": "f8"
         },
         "y": {
          "bdata": "s+dFAErWKUA=",
          "dtype": "f8"
         },
         "z": {
          "bdata": "oIaCLB7xGkA=",
          "dtype": "f8"
         }
        }
       ],
       "layout": {
        "autosize": false,
        "height": 400,
        "legend": {
         "title": {
          "text": "Atom"
         },
         "tracegroupgap": 0
        },
        "scene": {
         "domain": {
          "x": [
           0,
           1
          ],
          "y": [
           0,
           1
          ]
         },
         "xaxis": {
          "title": {
           "text": "X"
          }
         },
         "yaxis": {
          "title": {
           "text": "Y"
          }
         },
         "zaxis": {
          "title": {
           "text": "Z"
          }
         }
        },
        "template": {
         "data": {
          "bar": [
           {
            "error_x": {
             "color": "#2a3f5f"
            },
            "error_y": {
             "color": "#2a3f5f"
            },
            "marker": {
             "line": {
              "color": "#E5ECF6",
              "width": 0.5
             },
             "pattern": {
              "fillmode": "overlay",
              "size": 10,
              "solidity": 0.2
             }
            },
            "type": "bar"
           }
          ],
          "barpolar": [
           {
            "marker": {
             "line": {
              "color": "#E5ECF6",
              "width": 0.5
             },
             "pattern": {
              "fillmode": "overlay",
              "size": 10,
              "solidity": 0.2
             }
            },
            "type": "barpolar"
           }
          ],
          "carpet": [
           {
            "aaxis": {
             "endlinecolor": "#2a3f5f",
             "gridcolor": "white",
             "linecolor": "white",
             "minorgridcolor": "white",
             "startlinecolor": "#2a3f5f"
            },
            "baxis": {
             "endlinecolor": "#2a3f5f",
             "gridcolor": "white",
             "linecolor": "white",
             "minorgridcolor": "white",
             "startlinecolor": "#2a3f5f"
            },
            "type": "carpet"
           }
          ],
          "choropleth": [
           {
            "colorbar": {
             "outlinewidth": 0,
             "ticks": ""
            },
            "type": "choropleth"
           }
          ],
          "contour": [
           {
            "colorbar": {
             "outlinewidth": 0,
             "ticks": ""
            },
            "colorscale": [
             [
              0,
              "#0d0887"
             ],
             [
              0.1111111111111111,
              "#46039f"
             ],
             [
              0.2222222222222222,
              "#7201a8"
             ],
             [
              0.3333333333333333,
              "#9c179e"
             ],
             [
              0.4444444444444444,
              "#bd3786"
             ],
             [
              0.5555555555555556,
              "#d8576b"
             ],
             [
              0.6666666666666666,
              "#ed7953"
             ],
             [
              0.7777777777777778,
              "#fb9f3a"
             ],
             [
              0.8888888888888888,
              "#fdca26"
             ],
             [
              1,
              "#f0f921"
             ]
            ],
            "type": "contour"
           }
          ],
          "contourcarpet": [
           {
            "colorbar": {
             "outlinewidth": 0,
             "ticks": ""
            },
            "type": "contourcarpet"
           }
          ],
          "heatmap": [
           {
            "colorbar": {
             "outlinewidth": 0,
             "ticks": ""
            },
            "colorscale": [
             [
              0,
              "#0d0887"
             ],
             [
              0.1111111111111111,
              "#46039f"
             ],
             [
              0.2222222222222222,
              "#7201a8"
             ],
             [
              0.3333333333333333,
              "#9c179e"
             ],
             [
              0.4444444444444444,
              "#bd3786"
             ],
             [
              0.5555555555555556,
              "#d8576b"
             ],
             [
              0.6666666666666666,
              "#ed7953"
             ],
             [
              0.7777777777777778,
              "#fb9f3a"
             ],
             [
              0.8888888888888888,
              "#fdca26"
             ],
             [
              1,
              "#f0f921"
             ]
            ],
            "type": "heatmap"
           }
          ],
          "histogram": [
           {
            "marker": {
             "pattern": {
              "fillmode": "overlay",
              "size": 10,
              "solidity": 0.2
             }
            },
            "type": "histogram"
           }
          ],
          "histogram2d": [
           {
            "colorbar": {
             "outlinewidth": 0,
             "ticks": ""
            },
            "colorscale": [
             [
              0,
              "#0d0887"
             ],
             [
              0.1111111111111111,
              "#46039f"
             ],
             [
              0.2222222222222222,
              "#7201a8"
             ],
             [
              0.3333333333333333,
              "#9c179e"
             ],
             [
              0.4444444444444444,
              "#bd3786"
             ],
             [
              0.5555555555555556,
              "#d8576b"
             ],
             [
              0.6666666666666666,
              "#ed7953"
             ],
             [
              0.7777777777777778,
              "#fb9f3a"
             ],
             [
              0.8888888888888888,
              "#fdca26"
             ],
             [
              1,
              "#f0f921"
             ]
            ],
            "type": "histogram2d"
           }
          ],
          "histogram2dcontour": [
           {
            "colorbar": {
             "outlinewidth": 0,
             "ticks": ""
            },
            "colorscale": [
             [
              0,
              "#0d0887"
             ],
             [
              0.1111111111111111,
              "#46039f"
             ],
             [
              0.2222222222222222,
              "#7201a8"
             ],
             [
              0.3333333333333333,
              "#9c179e"
             ],
             [
              0.4444444444444444,
              "#bd3786"
             ],
             [
              0.5555555555555556,
              "#d8576b"
             ],
             [
              0.6666666666666666,
              "#ed7953"
             ],
             [
              0.7777777777777778,
              "#fb9f3a"
             ],
             [
              0.8888888888888888,
              "#fdca26"
             ],
             [
              1,
              "#f0f921"
             ]
            ],
            "type": "histogram2dcontour"
           }
          ],
          "mesh3d": [
           {
            "colorbar": {
             "outlinewidth": 0,
             "ticks": ""
            },
            "type": "mesh3d"
           }
          ],
          "parcoords": [
           {
            "line": {
             "colorbar": {
              "outlinewidth": 0,
              "ticks": ""
             }
            },
            "type": "parcoords"
           }
          ],
          "pie": [
           {
            "automargin": true,
            "type": "pie"
           }
          ],
          "scatter": [
           {
            "fillpattern": {
             "fillmode": "overlay",
             "size": 10,
             "solidity": 0.2
            },
            "type": "scatter"
           }
          ],
          "scatter3d": [
           {
            "line": {
             "colorbar": {
              "outlinewidth": 0,
              "ticks": ""
             }
            },
            "marker": {
             "colorbar": {
              "outlinewidth": 0,
              "ticks": ""
             }
            },
            "type": "scatter3d"
           }
          ],
          "scattercarpet": [
           {
            "marker": {
             "colorbar": {
              "outlinewidth": 0,
              "ticks": ""
             }
            },
            "type": "scattercarpet"
           }
          ],
          "scattergeo": [
           {
            "marker": {
             "colorbar": {
              "outlinewidth": 0,
              "ticks": ""
             }
            },
            "type": "scattergeo"
           }
          ],
          "scattergl": [
           {
            "marker": {
             "colorbar": {
              "outlinewidth": 0,
              "ticks": ""
             }
            },
            "type": "scattergl"
           }
          ],
          "scattermap": [
           {
            "marker": {
             "colorbar": {
              "outlinewidth": 0,
              "ticks": ""
             }
            },
            "type": "scattermap"
           }
          ],
          "scattermapbox": [
           {
            "marker": {
             "colorbar": {
              "outlinewidth": 0,
              "ticks": ""
             }
            },
            "type": "scattermapbox"
           }
          ],
          "scatterpolar": [
           {
            "marker": {
             "colorbar": {
              "outlinewidth": 0,
              "ticks": ""
             }
            },
            "type": "scatterpolar"
           }
          ],
          "scatterpolargl": [
           {
            "marker": {
             "colorbar": {
              "outlinewidth": 0,
              "ticks": ""
             }
            },
            "type": "scatterpolargl"
           }
          ],
          "scatterternary": [
           {
            "marker": {
             "colorbar": {
              "outlinewidth": 0,
              "ticks": ""
             }
            },
            "type": "scatterternary"
           }
          ],
          "surface": [
           {
            "colorbar": {
             "outlinewidth": 0,
             "ticks": ""
            },
            "colorscale": [
             [
              0,
              "#0d0887"
             ],
             [
              0.1111111111111111,
              "#46039f"
             ],
             [
              0.2222222222222222,
              "#7201a8"
             ],
             [
              0.3333333333333333,
              "#9c179e"
             ],
             [
              0.4444444444444444,
              "#bd3786"
             ],
             [
              0.5555555555555556,
              "#d8576b"
             ],
             [
              0.6666666666666666,
              "#ed7953"
             ],
             [
              0.7777777777777778,
              "#fb9f3a"
             ],
             [
              0.8888888888888888,
              "#fdca26"
             ],
             [
              1,
              "#f0f921"
             ]
            ],
            "type": "surface"
           }
          ],
          "table": [
           {
            "cells": {
             "fill": {
              "color": "#EBF0F8"
             },
             "line": {
              "color": "white"
             }
            },
            "header": {
             "fill": {
              "color": "#C8D4E3"
             },
             "line": {
              "color": "white"
             }
            },
            "type": "table"
           }
          ]
         },
         "layout": {
          "annotationdefaults": {
           "arrowcolor": "#2a3f5f",
           "arrowhead": 0,
           "arrowwidth": 1
          },
          "autotypenumbers": "strict",
          "coloraxis": {
           "colorbar": {
            "outlinewidth": 0,
            "ticks": ""
           }
          },
          "colorscale": {
           "diverging": [
            [
             0,
             "#8e0152"
            ],
            [
             0.1,
             "#c51b7d"
            ],
            [
             0.2,
             "#de77ae"
            ],
            [
             0.3,
             "#f1b6da"
            ],
            [
             0.4,
             "#fde0ef"
            ],
            [
             0.5,
             "#f7f7f7"
            ],
            [
             0.6,
             "#e6f5d0"
            ],
            [
             0.7,
             "#b8e186"
            ],
            [
             0.8,
             "#7fbc41"
            ],
            [
             0.9,
             "#4d9221"
            ],
            [
             1,
             "#276419"
            ]
           ],
           "sequential": [
            [
             0,
             "#0d0887"
            ],
            [
             0.1111111111111111,
             "#46039f"
            ],
            [
             0.2222222222222222,
             "#7201a8"
            ],
            [
             0.3333333333333333,
             "#9c179e"
            ],
            [
             0.4444444444444444,
             "#bd3786"
            ],
            [
             0.5555555555555556,
             "#d8576b"
            ],
            [
             0.6666666666666666,
             "#ed7953"
            ],
            [
             0.7777777777777778,
             "#fb9f3a"
            ],
            [
             0.8888888888888888,
             "#fdca26"
            ],
            [
             1,
             "#f0f921"
            ]
           ],
           "sequentialminus": [
            [
             0,
             "#0d0887"
            ],
            [
             0.1111111111111111,
             "#46039f"
            ],
            [
             0.2222222222222222,
             "#7201a8"
            ],
            [
             0.3333333333333333,
             "#9c179e"
            ],
            [
             0.4444444444444444,
             "#bd3786"
            ],
            [
             0.5555555555555556,
             "#d8576b"
            ],
            [
             0.6666666666666666,
             "#ed7953"
            ],
            [
             0.7777777777777778,
             "#fb9f3a"
            ],
            [
             0.8888888888888888,
             "#fdca26"
            ],
            [
             1,
             "#f0f921"
            ]
           ]
          },
          "colorway": [
           "#636efa",
           "#EF553B",
           "#00cc96",
           "#ab63fa",
           "#FFA15A",
           "#19d3f3",
           "#FF6692",
           "#B6E880",
           "#FF97FF",
           "#FECB52"
          ],
          "font": {
           "color": "#2a3f5f"
          },
          "geo": {
           "bgcolor": "white",
           "lakecolor": "white",
           "landcolor": "#E5ECF6",
           "showlakes": true,
           "showland": true,
           "subunitcolor": "white"
          },
          "hoverlabel": {
           "align": "left"
          },
          "hovermode": "closest",
          "mapbox": {
           "style": "light"
          },
          "paper_bgcolor": "white",
          "plot_bgcolor": "#E5ECF6",
          "polar": {
           "angularaxis": {
            "gridcolor": "white",
            "linecolor": "white",
            "ticks": ""
           },
           "bgcolor": "#E5ECF6",
           "radialaxis": {
            "gridcolor": "white",
            "linecolor": "white",
            "ticks": ""
           }
          },
          "scene": {
           "xaxis": {
            "backgroundcolor": "#E5ECF6",
            "gridcolor": "white",
            "gridwidth": 2,
            "linecolor": "white",
            "showbackground": true,
            "ticks": "",
            "zerolinecolor": "white"
           },
           "yaxis": {
            "backgroundcolor": "#E5ECF6",
            "gridcolor": "white",
            "gridwidth": 2,
            "linecolor": "white",
            "showbackground": true,
            "ticks": "",
            "zerolinecolor": "white"
           },
           "zaxis": {
            "backgroundcolor": "#E5ECF6",
            "gridcolor": "white",
            "gridwidth": 2,
            "linecolor": "white",
            "showbackground": true,
            "ticks": "",
            "zerolinecolor": "white"
           }
          },
          "shapedefaults": {
           "line": {
            "color": "#2a3f5f"
           }
          },
          "ternary": {
           "aaxis": {
            "gridcolor": "white",
            "linecolor": "white",
            "ticks": ""
           },
           "baxis": {
            "gridcolor": "white",
            "linecolor": "white",
            "ticks": ""
           },
           "bgcolor": "#E5ECF6",
           "caxis": {
            "gridcolor": "white",
            "linecolor": "white",
            "ticks": ""
           }
          },
          "title": {
           "x": 0.05
          },
          "xaxis": {
           "automargin": true,
           "gridcolor": "white",
           "linecolor": "white",
           "ticks": "",
           "title": {
            "standoff": 15
           },
           "zerolinecolor": "white",
           "zerolinewidth": 2
          },
          "yaxis": {
           "automargin": true,
           "gridcolor": "white",
           "linecolor": "white",
           "ticks": "",
           "title": {
            "standoff": 15
           },
           "zerolinecolor": "white",
           "zerolinewidth": 2
          }
         }
        },
        "title": {
         "text": "CBU: [(C6H3)(CH3)(CO2)2]"
        },
        "width": 1200
       }
      }
     },
     "metadata": {},
     "output_type": "display_data"
    }
   ],
   "source": [
    "# We can now visualise the added CBU\n",
    "fig_new_cbu = new_cbu.visualise()"
   ]
  },
  {
   "cell_type": "code",
   "execution_count": 14,
   "metadata": {},
   "outputs": [],
   "source": [
    "# Define the MOPs to be constructed\n",
    "data_example_2 = {\n",
    "    'metal_cbu_iri': 'https://www.theworldavatar.com/kg/ontomops/ChemicalBuildingUnit_3d71c19a-ab54-4993-8c94-267dcfe41792_0', # [Zr3O(OH)3(C5H5)3]\n",
    "    'am_iri': 'https://www.theworldavatar.com/kg/ontomops/AssemblyModel_3d71c19a-ab54-4993-8c94-267dcfe41792', # (3-pyramidal)x4(2-linear)x6_Td\n",
    "}"
   ]
  },
  {
   "cell_type": "code",
   "execution_count": 15,
   "metadata": {},
   "outputs": [],
   "source": [
    "# Pull the CBUs and AM from the KG - this might take one minute if the KG is large\n",
    "metal_cbu = ontomops.ChemicalBuildingUnit.pull_from_kg(\n",
    "    [data_example_2['metal_cbu_iri']],\n",
    "    sparql_client,\n",
    "    -1, # -1 means full recursion\n",
    ")[0] # The query returns a list, but we know there is only one CBU\n",
    "am = ontomops.AssemblyModel.pull_from_kg(\n",
    "    [data_example_2['am_iri']],\n",
    "    sparql_client,\n",
    "    -1\n",
    ")[0] # The query returns a list, but we know there is only one AM"
   ]
  },
  {
   "cell_type": "code",
   "execution_count": 16,
   "metadata": {},
   "outputs": [],
   "source": [
    "# Define the provenance information\n",
    "prov = ontomops.Provenance(hasReferenceDOI='Placeholder DOI for TWA OGM')"
   ]
  },
  {
   "cell_type": "code",
   "execution_count": 17,
   "metadata": {},
   "outputs": [],
   "source": [
    "# Assemble the MOP\n",
    "new_mop_example_2 = ontomops.MetalOrganicPolyhedron.from_assemble(am, [metal_cbu, new_cbu], prov, ccdc='1955206', sparql_client=sparql_client, data_dir=mops_conf.DATA_DIR)"
   ]
  },
  {
   "cell_type": "code",
   "execution_count": 18,
   "metadata": {},
   "outputs": [
    {
     "data": {
      "text/plain": [
       "'./data/xyz_mops_new\\\\(3-pyramidal)x4(2-linear)x6_Td___[Zr3O(OH)3(C5H5)3]4[(C6H3)(CH3)(CO2)2]6___1955206.xyz'"
      ]
     },
     "execution_count": 18,
     "metadata": {},
     "output_type": "execute_result"
    }
   ],
   "source": [
    "# Check the file path of the assembled XYZ file\n",
    "xyz_fpath = list(list(new_mop_example_2.hasGeometry)[0].hasGeometryFile)[0]\n",
    "xyz_fpath"
   ]
  },
  {
   "cell_type": "code",
   "execution_count": 19,
   "metadata": {},
   "outputs": [
    {
     "data": {
      "application/vnd.plotly.v1+json": {
       "config": {
        "plotlyServerURL": "https://plot.ly"
       },
       "data": [
        {
         "hovertemplate": "Atom=Zr<br>X=%{x}<br>Y=%{y}<br>Z=%{z}<extra></extra>",
         "legendgroup": "Zr",
         "marker": {
          "color": "#636efa",
          "size": 2,
          "symbol": "circle"
         },
         "mode": "markers",
         "name": "Zr",
         "scene": "scene",
         "showlegend": true,
         "type": "scatter3d",
         "x": {
          "bdata": "xs0JPM4RBsCHc5aRMHkUwJxrtCjOaBTAxM0JPM4RBsCIc5aRMHkUwJ1rtCjOaBTAyo4VBakwB0AJVBz2nQgVQB9MOo07+BRAFVuHVtIRFUDNiK/6LQUVQCoFUEurKAdA",
          "dtype": "f8"
         },
         "y": {
          "bdata": "ctEn/2LCFEDgfU1QqIAGQPuyK7CiyRRA1xfIqqnGFMCoCo6nNYkGwF75y1vpzRTAdNEn/2LCFEDifU1QqIAGQPyyK7CiyRRAsvQvTIKlBsD2hqmZCsMUwBB/xzCoshTA",
          "dtype": "f8"
         },
         "z": {
          "bdata": "lZNwuYaaFMBRwZhd4o0UwCt2IhEUOgbAF0IYj7D5FEDPb0AzDO0UQCXTcbxn+AZAG0IYj7D5FEDTb0AzDO0UQDXTcbxn+AZAZx0kavGUFMDGFUYmxSUGwO3+JxsxnBTA",
          "dtype": "f8"
         }
        },
        {
         "hovertemplate": "Atom=O<br>X=%{x}<br>Y=%{y}<br>Z=%{z}<extra></extra>",
         "legendgroup": "O",
         "marker": {
          "color": "#EF553B",
          "size": 2,
          "symbol": "circle"
         },
         "mode": "markers",
         "name": "O",
         "scene": "scene",
         "showlegend": true,
         "type": "scatter3d",
         "x": {
          "bdata": "WLRDie4aD8AXMmUN1NEQwFi9PDG2zxDAjrK/GClfGcBetEOJ7hoPwBcyZQ3U0RDAWL08MbbPEMCQsr8YKV8ZwK66J6nkHBBAmRLrcUFhEUDbncKVI18RQBCTRX2W7hlAIU8zhQ4mEEDZdPfEwXMRQJ2WyAESDhpAUfHClsFxEUDc7gVOqMP7P6Bg5DhCSgpAwpst+0mACcB859BBkNz4v16PKtW80RVA/JdjtaTMFUDnYZurk8sVQPsL3l70zxVAzGzuu/KF+b+an9hvZysJwMJcOcQknwpAfGno00Ua+z/drqRwT0IVwHu33VA3PRXAZoEVRyY8FcB6K1j6hkAVwIYIpTIOaAnAHHOodU7u+L8URFEA5A/8P/Js7rMxNgpAhgilMg5oCcAcc6h1Tu74vwREUQDkD/w/5mzuszE2CkA=",
          "dtype": "f8"
         },
         "y": {
          "bdata": "bsfBKVK2D0Cwc8O4J8IZQMnWpNAHCxFA2cW/c/opEUA8VAKB374PwBa6Y2RuxhnAMB1FfE4PEcA8DGAfQS4RwHLHwSlStg9AsXPDuCfCGUDN1qTQBwsRQNjFv3P6KRFAPttpmaKuD8CPRXgVrhsRwM7QTzmQGRHA/8XSIAOpGcBPwrd4KYwVwPDK8FgRhxXA15QoTwCGFcDvPmsCYYoVwE4vy0LC+wnAW8D0lbYV+r/F9QTge+j6P+JFyKN9oglA63sXzeKHFUCHhFCtyoIVQHFOiKO5gRVAh/jKVhqGFUDqoYrrNPMJQLWkc+ebBPo/Kw2Gjpb5+r8e0gj7CqsJwA2huS1AnPo/tDm+KI62CUCuwlML/hMKwEM1HWL4A/q/l7o63Fqt+r+Cxv5/G78JwNo1E7RwCwpArRucs93y+T8=",
          "dtype": "f8"
         },
         "z": {
          "bdata": "Ow850IVdD8BZreAndvwQwB3PsWTGlhnA0Sms+XX6EMAfNsS97A0QQNtbiP2fWxFAn31ZOvD1GUBP2FPPn1kRQCM2xL3sDRBA31uI/Z9bEUCjfVk68PUZQFPYU8+fWRFAWF+6/25bD8Cjv78jtpQZwL0ioTuW3RDAyRG83oj8EMB7OoPBUZgJwAXXZJPVTvm/C+CU4lyv+z/tOhAl7gUKQFnRqtl55vm/wtG2/qpbCcDlKls14W4KQPsFLLa+ufo/izqDwVGYCcAV12ST1U75v/vflOJcr/s/4ToQJe4FCkCJ06rZeeb5v0/Stv6qWwnAcytbNeFuCkAfCCy2vrn6P93HEzhxWhXAftBMGFlVFcBlmoQOSFQVwHtEx8GoWBXAXXa7DZu5FUD7fvTtgrQVQOVILORxsxVA+fJul9K3FUA=",
          "dtype": "f8"
         }
        },
        {
         "hovertemplate": "Atom=H<br>X=%{x}<br>Y=%{y}<br>Z=%{z}<extra></extra>",
         "legendgroup": "H",
         "marker": {
          "color": "#00cc96",
          "size": 2,
          "symbol": "circle"
         },
         "mode": "markers",
         "name": "H",
         "scene": "scene",
         "showlegend": true,
         "type": "scatter3d",
         "x": {
          "bdata": "+oROV/ufEcCwly+fSZURwBTaIt77XBvAoVRJm8ydFMCmUvMNgnogwCie0o0ZlCDAfltnrvFwCsBSWxIbyj7Wv5hdeB2XOATATMar83KtzD8AcpbQlwf6v4LM9KCf+xzA1JbbqO0IHcBWVEGiS2McwCVLwLiG8xPApbErC3vyFMAwLxeU4VgcwKlcZpM/lRTA+YROV/ufEcCzly+fSZURwBTaIt77XBvAo1RJm8ydFMCmUvMNgnogwCie0o0ZlCDAgFtnrvFwCsByWxIbyj7Wv5xdeB2XOATADMar83KtzD/8cZbQlwf6v4LM9KCf+xzA0pbbqO0IHcBWVEGiS2McwCdLwLiG8xPAprErC3vyFMAyLxeU4VgcwKxcZpM/lRTAfGXUu2gvEkA1eLUDtyQSQJa6qEJp7BtAJDXP/zktFUDmQjbAOMIgQGqOFUDQ2yBAhhxzd8yPC0B2Y3BjoDXfP5wehOZxVwVACGzfxYx/tb8I9K1iTUX8PwCtegUNix1AUndhDVuYHUDYNMcGufIcQKMrRh30ghRAJZKxb+iBFUCwD534TugcQC897PesJBVA0UXBi1NDEkDxuK0yFLMdQBxCYja/P8Q/zpqfFmCxIEBK6WdCH+YBQAUnjQeMshZAXUmWmsc/HEBdtr5HIaEdQABsPsbs3yBAHWBWJ/yZFUAdlJyE8sQUQP1dCYHgRhJAel1viDzEC0BxJou958IeQDixhXn4wLA/Ovux+9AwAUA9ymaN4DsUQLUwxU0K0BpAYukGxxFXAcDvzVB7tDPmP+489QxZeQJAREr8RRSvwr/kPg9YIRH1v4Qpo0YaaPi/Gf4EsOUcE0Ap7f2ak+4WQEWIREaFwhZAkReYUI2REkBgAj4MoigOQIH3fq9/WhVAaqoSkOx1AkDxySFXSbjhv+p76UN+WgHAXi1ca2BO0j/8wCbq1k73P5SrutjPpfo/mR1/S3iNEsCnDHg2Jl8WwMWnvuEXMxbAEzcS7B8CEsBkQTJDxwkNwAIX+UoSyxTAMt3HRwOp3L+qPhnHBBMCQKc0dOMQJOI/ZnGz7sqPCsAeCluaS1EFwJYKtMryOgfAct3HRwOp3L+qPhnHBBMCQKc0dOMQJOI/bnGz7sqPCsA2CluaS1EFwJ4KtMryOgfA",
          "dtype": "f8"
         },
         "y": {
          "bdata": "gQyNHIVhHUAKJITEosoRQFkJcuz+PxRAzWQbGC9c/j8NkHP9cc0VQDRvmu5EYwNAV99TLc45H0DFgCA1RrwTQASjz1MoLxdA4FSyBvCmGUAvBGfqrWcgQGrlJK24/xFAsBI0lmP2HUBa8ubRx5MLQGQ5SGP8PxtAlXIz4QidIEDG729NmTHNPzPVr9t3ULe/5FItyMtlHcBwaiRw6c4RwL5PEphFRBTAX36cxklt/r9z1hOpuNEVwAD82kXSawPAviX02BQ+H8Apx8DgjMATwGjpb/9uMxfAQ5tSsjarGcBgJzdA0WkgwM0rxVj/AxLAF1nUQar6HcAnfycpVZwLwMd/6A5DRBvAx5UDNyyfIMAavHjBbrrNv808nvPMPrY/gwyNHIVhHUAMJITEosoRQFsJcuz+PxRA0WQbGC9c/j8RkHP9cc0VQDZvmu5EYwNAV99TLc45H0DFgCA1RrwTQAWjz1MoLxdA4VSyBvCmGUAvBGfqrWcgQG3lJK24/xFAsBI0lmP2HUBe8ubRx5MLQGc5SGP8PxtAlXIz4QidIEAG8G9NmTHNP7PUr9t3ULe/cJhhX9XpEcAoq0KnI98RwIPtNebVphvAFGhco6bnFMBe3PwRb58gwOAn3JEGuSDAdIKNvqUEC8DNkkOcatzav4qEni1LzATAJldJ8TFywz/nv+Lw/y77v/PfB6l5RR3ASarusMdSHcDJZ1SqJa0cwJle08BgPRTAHcU+E1U8FcCbQiqcu6IcwBdweZsZ3xTACzGSU1LXEsAeIIs+AKkWwDq70enxfBbAg0ol9PlLEsBFaFhTe50NwHMqDFPsFBXA9op85FGj4L/SF/O2UH8BQJMzt0WBqt8/XpjZ/n4jC8AmMYGq/+QFwJ4x2tqmzgfAp+rxpwvTEkCz2eqSuaQWQNF0MT6reBZAHwSFSLNHEkB92xf87ZQNQA/ka6elEBVA6lp6hxyB4D/OpDMO3ocBwK2fu//r7t+/mguZp/EaC0DqpEBTctwFQGKlmYMZxgdAShAt18XqAcBSMrg65OTjPwgWz/yk5QFAGrleSFXqy7+zjFt4iTj2v2N372aCj/m/goPsfzjiAUB+ZbqXGQfkv9CiD1Qy7gHAhuxV1H9hyz8tc9rJbif2P71dbrhnfvk/",
          "dtype": "f8"
         },
         "z": {
          "bdata": "TX6q7gfMEcBt8ZaVyDsdwKRIJU4uWaW/DzcUSLp1IMBTWjoIiPcAwIlfdmpAOxbA3YF//XvIG8DZ7qeq1SkdwEMIs/dGpCDAnZg/irAiFcCdzIXnpk0UwIGW8uOUzxHAc85BTqXVCsD5XnQgnEsewFxbWJjdI6o/O2yEwTlCAMC9AlDwlMQTwDVprrC+WBrAxyxSxDErEkDvnz5r8podQNchf0iGO8E/Tw7oMk+lIEBFt4mz27UBQAcOHkBqmhZAVzAn06UnHEBXnU+A/4gdQH3fhuLb0yBAG0fnX9qBFUAXey290KwUQP9Emrm+LhJAbSuR+fiTC0B3DRz2xaoeQFzffjsNcaU/PcnTbI0AAUA3sffFviMUQLsXVobotxpA0yxSxDErEkDznz5r8podQFcif0iGO8E/Uw7oMk+lIEBVt4mz27UBQAsOHkBqmhZAXzAn06UnHEBfnU+A/4gdQIHfhuLb0yBAI0fnX9qBFUAfey290KwUQANFmrm+LhJAdSuR+fiTC0B7DRz2xaoeQFzlfjsNcaU/PcnTbI0AAUA/sffFviMUQLsXVobotxpAdFiJhxM0HcD7b4AvMZ0RwElVbleNEhTAlZQMxGim/b/8229oAKAVwBEHk8RhCAPASitQmFwMH8C+zByg1I4TwPnuy762ARfA2KCucX55GcApKuUf9VAgwFkxIRhH0hHAn14wAfLIHcA5it+n5DgLwFaFRM6KEhvAjZixFlCGIMApbvmsZoPHvxdsTo5uVsE/VG25vh8r3r+1DDs4weIBQLZs+6cCY+E/W6ORfQ7ACsArPDkpj4EFwJM8klk2awfAWXg0AalFAkBCkZqSV3niv+Wtx9LBigHADJtq9EPM0D+DXGrMT+72PwtH/rpIRfo/lG25vh8r3r+lDDs4weIBQJZs+6cCY+E/c6ORfQ7ACsAzPDkpj4EFwKM8klk2awfAK3g0AalFAkBajpqSV3niv7utx9LBigHA/JFq9EPM0D+nWmrMT+72Pw9F/rpIRfo/lzbuEpqlEsCpJef9R3cWwMfALak5SxbAEVCBs0EaEsBjcxDSCjoNwP8vaBI04xTAGeWV6MMEE0Al1I7TcdYWQENv1X5jqhZAk/4oiWt5EkBl0F99XvgNQIHeD+hdQhVA",
          "dtype": "f8"
         }
        },
        {
         "hovertemplate": "Atom=C<br>X=%{x}<br>Y=%{y}<br>Z=%{z}<extra></extra>",
         "legendgroup": "C",
         "marker": {
          "color": "#ab63fa",
          "size": 2,
          "symbol": "circle"
         },
         "mode": "markers",
         "name": "C",
         "scene": "scene",
         "showlegend": true,
         "type": "scatter3d",
         "x": {
          "bdata": "EGOl/vt2BMD9imdz8knuvxKw2wxkFQHAjcAOFChp5L/kDcjI9mv6v/5AApQeERvAImOYiuHXFsAK8JoSqdEWwPQbTA6Xrh3A/nF4LmAQG8AwcOEGP3oawJKKX5mpeh3AKgwWAO9RG8DKF+jy/WgWwDTVazg77hbADmOl/vt2BMAFi2dz8knuvxCw2wxkFQHAjcAOFChp5L/gDcjI9mv6vwBBApQeERvAJmOYiuHXFsAK8JoSqdEWwPobTA6Xrh3AAHJ4LmAQG8AycOEGP3oawJSKX5mpeh3AKgwWAO9RG8DIF+jy/WgWwDLVazg77hbAFiSxx9aVBUCCR8vLrmLxPw5x59U+NAJAg8Q9OJPk6D/wj99arKn8P4IhiPiLoBtApEMe705nF0CQ0CB3FmEXQHj80XIEPh5AgFL+ks2fG0CyUGdrrAkbQBJr5f0WCh5AquybZFzhG0BM+G1Xa/gWQLS18ZyofRdAcWc5MtZDG0CtNbyhSwUcQGmcS0a/Qx5ATe4GWM+iF0D57OtkAS4XQCmBtOpA5xZA8bCWAZd8GkBFVQiWdhAeQMkNJhkDOxhASfmq/R2dHEAnId+y/XTsP1KbGXgbOQBAYvfJzLakBUAn2UasC8nqP0QGXbbXrP8/YOl0Ss3SAEDYDAW0tHrwPyKcRZDDINO/xDc/cw8n9L+RlAAI43bsv+4f+8NKO9w/UOMb701m9j9x+0sBif7rv8TdRWaCZ/+/WiGNa5+EFUClEPp+MtYUQNSvMoQdwhNAtk4DK8LZE0AdnrRl6QsVQIMMgJnuHxZAsfU9+FAFFkCvHJWdNZQSQCTpZ0vbhxVAuFDSAuVn/7+ZFdtD/nnsv06ko9iZF9w/1LlWBcVk9j9UzBcWJ3nwP+IXnXt0RNO/SGEEXZgo9L/Mf70S+jzwP+KvLvyb0gBA10AHBzL1FMAlMHQaxUYUwFPPrB+wMhPANW59xlRKE8CfvS4BfHwUwAEs+jSBkBXAMxW4k+N1FcAxPA85yAQSwKMI4uZt+BTAnHh/wzuG/7953Mv7TE7uvyxnuEuJ8fO/5PvfBy4Ez7909mB2WgvxP4Tm5KhY1fU/Dpw54kQu1z+OH0v4OFIFwHoyRfa/wABAnHh/wzuG/7+Z3Mv7TE7uvxxnuEuJ8fO/ZPzfBy4Ez79k9mB2WgvxP4Tm5KhY1fU/Dpw54kQu1z+OH0v4OFIFwHoyRfa/wABA",
          "dtype": "f8"
         },
         "y": {
          "bdata": "mANLt0HCHECNgc4L44AWQGXhJvteYBhAuvrncrGzGUBbqgdE35sdQBqw0tH86Ow/0q4yg6BQ5z/JVUGNBCv9PyRDZaIl3wBABkSgxM5iBUDaGrOy+9MWQPYkA1VhmBdA0cwaWcULHEAg3hTVbZoaQDGUlXct1B1A/0nrYojGHMDxx263KYUWwMonx6alZBjAIEGIHvi3GcC98KfvJaAdwEbj1C4yC+2/5uE04NVy579bb8I7Hzz9v/DPpfmy5wDA1NDgG1xrBcA/YVNeQtgWwFxrowConBfANRO7BAwQHMCFJLWAtJ4awJXaNSN02B3AmANLt0HCHECPgc4L44AWQGbhJvteYBhAuvrncrGzGUBaqgdE35sdQCqw0tH86Ow/8q4yg6BQ5z/NVUGNBCv9PyZDZaIl3wBACESgxM5iBUDdGrOy+9MWQPckA1VhmBdA0swaWcULHEAh3hTVbZoaQDWUlXct1B1AAIrLDrAKBcBXEwBaYUzwvwDXAR0YqQHAPlynVPi35r/HWxTpXpP7v21UFZz4WhvAkXarkrshF8B9A64agxsXwGUvXxZx+B3Ab4WLNjpaG8Cjg/QOGcQawAWecqGDxB3Anx8pCMmbG8A/K/v617IWwKnofkAVOBfAS1QaDww/FcCZQ4cin5AUwMXivyeKfBPAp4GQzi6UE8AR0UEJVsYUwHc/DT1b2hXApijLm72/FcChTyJBok4SwBcc9e5HQhXADuPl8dFWAMDrOzKejk7wvwu1BGzxGPW/bTYhhbcf1L/qUCms5MfvP9WYmIjwrfQ/02UIYaSQ0j+GRnEI7eUFwGILH+YLLQBA5Q16Y8U6FUAx/eZ2WIwUQGGcH3xDeBNAQzvwIuiPE0CpiqFdD8IUQA75bJEU1hVAPeIq8Ha7FUA9CYKVW0oSQLDVVEMBPhVAmlWlmkROAEDFIbHvcz3wP7Wbg73WB/U/09Mcy0zb0z/WgisJGurvv4uyGTcLv/S/rc8MGw/V0r8SujCxX90FQH6XXz2ZNQDAcMJOOhk/AEASfnEnmabuP23TdhFkvte/m4WLk3dO9b82MJlIs8Xuv9PoyUKqndc/hZXPzuU+9T8ul+RBWU3uv8IVSUN1RwDAQk+PkaZHAMA2sXOEzsjuvwNtclf5edc/BWwK5Vw99T8K/ZbrfaPuPw1PzvwU4te/F69QfQBQ9b8CZOLkIyvuP/qICOznPgBA",
          "dtype": "f8"
         },
         "z": {
          "bdata": "7Z8ilYrMGsApbqUEAI4bwOXUNKlzzB3AySbwuoMrF8B1JdXHtbYWwKm5nU31bxbAdel/ZEsFGsDFjfH4KpkdwElGD3y3wxfAzTGUYNIlHMAq5SjKoLrov6UY2HsIlf6/Y2ickh+2BMAKnZDDrg7nv0XoAUKpz/2/b07KarQrG0CnHE3aKe0bQGOD3H6dKx5AR9WXkK2KF0Dz03yd3xUXQCtoRSMfzxZA95cnOnVkGkBHPJnOVPgdQMf0tlHhIhhAS+A7NvyEHEAWWWZ377PrP0VpO+nXCABAVcXrPXN0BUD2EM5w/QfqPyuioJhQTP8/c07KarQrG0CvHE3aKe0bQGuD3H6dKx5AS9WXkK2KF0D703yd3xUXQC9oRSMfzxZA/5cnOnVkGkBPPJnOVPgdQNP0tlHhIhhAU+A7NvyEHEBWWWZ377PrP1VpO+nXCABAZcXrPXN0BUA2Ec5w/QfqP1uioJhQTP8/jU9HItCUHMCFzcp2cVMWwFotI2btMhjAskbk3T+GGcBR9gOvbW4dwKoPtSlwfeu/Yg4V2xPl5b+RhTI5PnX8vwXbXXhChADA69uYmusHBcDLZq8diqYWwONw/7/vahfAwBgXxFPeG8ATKhFA/GwawCPgkeK7ph3Ahdw74cLm/79qpEQ3Ww/vvyXLdGkQUvS/FI7hejME0b+LkqRY06rwP6uCKIvRdPU/bAxIayis1T97USmHfIIFwHUAZ2d8kABAFbWOIGzI/78C3lN/DDvtv0wTsmF9ldo/u1Wa5z0E9j93aFv4nxjwPzSnjvKQxtS/RcXAeh+J9L+mNgLq5bjvPwl+UG1YogBApdw74cLm/7+qpEQ3Ww/vv0XLdGkQUvS/VI7hejME0b9bkqRY06rwP2uCKIvRdPU/rAtIayis1T+TUSmHfIIFwHUAZ2d8kABAdbaOIGzI/79i31N/DDvtv8wPsmF9ldo/h1Wa5z0E9j8faVv4nxjwP7SjjvKQxtS/FcXAeh+J9L/+MgLq5bjvP7N+UG1YogBA2Vl2zlMNFcAlSePh5l4UwFPoG+fRShPANYfsjXZiE8Cf1p3InZQUwANFafyiqBXANS4nWwWOFcAtVX4A6hwSwKMhUa6PEBXAWAgepH1sFUCj94q3EL4UQNOWw7z7qRNAtTWUY6DBE0AehUWex/MUQIDzENLMBxZAstzOMC/tFUCvAybWE3wSQCLQ+IO5bxVA",
          "dtype": "f8"
         }
        }
       ],
       "layout": {
        "autosize": false,
        "height": 400,
        "legend": {
         "title": {
          "text": "Atom"
         },
         "tracegroupgap": 0
        },
        "scene": {
         "domain": {
          "x": [
           0,
           1
          ],
          "y": [
           0,
           1
          ]
         },
         "xaxis": {
          "title": {
           "text": "X"
          }
         },
         "yaxis": {
          "title": {
           "text": "Y"
          }
         },
         "zaxis": {
          "title": {
           "text": "Z"
          }
         }
        },
        "template": {
         "data": {
          "bar": [
           {
            "error_x": {
             "color": "#2a3f5f"
            },
            "error_y": {
             "color": "#2a3f5f"
            },
            "marker": {
             "line": {
              "color": "#E5ECF6",
              "width": 0.5
             },
             "pattern": {
              "fillmode": "overlay",
              "size": 10,
              "solidity": 0.2
             }
            },
            "type": "bar"
           }
          ],
          "barpolar": [
           {
            "marker": {
             "line": {
              "color": "#E5ECF6",
              "width": 0.5
             },
             "pattern": {
              "fillmode": "overlay",
              "size": 10,
              "solidity": 0.2
             }
            },
            "type": "barpolar"
           }
          ],
          "carpet": [
           {
            "aaxis": {
             "endlinecolor": "#2a3f5f",
             "gridcolor": "white",
             "linecolor": "white",
             "minorgridcolor": "white",
             "startlinecolor": "#2a3f5f"
            },
            "baxis": {
             "endlinecolor": "#2a3f5f",
             "gridcolor": "white",
             "linecolor": "white",
             "minorgridcolor": "white",
             "startlinecolor": "#2a3f5f"
            },
            "type": "carpet"
           }
          ],
          "choropleth": [
           {
            "colorbar": {
             "outlinewidth": 0,
             "ticks": ""
            },
            "type": "choropleth"
           }
          ],
          "contour": [
           {
            "colorbar": {
             "outlinewidth": 0,
             "ticks": ""
            },
            "colorscale": [
             [
              0,
              "#0d0887"
             ],
             [
              0.1111111111111111,
              "#46039f"
             ],
             [
              0.2222222222222222,
              "#7201a8"
             ],
             [
              0.3333333333333333,
              "#9c179e"
             ],
             [
              0.4444444444444444,
              "#bd3786"
             ],
             [
              0.5555555555555556,
              "#d8576b"
             ],
             [
              0.6666666666666666,
              "#ed7953"
             ],
             [
              0.7777777777777778,
              "#fb9f3a"
             ],
             [
              0.8888888888888888,
              "#fdca26"
             ],
             [
              1,
              "#f0f921"
             ]
            ],
            "type": "contour"
           }
          ],
          "contourcarpet": [
           {
            "colorbar": {
             "outlinewidth": 0,
             "ticks": ""
            },
            "type": "contourcarpet"
           }
          ],
          "heatmap": [
           {
            "colorbar": {
             "outlinewidth": 0,
             "ticks": ""
            },
            "colorscale": [
             [
              0,
              "#0d0887"
             ],
             [
              0.1111111111111111,
              "#46039f"
             ],
             [
              0.2222222222222222,
              "#7201a8"
             ],
             [
              0.3333333333333333,
              "#9c179e"
             ],
             [
              0.4444444444444444,
              "#bd3786"
             ],
             [
              0.5555555555555556,
              "#d8576b"
             ],
             [
              0.6666666666666666,
              "#ed7953"
             ],
             [
              0.7777777777777778,
              "#fb9f3a"
             ],
             [
              0.8888888888888888,
              "#fdca26"
             ],
             [
              1,
              "#f0f921"
             ]
            ],
            "type": "heatmap"
           }
          ],
          "histogram": [
           {
            "marker": {
             "pattern": {
              "fillmode": "overlay",
              "size": 10,
              "solidity": 0.2
             }
            },
            "type": "histogram"
           }
          ],
          "histogram2d": [
           {
            "colorbar": {
             "outlinewidth": 0,
             "ticks": ""
            },
            "colorscale": [
             [
              0,
              "#0d0887"
             ],
             [
              0.1111111111111111,
              "#46039f"
             ],
             [
              0.2222222222222222,
              "#7201a8"
             ],
             [
              0.3333333333333333,
              "#9c179e"
             ],
             [
              0.4444444444444444,
              "#bd3786"
             ],
             [
              0.5555555555555556,
              "#d8576b"
             ],
             [
              0.6666666666666666,
              "#ed7953"
             ],
             [
              0.7777777777777778,
              "#fb9f3a"
             ],
             [
              0.8888888888888888,
              "#fdca26"
             ],
             [
              1,
              "#f0f921"
             ]
            ],
            "type": "histogram2d"
           }
          ],
          "histogram2dcontour": [
           {
            "colorbar": {
             "outlinewidth": 0,
             "ticks": ""
            },
            "colorscale": [
             [
              0,
              "#0d0887"
             ],
             [
              0.1111111111111111,
              "#46039f"
             ],
             [
              0.2222222222222222,
              "#7201a8"
             ],
             [
              0.3333333333333333,
              "#9c179e"
             ],
             [
              0.4444444444444444,
              "#bd3786"
             ],
             [
              0.5555555555555556,
              "#d8576b"
             ],
             [
              0.6666666666666666,
              "#ed7953"
             ],
             [
              0.7777777777777778,
              "#fb9f3a"
             ],
             [
              0.8888888888888888,
              "#fdca26"
             ],
             [
              1,
              "#f0f921"
             ]
            ],
            "type": "histogram2dcontour"
           }
          ],
          "mesh3d": [
           {
            "colorbar": {
             "outlinewidth": 0,
             "ticks": ""
            },
            "type": "mesh3d"
           }
          ],
          "parcoords": [
           {
            "line": {
             "colorbar": {
              "outlinewidth": 0,
              "ticks": ""
             }
            },
            "type": "parcoords"
           }
          ],
          "pie": [
           {
            "automargin": true,
            "type": "pie"
           }
          ],
          "scatter": [
           {
            "fillpattern": {
             "fillmode": "overlay",
             "size": 10,
             "solidity": 0.2
            },
            "type": "scatter"
           }
          ],
          "scatter3d": [
           {
            "line": {
             "colorbar": {
              "outlinewidth": 0,
              "ticks": ""
             }
            },
            "marker": {
             "colorbar": {
              "outlinewidth": 0,
              "ticks": ""
             }
            },
            "type": "scatter3d"
           }
          ],
          "scattercarpet": [
           {
            "marker": {
             "colorbar": {
              "outlinewidth": 0,
              "ticks": ""
             }
            },
            "type": "scattercarpet"
           }
          ],
          "scattergeo": [
           {
            "marker": {
             "colorbar": {
              "outlinewidth": 0,
              "ticks": ""
             }
            },
            "type": "scattergeo"
           }
          ],
          "scattergl": [
           {
            "marker": {
             "colorbar": {
              "outlinewidth": 0,
              "ticks": ""
             }
            },
            "type": "scattergl"
           }
          ],
          "scattermap": [
           {
            "marker": {
             "colorbar": {
              "outlinewidth": 0,
              "ticks": ""
             }
            },
            "type": "scattermap"
           }
          ],
          "scattermapbox": [
           {
            "marker": {
             "colorbar": {
              "outlinewidth": 0,
              "ticks": ""
             }
            },
            "type": "scattermapbox"
           }
          ],
          "scatterpolar": [
           {
            "marker": {
             "colorbar": {
              "outlinewidth": 0,
              "ticks": ""
             }
            },
            "type": "scatterpolar"
           }
          ],
          "scatterpolargl": [
           {
            "marker": {
             "colorbar": {
              "outlinewidth": 0,
              "ticks": ""
             }
            },
            "type": "scatterpolargl"
           }
          ],
          "scatterternary": [
           {
            "marker": {
             "colorbar": {
              "outlinewidth": 0,
              "ticks": ""
             }
            },
            "type": "scatterternary"
           }
          ],
          "surface": [
           {
            "colorbar": {
             "outlinewidth": 0,
             "ticks": ""
            },
            "colorscale": [
             [
              0,
              "#0d0887"
             ],
             [
              0.1111111111111111,
              "#46039f"
             ],
             [
              0.2222222222222222,
              "#7201a8"
             ],
             [
              0.3333333333333333,
              "#9c179e"
             ],
             [
              0.4444444444444444,
              "#bd3786"
             ],
             [
              0.5555555555555556,
              "#d8576b"
             ],
             [
              0.6666666666666666,
              "#ed7953"
             ],
             [
              0.7777777777777778,
              "#fb9f3a"
             ],
             [
              0.8888888888888888,
              "#fdca26"
             ],
             [
              1,
              "#f0f921"
             ]
            ],
            "type": "surface"
           }
          ],
          "table": [
           {
            "cells": {
             "fill": {
              "color": "#EBF0F8"
             },
             "line": {
              "color": "white"
             }
            },
            "header": {
             "fill": {
              "color": "#C8D4E3"
             },
             "line": {
              "color": "white"
             }
            },
            "type": "table"
           }
          ]
         },
         "layout": {
          "annotationdefaults": {
           "arrowcolor": "#2a3f5f",
           "arrowhead": 0,
           "arrowwidth": 1
          },
          "autotypenumbers": "strict",
          "coloraxis": {
           "colorbar": {
            "outlinewidth": 0,
            "ticks": ""
           }
          },
          "colorscale": {
           "diverging": [
            [
             0,
             "#8e0152"
            ],
            [
             0.1,
             "#c51b7d"
            ],
            [
             0.2,
             "#de77ae"
            ],
            [
             0.3,
             "#f1b6da"
            ],
            [
             0.4,
             "#fde0ef"
            ],
            [
             0.5,
             "#f7f7f7"
            ],
            [
             0.6,
             "#e6f5d0"
            ],
            [
             0.7,
             "#b8e186"
            ],
            [
             0.8,
             "#7fbc41"
            ],
            [
             0.9,
             "#4d9221"
            ],
            [
             1,
             "#276419"
            ]
           ],
           "sequential": [
            [
             0,
             "#0d0887"
            ],
            [
             0.1111111111111111,
             "#46039f"
            ],
            [
             0.2222222222222222,
             "#7201a8"
            ],
            [
             0.3333333333333333,
             "#9c179e"
            ],
            [
             0.4444444444444444,
             "#bd3786"
            ],
            [
             0.5555555555555556,
             "#d8576b"
            ],
            [
             0.6666666666666666,
             "#ed7953"
            ],
            [
             0.7777777777777778,
             "#fb9f3a"
            ],
            [
             0.8888888888888888,
             "#fdca26"
            ],
            [
             1,
             "#f0f921"
            ]
           ],
           "sequentialminus": [
            [
             0,
             "#0d0887"
            ],
            [
             0.1111111111111111,
             "#46039f"
            ],
            [
             0.2222222222222222,
             "#7201a8"
            ],
            [
             0.3333333333333333,
             "#9c179e"
            ],
            [
             0.4444444444444444,
             "#bd3786"
            ],
            [
             0.5555555555555556,
             "#d8576b"
            ],
            [
             0.6666666666666666,
             "#ed7953"
            ],
            [
             0.7777777777777778,
             "#fb9f3a"
            ],
            [
             0.8888888888888888,
             "#fdca26"
            ],
            [
             1,
             "#f0f921"
            ]
           ]
          },
          "colorway": [
           "#636efa",
           "#EF553B",
           "#00cc96",
           "#ab63fa",
           "#FFA15A",
           "#19d3f3",
           "#FF6692",
           "#B6E880",
           "#FF97FF",
           "#FECB52"
          ],
          "font": {
           "color": "#2a3f5f"
          },
          "geo": {
           "bgcolor": "white",
           "lakecolor": "white",
           "landcolor": "#E5ECF6",
           "showlakes": true,
           "showland": true,
           "subunitcolor": "white"
          },
          "hoverlabel": {
           "align": "left"
          },
          "hovermode": "closest",
          "mapbox": {
           "style": "light"
          },
          "paper_bgcolor": "white",
          "plot_bgcolor": "#E5ECF6",
          "polar": {
           "angularaxis": {
            "gridcolor": "white",
            "linecolor": "white",
            "ticks": ""
           },
           "bgcolor": "#E5ECF6",
           "radialaxis": {
            "gridcolor": "white",
            "linecolor": "white",
            "ticks": ""
           }
          },
          "scene": {
           "xaxis": {
            "backgroundcolor": "#E5ECF6",
            "gridcolor": "white",
            "gridwidth": 2,
            "linecolor": "white",
            "showbackground": true,
            "ticks": "",
            "zerolinecolor": "white"
           },
           "yaxis": {
            "backgroundcolor": "#E5ECF6",
            "gridcolor": "white",
            "gridwidth": 2,
            "linecolor": "white",
            "showbackground": true,
            "ticks": "",
            "zerolinecolor": "white"
           },
           "zaxis": {
            "backgroundcolor": "#E5ECF6",
            "gridcolor": "white",
            "gridwidth": 2,
            "linecolor": "white",
            "showbackground": true,
            "ticks": "",
            "zerolinecolor": "white"
           }
          },
          "shapedefaults": {
           "line": {
            "color": "#2a3f5f"
           }
          },
          "ternary": {
           "aaxis": {
            "gridcolor": "white",
            "linecolor": "white",
            "ticks": ""
           },
           "baxis": {
            "gridcolor": "white",
            "linecolor": "white",
            "ticks": ""
           },
           "bgcolor": "#E5ECF6",
           "caxis": {
            "gridcolor": "white",
            "linecolor": "white",
            "ticks": ""
           }
          },
          "title": {
           "x": 0.05
          },
          "xaxis": {
           "automargin": true,
           "gridcolor": "white",
           "linecolor": "white",
           "ticks": "",
           "title": {
            "standoff": 15
           },
           "zerolinecolor": "white",
           "zerolinewidth": 2
          },
          "yaxis": {
           "automargin": true,
           "gridcolor": "white",
           "linecolor": "white",
           "ticks": "",
           "title": {
            "standoff": 15
           },
           "zerolinecolor": "white",
           "zerolinewidth": 2
          }
         }
        },
        "title": {
         "text": "MOP: [Zr3O(OH)3(C5H5)3]4[(C6H3)(CH3)(CO2)2]6\n AM: https://www.theworldavatar.com/kg/ontomops/AssemblyModel_3d71c19a-ab54-4993-8c94-267dcfe41792"
        },
        "width": 1200
       }
      }
     },
     "metadata": {},
     "output_type": "display_data"
    }
   ],
   "source": [
    "# To visualise the MOP, we can use the same method as before\n",
    "fig_example_2 = new_mop_example_2.visualise()"
   ]
  },
  {
   "cell_type": "code",
   "execution_count": 21,
   "metadata": {},
   "outputs": [],
   "source": [
    "# The visualisation looks not bad, we can push it to the knowledge graph\n",
    "g_r, g_a = new_mop_example_2.push_to_kg(sparql_client, -1)"
   ]
  },
  {
   "cell_type": "code",
   "execution_count": 22,
   "metadata": {},
   "outputs": [
    {
     "name": "stdout",
     "output_type": "stream",
     "text": [
      "Removed triples:\n",
      "\n",
      "\n",
      "---------------------------------\n",
      "Added triples:\n",
      "@prefix ns1: <http://www.ontology-of-units-of-measure.org/resource/om-2/> .\n",
      "@prefix ns2: <https://www.theworldavatar.com/kg/ontomops/> .\n",
      "@prefix ns3: <http://www.theworldavatar.com/ontology/ontospecies/OntoSpecies.owl#> .\n",
      "@prefix xsd: <http://www.w3.org/2001/XMLSchema#> .\n",
      "\n",
      "ns2:MetalOrganicPolyhedron_f96c0d3b-452b-4f31-9c33-84f7284ae644 a ns2:CoordinationCage,\n",
      "        ns2:MetalOrganicPolyhedron,\n",
      "        ns2:MolecularCage ;\n",
      "    ns3:hasCharge ns3:Charge_a005590d-c606-4577-bbe5-d41518a35b9a ;\n",
      "    ns3:hasGeometry ns3:Geometry_99b8bc16-d9cd-499c-bb99-037902134002 ;\n",
      "    ns3:hasMolecularWeight ns3:MolecularWeight_a26f9ddc-71a4-4825-95af-9fd09e40469d ;\n",
      "    ns2:hasAssemblyModel ns2:AssemblyModel_3d71c19a-ab54-4993-8c94-267dcfe41792 ;\n",
      "    ns2:hasCBUAssemblyTransformation ns2:CBUAssemblyTransformation_420bfa84-9fbc-474a-b378-32c6c347bd57,\n",
      "        ns2:CBUAssemblyTransformation_6d8d3448-9f5f-4d63-90a0-335fb6bb833c,\n",
      "        ns2:CBUAssemblyTransformation_74234731-2aee-4cbf-8ad3-b01b557b9868,\n",
      "        ns2:CBUAssemblyTransformation_830ffc8c-9075-46cf-8c3c-7e68ef823c34,\n",
      "        ns2:CBUAssemblyTransformation_bedc2294-11fc-450d-8776-0954c09af52c,\n",
      "        ns2:CBUAssemblyTransformation_c0e7b94d-3067-4f70-a11b-d37eede8a4f4,\n",
      "        ns2:CBUAssemblyTransformation_c4d08a58-5d49-4cee-ae55-a5b8ebec6329,\n",
      "        ns2:CBUAssemblyTransformation_d4c5bea9-2155-4bc3-9770-9ed0bfc21ca0,\n",
      "        ns2:CBUAssemblyTransformation_d63b73d0-e8da-4828-8218-7e28e739822c,\n",
      "        ns2:CBUAssemblyTransformation_feeb430e-6b50-448f-b621-50753b52e282 ;\n",
      "    ns2:hasCCDCNumber \"1955206\" ;\n",
      "    ns2:hasCavity ns2:Cavity_9639de29-d0d0-4b65-b7da-305c164b0e00 ;\n",
      "    ns2:hasChemicalBuildingUnit ns2:ChemicalBuildingUnit_3d71c19a-ab54-4993-8c94-267dcfe41792_0,\n",
      "        ns2:ChemicalBuildingUnit_f252d176-80ba-49ec-8c70-3b79e5867c3a ;\n",
      "    ns2:hasMOPFormula \"[Zr3O(OH)3(C5H5)3]4[(C6H3)(CH3)(CO2)2]6\" ;\n",
      "    ns2:hasOuterDiameter ns1:Diameter_bf34f718-41fb-486b-90b9-ba59fdd34abe ;\n",
      "    ns2:hasPoreSize ns2:PoreSize_10031e30-9d55-4af4-9294-5551939b8733 ;\n",
      "    ns2:hasProvenance ns2:Provenance_5ab81d5b-308c-42c3-93d7-2a9815e9b277 .\n",
      "\n",
      "ns1:Diameter_154502de-04c5-4fb7-ad7c-3c2cb6e20040 a ns1:Diameter,\n",
      "        ns1:Length,\n",
      "        ns1:Quantity ;\n",
      "    ns1:hasValue ns1:Measure_b1661065-80b2-4730-ab5f-e6c6471251f7 .\n",
      "\n",
      "ns1:Diameter_990d1634-5349-4ed0-9197-9dc492625a9a a ns1:Diameter,\n",
      "        ns1:Length,\n",
      "        ns1:Quantity ;\n",
      "    ns1:hasValue ns1:Measure_19784e5b-444e-4d26-adfa-11d78489f165 .\n",
      "\n",
      "ns1:Diameter_bf34f718-41fb-486b-90b9-ba59fdd34abe a ns1:Diameter,\n",
      "        ns1:Length,\n",
      "        ns1:Quantity ;\n",
      "    ns1:hasValue ns1:Measure_9560218d-0b2b-4c2f-889d-a6315a30b037 .\n",
      "\n",
      "ns1:Measure_19784e5b-444e-4d26-adfa-11d78489f165 a ns1:Measure ;\n",
      "    ns1:hasNumericalValue 2.615921e+00 ;\n",
      "    ns1:hasUnit ns1:angstrom .\n",
      "\n",
      "ns1:Measure_8233b950-b85c-4403-b56a-9cf0a0e2c1e8 a ns1:Measure ;\n",
      "    ns1:hasNumericalValue -2e+00 ;\n",
      "    ns1:hasUnit ns1:elementaryCharge .\n",
      "\n",
      "ns1:Measure_9560218d-0b2b-4c2f-889d-a6315a30b037 a ns1:Measure ;\n",
      "    ns1:hasNumericalValue 2.21844e+01 ;\n",
      "    ns1:hasUnit ns1:angstrom .\n",
      "\n",
      "ns1:Measure_aa9768fb-985d-4a8e-a4f8-8fc34146bea3 a ns1:Measure ;\n",
      "    ns1:hasNumericalValue 1.78143e+02 ;\n",
      "    ns1:hasUnit ns1:gramPerMole .\n",
      "\n",
      "ns1:Measure_add5576d-7816-41af-9f35-ddc2a7a6b8c2 a ns1:Measure ;\n",
      "    ns1:hasNumericalValue 4e+00 ;\n",
      "    ns1:hasUnit ns1:elementaryCharge .\n",
      "\n",
      "ns1:Measure_b1661065-80b2-4730-ab5f-e6c6471251f7 a ns1:Measure ;\n",
      "    ns1:hasNumericalValue 8.467076e+00 ;\n",
      "    ns1:hasUnit ns1:angstrom .\n",
      "\n",
      "ns1:Measure_f969cdd8-2a43-48c2-8ca4-36c1c22d8768 a ns1:Measure ;\n",
      "    ns1:hasNumericalValue 3.212744e+03 ;\n",
      "    ns1:hasUnit ns1:gramPerMole .\n",
      "\n",
      "ns3:Charge_a005590d-c606-4577-bbe5-d41518a35b9a a ns3:Charge ;\n",
      "    ns1:hasValue ns1:Measure_add5576d-7816-41af-9f35-ddc2a7a6b8c2 .\n",
      "\n",
      "ns3:Charge_fb3c8b2b-66b7-44c1-83e8-65f8e8e1a390 a ns3:Charge ;\n",
      "    ns1:hasValue ns1:Measure_8233b950-b85c-4403-b56a-9cf0a0e2c1e8 .\n",
      "\n",
      "ns3:Geometry_99b8bc16-d9cd-499c-bb99-037902134002 a ns3:Geometry ;\n",
      "    ns3:hasGeometryFile \"./data/xyz_mops_new\\\\(3-pyramidal)x4(2-linear)x6_Td___[Zr3O(OH)3(C5H5)3]4[(C6H3)(CH3)(CO2)2]6___1955206.xyz\" .\n",
      "\n",
      "ns3:Geometry_b844b06f-d990-42d0-855d-be7ec3b3e6a9 a ns3:Geometry ;\n",
      "    ns3:hasGeometryFile \"ChemicalBuildingUnit_f252d176-80ba-49ec-8c70-3b79e5867c3a.xyz\" .\n",
      "\n",
      "ns3:MolecularWeight_5bb2f30d-bac6-4c0b-936e-1328b166fe1f a ns3:MolecularWeight ;\n",
      "    ns1:hasValue ns1:Measure_aa9768fb-985d-4a8e-a4f8-8fc34146bea3 .\n",
      "\n",
      "ns3:MolecularWeight_a26f9ddc-71a4-4825-95af-9fd09e40469d a ns3:MolecularWeight ;\n",
      "    ns1:hasValue ns1:Measure_f969cdd8-2a43-48c2-8ca4-36c1c22d8768 .\n",
      "\n",
      "ns2:BindingPoint_3925cfe8-71da-45dc-be69-16b07b7f8bec a ns2:BindingPoint,\n",
      "        ns2:CoordinatePoint ;\n",
      "    ns2:hasX 1.60846e+01 ;\n",
      "    ns2:hasY 1.411137e+01 ;\n",
      "    ns2:hasZ 4.417533e+00 .\n",
      "\n",
      "ns2:BindingPoint_54583ed9-3bcd-4d44-a303-e18135fb7205 a ns2:BindingPoint,\n",
      "        ns2:CoordinatePoint ;\n",
      "    ns2:hasX 1.217133e+01 ;\n",
      "    ns2:hasY 1.17257e+01 ;\n",
      "    ns2:hasZ 9.0534e+00 .\n",
      "\n",
      "ns2:CBUAssemblyCenter_64d48f6c-df24-4415-a77c-02ee77a151c5 a ns2:CBUAssemblyCenter,\n",
      "        ns2:CoordinatePoint ;\n",
      "    ns2:hasX 1.412797e+01 ;\n",
      "    ns2:hasY 1.291853e+01 ;\n",
      "    ns2:hasZ 6.735467e+00 .\n",
      "\n",
      "ns2:CBUAssemblyTransformation_420bfa84-9fbc-474a-b378-32c6c347bd57 a ns2:CBUAssemblyTransformation ;\n",
      "    ns2:alignsTo ns2:GBUCoordinateCenter_65e2a3ba-98f7-49ee-acd6-be59c03b153d ;\n",
      "    ns2:quaternionToRotate \"0.579560#-0.391698#0.413497#0.582840\" ;\n",
      "    ns2:scaleFactorToAlignCoordinateCenter 3.002462e+00 ;\n",
      "    ns2:transforms ns2:ChemicalBuildingUnit_3d71c19a-ab54-4993-8c94-267dcfe41792_0 ;\n",
      "    ns2:translationVectorToAlignOrigin \"0.070033#-0.002088#0.046467\" .\n",
      "\n",
      "ns2:CBUAssemblyTransformation_6d8d3448-9f5f-4d63-90a0-335fb6bb833c a ns2:CBUAssemblyTransformation ;\n",
      "    ns2:alignsTo ns2:GBUCoordinateCenter_b9bf8183-39f5-48de-9b88-da0975baf6fb ;\n",
      "    ns2:quaternionToRotate \"0.003475#0.001329#0.870759#-0.491696\" ;\n",
      "    ns2:scaleFactorToAlignCoordinateCenter 3.281147e+00 ;\n",
      "    ns2:transforms ns2:ChemicalBuildingUnit_f252d176-80ba-49ec-8c70-3b79e5867c3a ;\n",
      "    ns2:translationVectorToAlignOrigin \"0.070033#-0.002088#0.046467\" .\n",
      "\n",
      "ns2:CBUAssemblyTransformation_74234731-2aee-4cbf-8ad3-b01b557b9868 a ns2:CBUAssemblyTransformation ;\n",
      "    ns2:alignsTo ns2:GBUCoordinateCenter_3dce0ae0-d1b6-43b2-a857-dff7dfd7a9fa ;\n",
      "    ns2:quaternionToRotate \"-0.012540#0.009259#0.983798#0.178602\" ;\n",
      "    ns2:scaleFactorToAlignCoordinateCenter 3.002462e+00 ;\n",
      "    ns2:transforms ns2:ChemicalBuildingUnit_3d71c19a-ab54-4993-8c94-267dcfe41792_0 ;\n",
      "    ns2:translationVectorToAlignOrigin \"0.070033#-0.002088#0.046467\" .\n",
      "\n",
      "ns2:CBUAssemblyTransformation_830ffc8c-9075-46cf-8c3c-7e68ef823c34 a ns2:CBUAssemblyTransformation ;\n",
      "    ns2:alignsTo ns2:GBUCoordinateCenter_da7afde6-ad5d-4008-8d14-1088b4e45a4b ;\n",
      "    ns2:quaternionToRotate \"-0.678825#-0.190605#0.683630#0.188458\" ;\n",
      "    ns2:scaleFactorToAlignCoordinateCenter 3.281147e+00 ;\n",
      "    ns2:transforms ns2:ChemicalBuildingUnit_f252d176-80ba-49ec-8c70-3b79e5867c3a ;\n",
      "    ns2:translationVectorToAlignOrigin \"0.070033#-0.002088#0.046467\" .\n",
      "\n",
      "ns2:CBUAssemblyTransformation_bedc2294-11fc-450d-8776-0954c09af52c a ns2:CBUAssemblyTransformation ;\n",
      "    ns2:alignsTo ns2:GBUCoordinateCenter_a323327e-bd83-4fee-a657-3ad907f4c02e ;\n",
      "    ns2:quaternionToRotate \"0.582840#-0.413497#-0.391698#-0.579560\" ;\n",
      "    ns2:scaleFactorToAlignCoordinateCenter 3.002462e+00 ;\n",
      "    ns2:transforms ns2:ChemicalBuildingUnit_3d71c19a-ab54-4993-8c94-267dcfe41792_0 ;\n",
      "    ns2:translationVectorToAlignOrigin \"0.070033#-0.002088#0.046467\" .\n",
      "\n",
      "ns2:CBUAssemblyTransformation_c0e7b94d-3067-4f70-a11b-d37eede8a4f4 a ns2:CBUAssemblyTransformation ;\n",
      "    ns2:alignsTo ns2:GBUCoordinateCenter_eeaba29f-ff70-47db-815d-238e5f5025db ;\n",
      "    ns2:quaternionToRotate \"0.001329#-0.003475#0.491696#0.870759\" ;\n",
      "    ns2:scaleFactorToAlignCoordinateCenter 3.281147e+00 ;\n",
      "    ns2:transforms ns2:ChemicalBuildingUnit_f252d176-80ba-49ec-8c70-3b79e5867c3a ;\n",
      "    ns2:translationVectorToAlignOrigin \"0.070033#-0.002088#0.046467\" .\n",
      "\n",
      "ns2:CBUAssemblyTransformation_c4d08a58-5d49-4cee-ae55-a5b8ebec6329 a ns2:CBUAssemblyTransformation ;\n",
      "    ns2:alignsTo ns2:GBUCoordinateCenter_044f7e05-56f8-4d8d-85d0-6cfbfcd3c18a ;\n",
      "    ns2:quaternionToRotate \"-0.191933#0.682301#-0.680154#-0.187129\" ;\n",
      "    ns2:scaleFactorToAlignCoordinateCenter 3.281147e+00 ;\n",
      "    ns2:transforms ns2:ChemicalBuildingUnit_f252d176-80ba-49ec-8c70-3b79e5867c3a ;\n",
      "    ns2:translationVectorToAlignOrigin \"0.070033#-0.002088#0.046467\" .\n",
      "\n",
      "ns2:CBUAssemblyTransformation_d4c5bea9-2155-4bc3-9770-9ed0bfc21ca0 a ns2:CBUAssemblyTransformation ;\n",
      "    ns2:alignsTo ns2:GBUCoordinateCenter_b8557632-338d-4207-b720-432760c470a9 ;\n",
      "    ns2:quaternionToRotate \"0.413497#0.582840#-0.579560#0.391698\" ;\n",
      "    ns2:scaleFactorToAlignCoordinateCenter 3.002462e+00 ;\n",
      "    ns2:transforms ns2:ChemicalBuildingUnit_3d71c19a-ab54-4993-8c94-267dcfe41792_0 ;\n",
      "    ns2:translationVectorToAlignOrigin \"0.070033#-0.002088#0.046467\" .\n",
      "\n",
      "ns2:CBUAssemblyTransformation_d63b73d0-e8da-4828-8218-7e28e739822c a ns2:CBUAssemblyTransformation ;\n",
      "    ns2:alignsTo ns2:GBUCoordinateCenter_0a5f7316-f1ba-4b4f-b88a-1a7f11a6847c ;\n",
      "    ns2:quaternionToRotate \"-0.190605#0.678825#-0.188458#0.683630\" ;\n",
      "    ns2:scaleFactorToAlignCoordinateCenter 3.281147e+00 ;\n",
      "    ns2:transforms ns2:ChemicalBuildingUnit_f252d176-80ba-49ec-8c70-3b79e5867c3a ;\n",
      "    ns2:translationVectorToAlignOrigin \"0.070033#-0.002088#0.046467\" .\n",
      "\n",
      "ns2:CBUAssemblyTransformation_feeb430e-6b50-448f-b621-50753b52e282 a ns2:CBUAssemblyTransformation ;\n",
      "    ns2:alignsTo ns2:GBUCoordinateCenter_36a724ee-7bd1-40ee-8020-7312247d0a90 ;\n",
      "    ns2:quaternionToRotate \"-0.187129#0.680154#0.682301#0.191933\" ;\n",
      "    ns2:scaleFactorToAlignCoordinateCenter 3.281147e+00 ;\n",
      "    ns2:transforms ns2:ChemicalBuildingUnit_f252d176-80ba-49ec-8c70-3b79e5867c3a ;\n",
      "    ns2:translationVectorToAlignOrigin \"0.070033#-0.002088#0.046467\" .\n",
      "\n",
      "ns2:Cavity_9639de29-d0d0-4b65-b7da-305c164b0e00 a ns2:Cavity ;\n",
      "    ns2:hasLargestInnerSphereDiameter ns1:Diameter_154502de-04c5-4fb7-ad7c-3c2cb6e20040 .\n",
      "\n",
      "ns2:OrganicSite_571faba9-fbe1-4907-b1d8-a502c16da9bc a ns2:BindingSite,\n",
      "        ns2:OrganicSite ;\n",
      "    ns2:hasBindingFragment \"CO2\" ;\n",
      "    ns2:hasBindingPoint ns2:BindingPoint_54583ed9-3bcd-4d44-a303-e18135fb7205 ;\n",
      "    ns2:hasOuterCoordinationNumber 2 .\n",
      "\n",
      "ns2:OrganicSite_b3feab44-7375-43c4-a53d-c89b0949636b a ns2:BindingSite,\n",
      "        ns2:OrganicSite ;\n",
      "    ns2:hasBindingFragment \"CO2\" ;\n",
      "    ns2:hasBindingPoint ns2:BindingPoint_3925cfe8-71da-45dc-be69-16b07b7f8bec ;\n",
      "    ns2:hasOuterCoordinationNumber 2 .\n",
      "\n",
      "ns2:PoreSize_10031e30-9d55-4af4-9294-5551939b8733 a ns2:PoreSize ;\n",
      "    ns2:hasPoreDiameter ns1:Diameter_990d1634-5349-4ed0-9197-9dc492625a9a ;\n",
      "    ns2:hasProbingVector \"-1.704665#-1.777701#-1.729482\" ;\n",
      "    ns2:measuresRing ns2:PoreRing_74e5fadf-6f42-4b9d-9d2c-00544bad1b2b .\n",
      "\n",
      "ns2:Provenance_5ab81d5b-308c-42c3-93d7-2a9815e9b277 a ns2:Provenance ;\n",
      "    ns2:hasReferenceDOI \"Placeholder DOI for TWA OGM\" .\n",
      "\n",
      "ns2:ChemicalBuildingUnit_f252d176-80ba-49ec-8c70-3b79e5867c3a a ns2:ChemicalBuildingUnit ;\n",
      "    ns3:hasCharge ns3:Charge_fb3c8b2b-66b7-44c1-83e8-65f8e8e1a390 ;\n",
      "    ns3:hasGeometry ns3:Geometry_b844b06f-d990-42d0-855d-be7ec3b3e6a9 ;\n",
      "    ns3:hasMolecularWeight ns3:MolecularWeight_5bb2f30d-bac6-4c0b-936e-1328b166fe1f ;\n",
      "    ns2:hasBindingDirection ns2:DirectBinding_f3716525-0a8d-430f-ae24-0a043ec0c93a ;\n",
      "    ns2:hasBindingSite ns2:OrganicSite_571faba9-fbe1-4907-b1d8-a502c16da9bc,\n",
      "        ns2:OrganicSite_b3feab44-7375-43c4-a53d-c89b0949636b ;\n",
      "    ns2:hasCBUAssemblyCenter ns2:CBUAssemblyCenter_64d48f6c-df24-4415-a77c-02ee77a151c5 ;\n",
      "    ns2:hasCBUFormula \"[(C6H3)(CH3)(CO2)2]\" ;\n",
      "    ns2:isFunctioningAs ns2:GenericBuildingUnit_7eb74ecd-84c2-4d36-bb2b-cb13d300e3e1 .\n",
      "\n",
      "\n"
     ]
    }
   ],
   "source": [
    "# To view the changes made to the graph, we can check `g_r` and `g_a`:\n",
    "print('Removed triples:')\n",
    "print(g_r.serialize(format='turtle'))\n",
    "print('---------------------------------')\n",
    "print('Added triples:')\n",
    "print(g_a.serialize(format='turtle'))"
   ]
  },
  {
   "cell_type": "markdown",
   "metadata": {},
   "source": [
    "## Example 3: Suggest new MOPs after adding new CBU/MOP to the graph"
   ]
  },
  {
   "cell_type": "markdown",
   "metadata": {},
   "source": [
    "After adding the new MOP in `Example 2` to the knowledge graph, we may want to see what are the hypothetical new MOPs that could be suggested from the algorithms."
   ]
  },
  {
   "cell_type": "code",
   "execution_count": 23,
   "metadata": {},
   "outputs": [
    {
     "name": "stdout",
     "output_type": "stream",
     "text": [
      "prefix os: <http://www.theworldavatar.com/ontology/ontospecies/OntoSpecies.owl#>\n",
      "prefix om: <http://www.ontology-of-units-of-measure.org/resource/om-2/>\n",
      "prefix mops: <https://www.theworldavatar.com/kg/ontomops/>\n",
      "prefix rdf: <http://www.w3.org/1999/02/22-rdf-syntax-ns#>\n",
      "prefix rdfs: <http://www.w3.org/2000/01/rdf-schema#>\n",
      "select distinct ?mop_formula ?mop_mw ?mop_charge ?am ?metal ?organic ?metal_gbu ?organic_gbu ?metal_formula ?organic_formula ?am_label ?am_symmetry ?metal_gbu_label ?organic_gbu_label ?metal_gbu_number ?organic_gbu_number\n",
      "where {\n",
      "  {\n",
      "    select distinct ?metal_formula ?metal_mw ?metal_charge ?metal_gbu_label ?am_label ?am_symmetry ?metal_gbu_number ?am ?metal_gbu ?metal ?metal_binding ?metal_ocn\n",
      "    where {\n",
      "      ?metal a mops:ChemicalBuildingUnit; mops:hasBindingSite ?metal_site; mops:hasBindingDirection/rdf:type ?metal_binding.\n",
      "      ?metal_site rdf:type mops:MetalSite; mops:hasOuterCoordinationNumber ?metal_ocn.\n",
      "      ?metal mops:isFunctioningAs ?_metal_gbu; mops:hasCBUFormula ?metal_formula.\n",
      "      filter exists {?metal ^mops:hasChemicalBuildingUnit/mops:hasAssemblyModel/mops:hasGenericBuildingUnit ?_metal_gbu.}\n",
      "      ?_metal_gbu mops:hasGBUType/mops:hasModularity ?_metal_gbu_modularity.\n",
      "      ?_metal_gbu ^mops:isFunctioningAs/mops:isFunctioningAs ?metal_gbu.\n",
      "      ?metal_gbu mops:hasGBUType/mops:hasModularity ?metal_gbu_modularity.\n",
      "      ?metal_gbu ^mops:hasGenericBuildingUnit ?am; mops:hasGBUType/rdfs:label ?metal_gbu_label.\n",
      "      ?am a mops:AssemblyModel; rdfs:label ?am_label; mops:hasSymmetryPointGroup ?am_symmetry.\n",
      "      ?metal_gbu_n mops:isNumberOf ?metal_gbu; mops:hasUnitNumberValue ?metal_gbu_number.\n",
      "      ?metal os:hasMolecularWeight/om:hasValue/om:hasNumericalValue ?metal_mw; os:hasCharge/om:hasValue/om:hasNumericalValue ?metal_charge.\n",
      "      filter (?_metal_gbu_modularity = ?metal_gbu_modularity)\n",
      "    }\n",
      "  }\n",
      "  {\n",
      "    select distinct ?organic_formula ?organic_mw ?organic_charge ?organic_gbu_label ?organic_gbu_number ?am ?organic_gbu ?organic ?organic_binding ?organic_ocn #?equiv_cbu\n",
      "    where {\n",
      "      ?organic a mops:ChemicalBuildingUnit; mops:hasBindingSite ?organic_site; mops:hasBindingDirection/rdf:type ?organic_binding.\n",
      "      ?organic_site rdf:type mops:OrganicSite; mops:hasOuterCoordinationNumber ?organic_ocn.\n",
      "      ?organic mops:isFunctioningAs ?_organic_gbu; mops:hasCBUFormula ?organic_formula.\n",
      "      filter exists {?organic ^mops:hasChemicalBuildingUnit/mops:hasAssemblyModel/mops:hasGenericBuildingUnit ?_organic_gbu.}\n",
      "      ?_organic_gbu mops:hasGBUType/mops:hasModularity ?_organic_gbu_modularity.\n",
      "      ?_organic_gbu ^mops:isFunctioningAs ?equiv_cbu. ?equiv_cbu mops:isFunctioningAs ?organic_gbu.\n",
      "      ?organic_gbu mops:hasGBUType/mops:hasModularity ?organic_gbu_modularity.\n",
      "      ?organic_gbu ^mops:hasGenericBuildingUnit ?am; mops:hasGBUType/rdfs:label ?organic_gbu_label.\n",
      "      ?am a mops:AssemblyModel; rdfs:label ?am_label; mops:hasSymmetryPointGroup ?am_symmetry.\n",
      "      ?organic_gbu_n mops:isNumberOf ?organic_gbu; mops:hasUnitNumberValue ?organic_gbu_number.\n",
      "      ?organic os:hasMolecularWeight/om:hasValue/om:hasNumericalValue ?organic_mw; os:hasCharge/om:hasValue/om:hasNumericalValue ?organic_charge.\n",
      "      filter (?_organic_gbu_modularity = ?organic_gbu_modularity)\n",
      "    }\n",
      "  }\n",
      "  filter (?metal_gbu != ?organic_gbu)\n",
      "  filter (?metal_ocn = ?organic_ocn)\n",
      "  filter (?metal_binding = ?organic_binding)\n",
      "  bind (?organic_mw*?organic_gbu_number+?metal_mw*?metal_gbu_number as ?mop_mw)\n",
      "  bind (?organic_charge*?organic_gbu_number+?metal_charge*?metal_gbu_number as ?mop_charge)\n",
      "  bind (concat(?metal_formula, str(?metal_gbu_number), ?organic_formula, str(?organic_gbu_number)) as ?mop_formula)\n",
      "  filter not exists {\n",
      "    ?_mop mops:hasAssemblyModel ?am; mops:hasChemicalBuildingUnit ?metal, ?organic.\n",
      "  }\n",
      "}\n",
      "order by ?am_label\n",
      "\n"
     ]
    }
   ],
   "source": [
    "# First import the algorithm II that allows inter-AM CBU swapping\n",
    "import alg2\n",
    "print(alg2.alg2)"
   ]
  },
  {
   "cell_type": "code",
   "execution_count": 24,
   "metadata": {},
   "outputs": [
    {
     "data": {
      "text/plain": [
       "[{'mop_formula': '[V7O10(OCH3)9]4[(C6H3)(CH3)(CO2)2]6',\n",
       "  'organic_gbu_label': '2-linear',\n",
       "  'organic_gbu_number': '6',\n",
       "  'metal': 'https://www.theworldavatar.com/kg/ontomops/ChemicalBuildingUnit_56cfe376-e3fb-4634-a2f6-b23fedf8d939_0',\n",
       "  'organic_formula': '[(C6H3)(CH3)(CO2)2]',\n",
       "  'mop_mw': '4252.41219921875',\n",
       "  'am': 'https://www.theworldavatar.com/kg/ontomops/AssemblyModel_3d71c19a-ab54-4993-8c94-267dcfe41792',\n",
       "  'metal_formula': '[V7O10(OCH3)9]',\n",
       "  'metal_gbu': 'https://www.theworldavatar.com/kg/ontomops/GenericBuildingUnit_872e3c92-b090-481b-9c8f-bf80fcb3728f',\n",
       "  'organic_gbu': 'https://www.theworldavatar.com/kg/ontomops/GenericBuildingUnit_7eb74ecd-84c2-4d36-bb2b-cb13d300e3e1',\n",
       "  'am_label': '(3-pyramidal)x4(2-linear)x6',\n",
       "  'am_symmetry': 'Td',\n",
       "  'metal_gbu_number': '4',\n",
       "  'mop_charge': '-12.0',\n",
       "  'organic': 'https://www.theworldavatar.com/kg/ontomops/ChemicalBuildingUnit_f252d176-80ba-49ec-8c70-3b79e5867c3a',\n",
       "  'metal_gbu_label': '3-pyramidal'},\n",
       " {'mop_formula': '[Fe3O(SO4)3(C5H5N)3]4[(C6H3)(CH3)(CO2)2]6',\n",
       "  'organic_gbu_label': '2-linear',\n",
       "  'organic_gbu_number': '6',\n",
       "  'metal': 'https://www.theworldavatar.com/kg/ontomops/ChemicalBuildingUnit_68d49e3c-5cbb-4cd8-9cfc-ee8b19528075_0',\n",
       "  'organic_formula': '[(C6H3)(CH3)(CO2)2]',\n",
       "  'mop_mw': '3904.943693359375',\n",
       "  'am': 'https://www.theworldavatar.com/kg/ontomops/AssemblyModel_3d71c19a-ab54-4993-8c94-267dcfe41792',\n",
       "  'metal_formula': '[Fe3O(SO4)3(C5H5N)3]',\n",
       "  'metal_gbu': 'https://www.theworldavatar.com/kg/ontomops/GenericBuildingUnit_872e3c92-b090-481b-9c8f-bf80fcb3728f',\n",
       "  'organic_gbu': 'https://www.theworldavatar.com/kg/ontomops/GenericBuildingUnit_7eb74ecd-84c2-4d36-bb2b-cb13d300e3e1',\n",
       "  'am_label': '(3-pyramidal)x4(2-linear)x6',\n",
       "  'am_symmetry': 'Td',\n",
       "  'metal_gbu_number': '4',\n",
       "  'mop_charge': '4.0',\n",
       "  'organic': 'https://www.theworldavatar.com/kg/ontomops/ChemicalBuildingUnit_f252d176-80ba-49ec-8c70-3b79e5867c3a',\n",
       "  'metal_gbu_label': '3-pyramidal'},\n",
       " {'mop_formula': '[V3O2(OH)2(HCO2)3]4[(C6H3)(CH3)(CO2)2]6',\n",
       "  'organic_gbu_label': '2-linear',\n",
       "  'organic_gbu_number': '6',\n",
       "  'metal': 'https://www.theworldavatar.com/kg/ontomops/ChemicalBuildingUnit_7beffad4-ecf2-4734-babb-df19c77e807c_0',\n",
       "  'organic_formula': '[(C6H3)(CH3)(CO2)2]',\n",
       "  'mop_mw': '2484.4206220703127',\n",
       "  'am': 'https://www.theworldavatar.com/kg/ontomops/AssemblyModel_3d71c19a-ab54-4993-8c94-267dcfe41792',\n",
       "  'metal_formula': '[V3O2(OH)2(HCO2)3]',\n",
       "  'metal_gbu': 'https://www.theworldavatar.com/kg/ontomops/GenericBuildingUnit_872e3c92-b090-481b-9c8f-bf80fcb3728f',\n",
       "  'organic_gbu': 'https://www.theworldavatar.com/kg/ontomops/GenericBuildingUnit_7eb74ecd-84c2-4d36-bb2b-cb13d300e3e1',\n",
       "  'am_label': '(3-pyramidal)x4(2-linear)x6',\n",
       "  'am_symmetry': 'Td',\n",
       "  'metal_gbu_number': '4',\n",
       "  'mop_charge': '0.0',\n",
       "  'organic': 'https://www.theworldavatar.com/kg/ontomops/ChemicalBuildingUnit_f252d176-80ba-49ec-8c70-3b79e5867c3a',\n",
       "  'metal_gbu_label': '3-pyramidal'},\n",
       " {'mop_formula': '[V6O6(OCH3)9(SO4)]4[(C6H3)(CH3)(CO2)2]6',\n",
       "  'organic_gbu_label': '2-linear',\n",
       "  'organic_gbu_number': '6',\n",
       "  'metal': 'https://www.theworldavatar.com/kg/ontomops/ChemicalBuildingUnit_793984ba-26f8-4770-aca3-e94b07f632f4_0',\n",
       "  'organic_formula': '[(C6H3)(CH3)(CO2)2]',\n",
       "  'mop_mw': '4176.906095703125',\n",
       "  'am': 'https://www.theworldavatar.com/kg/ontomops/AssemblyModel_3d71c19a-ab54-4993-8c94-267dcfe41792',\n",
       "  'metal_formula': '[V6O6(OCH3)9(SO4)]',\n",
       "  'metal_gbu': 'https://www.theworldavatar.com/kg/ontomops/GenericBuildingUnit_872e3c92-b090-481b-9c8f-bf80fcb3728f',\n",
       "  'organic_gbu': 'https://www.theworldavatar.com/kg/ontomops/GenericBuildingUnit_7eb74ecd-84c2-4d36-bb2b-cb13d300e3e1',\n",
       "  'am_label': '(3-pyramidal)x4(2-linear)x6',\n",
       "  'am_symmetry': 'Td',\n",
       "  'metal_gbu_number': '4',\n",
       "  'mop_charge': '-8.0',\n",
       "  'organic': 'https://www.theworldavatar.com/kg/ontomops/ChemicalBuildingUnit_f252d176-80ba-49ec-8c70-3b79e5867c3a',\n",
       "  'metal_gbu_label': '3-pyramidal'},\n",
       " {'mop_formula': '[Pd3PO(C3H7N)3]4[(C6H3)(CH3)(CO2)2]6',\n",
       "  'organic_gbu_label': '2-linear',\n",
       "  'organic_gbu_number': '6',\n",
       "  'metal': 'https://www.theworldavatar.com/kg/ontomops/ChemicalBuildingUnit_d22a521a-ee39-486f-ab67-7680a9ddc965_0',\n",
       "  'organic_formula': '[(C6H3)(CH3)(CO2)2]',\n",
       "  'mop_mw': '3218.914396484375',\n",
       "  'am': 'https://www.theworldavatar.com/kg/ontomops/AssemblyModel_3d71c19a-ab54-4993-8c94-267dcfe41792',\n",
       "  'metal_formula': '[Pd3PO(C3H7N)3]',\n",
       "  'metal_gbu': 'https://www.theworldavatar.com/kg/ontomops/GenericBuildingUnit_872e3c92-b090-481b-9c8f-bf80fcb3728f',\n",
       "  'organic_gbu': 'https://www.theworldavatar.com/kg/ontomops/GenericBuildingUnit_7eb74ecd-84c2-4d36-bb2b-cb13d300e3e1',\n",
       "  'am_label': '(3-pyramidal)x4(2-linear)x6',\n",
       "  'am_symmetry': 'Td',\n",
       "  'metal_gbu_number': '4',\n",
       "  'mop_charge': '0.0',\n",
       "  'organic': 'https://www.theworldavatar.com/kg/ontomops/ChemicalBuildingUnit_f252d176-80ba-49ec-8c70-3b79e5867c3a',\n",
       "  'metal_gbu_label': '3-pyramidal'},\n",
       " {'mop_formula': '[V6O6(C5H4NPO3)(CH3O)9]4[(C6H3)(CH3)(CO2)2]6',\n",
       "  'organic_gbu_label': '2-linear',\n",
       "  'organic_gbu_number': '6',\n",
       "  'metal': 'https://www.theworldavatar.com/kg/ontomops/ChemicalBuildingUnit_e387bcbc-2076-4a0b-b0a9-72ec7bf019e5',\n",
       "  'organic_formula': '[(C6H3)(CH3)(CO2)2]',\n",
       "  'mop_mw': '4420.898',\n",
       "  'am': 'https://www.theworldavatar.com/kg/ontomops/AssemblyModel_3d71c19a-ab54-4993-8c94-267dcfe41792',\n",
       "  'metal_formula': '[V6O6(C5H4NPO3)(CH3O)9]',\n",
       "  'metal_gbu': 'https://www.theworldavatar.com/kg/ontomops/GenericBuildingUnit_872e3c92-b090-481b-9c8f-bf80fcb3728f',\n",
       "  'organic_gbu': 'https://www.theworldavatar.com/kg/ontomops/GenericBuildingUnit_7eb74ecd-84c2-4d36-bb2b-cb13d300e3e1',\n",
       "  'am_label': '(3-pyramidal)x4(2-linear)x6',\n",
       "  'am_symmetry': 'Td',\n",
       "  'metal_gbu_number': '4',\n",
       "  'mop_charge': '-8.0',\n",
       "  'organic': 'https://www.theworldavatar.com/kg/ontomops/ChemicalBuildingUnit_f252d176-80ba-49ec-8c70-3b79e5867c3a',\n",
       "  'metal_gbu_label': '3-pyramidal'},\n",
       " {'mop_formula': '[Ni4C56H76O12S4]6[(C6H3)(CH3)(CO2)2]12',\n",
       "  'organic_gbu_label': '2-linear',\n",
       "  'organic_gbu_number': '12',\n",
       "  'metal': 'https://www.theworldavatar.com/kg/ontomops/ChemicalBuildingUnit_5b557d16-0e85-4046-8b57-73e904fe071c_0',\n",
       "  'organic_formula': '[(C6H3)(CH3)(CO2)2]',\n",
       "  'mop_mw': '9963.0470546875',\n",
       "  'am': 'https://www.theworldavatar.com/kg/ontomops/AssemblyModel_6289a7a7-62f9-49a7-a6da-4e074b99a328',\n",
       "  'metal_formula': '[Ni4C56H76O12S4]',\n",
       "  'metal_gbu': 'https://www.theworldavatar.com/kg/ontomops/GenericBuildingUnit_f75b018a-26fe-462a-883b-97692b05b01a',\n",
       "  'organic_gbu': 'https://www.theworldavatar.com/kg/ontomops/GenericBuildingUnit_4baa0f3b-e27e-4616-899b-b0902345735e',\n",
       "  'am_label': '(4-pyramidal)x6(2-linear)x12',\n",
       "  'am_symmetry': 'Oh',\n",
       "  'metal_gbu_number': '6',\n",
       "  'mop_charge': '0.0',\n",
       "  'organic': 'https://www.theworldavatar.com/kg/ontomops/ChemicalBuildingUnit_f252d176-80ba-49ec-8c70-3b79e5867c3a',\n",
       "  'metal_gbu_label': '4-pyramidal'},\n",
       " {'mop_formula': '[V5O9]6[(C6H3)(CH3)(CO2)2]12',\n",
       "  'organic_gbu_label': '2-linear',\n",
       "  'organic_gbu_number': '12',\n",
       "  'metal': 'https://www.theworldavatar.com/kg/ontomops/ChemicalBuildingUnit_35c1d610-7327-4820-a47b-568160cf0cfe_0',\n",
       "  'organic_formula': '[(C6H3)(CH3)(CO2)2]',\n",
       "  'mop_mw': '4529.933529296875',\n",
       "  'am': 'https://www.theworldavatar.com/kg/ontomops/AssemblyModel_6289a7a7-62f9-49a7-a6da-4e074b99a328',\n",
       "  'metal_formula': '[V5O9]',\n",
       "  'metal_gbu': 'https://www.theworldavatar.com/kg/ontomops/GenericBuildingUnit_f75b018a-26fe-462a-883b-97692b05b01a',\n",
       "  'organic_gbu': 'https://www.theworldavatar.com/kg/ontomops/GenericBuildingUnit_4baa0f3b-e27e-4616-899b-b0902345735e',\n",
       "  'am_label': '(4-pyramidal)x6(2-linear)x12',\n",
       "  'am_symmetry': 'Oh',\n",
       "  'metal_gbu_number': '6',\n",
       "  'mop_charge': '-6.0',\n",
       "  'organic': 'https://www.theworldavatar.com/kg/ontomops/ChemicalBuildingUnit_f252d176-80ba-49ec-8c70-3b79e5867c3a',\n",
       "  'metal_gbu_label': '4-pyramidal'},\n",
       " {'mop_formula': '[Co4C40H44O12S4]6[(C6H3)(CH3)(CO2)2]12',\n",
       "  'organic_gbu_label': '2-linear',\n",
       "  'organic_gbu_number': '12',\n",
       "  'metal': 'https://www.theworldavatar.com/kg/ontomops/ChemicalBuildingUnit_1a434d47-78e4-4d24-9683-f63131fb68b2_0',\n",
       "  'organic_formula': '[(C6H3)(CH3)(CO2)2]',\n",
       "  'mop_mw': '8622.276000000002',\n",
       "  'am': 'https://www.theworldavatar.com/kg/ontomops/AssemblyModel_6289a7a7-62f9-49a7-a6da-4e074b99a328',\n",
       "  'metal_formula': '[Co4C40H44O12S4]',\n",
       "  'metal_gbu': 'https://www.theworldavatar.com/kg/ontomops/GenericBuildingUnit_f75b018a-26fe-462a-883b-97692b05b01a',\n",
       "  'organic_gbu': 'https://www.theworldavatar.com/kg/ontomops/GenericBuildingUnit_4baa0f3b-e27e-4616-899b-b0902345735e',\n",
       "  'am_label': '(4-pyramidal)x6(2-linear)x12',\n",
       "  'am_symmetry': 'Oh',\n",
       "  'metal_gbu_number': '6',\n",
       "  'mop_charge': '0.0',\n",
       "  'organic': 'https://www.theworldavatar.com/kg/ontomops/ChemicalBuildingUnit_f252d176-80ba-49ec-8c70-3b79e5867c3a',\n",
       "  'metal_gbu_label': '4-pyramidal'},\n",
       " {'mop_formula': '[Co4C48H28O4S4]6[(C6H3)(CH3)(CO2)2]12',\n",
       "  'organic_gbu_label': '2-linear',\n",
       "  'organic_gbu_number': '12',\n",
       "  'metal': 'https://www.theworldavatar.com/kg/ontomops/ChemicalBuildingUnit_1c59a3c6-6bac-45fb-8fec-39aa8365d4a1_0',\n",
       "  'organic_formula': '[(C6H3)(CH3)(CO2)2]',\n",
       "  'mop_mw': '8334.096000000001',\n",
       "  'am': 'https://www.theworldavatar.com/kg/ontomops/AssemblyModel_6289a7a7-62f9-49a7-a6da-4e074b99a328',\n",
       "  'metal_formula': '[Co4C48H28O4S4]',\n",
       "  'metal_gbu': 'https://www.theworldavatar.com/kg/ontomops/GenericBuildingUnit_f75b018a-26fe-462a-883b-97692b05b01a',\n",
       "  'organic_gbu': 'https://www.theworldavatar.com/kg/ontomops/GenericBuildingUnit_4baa0f3b-e27e-4616-899b-b0902345735e',\n",
       "  'am_label': '(4-pyramidal)x6(2-linear)x12',\n",
       "  'am_symmetry': 'Oh',\n",
       "  'metal_gbu_number': '6',\n",
       "  'mop_charge': '0.0',\n",
       "  'organic': 'https://www.theworldavatar.com/kg/ontomops/ChemicalBuildingUnit_f252d176-80ba-49ec-8c70-3b79e5867c3a',\n",
       "  'metal_gbu_label': '4-pyramidal'},\n",
       " {'mop_formula': '[Co4C56H76O12S4]6[(C6H3)(CH3)(CO2)2]12',\n",
       "  'organic_gbu_label': '2-linear',\n",
       "  'organic_gbu_number': '12',\n",
       "  'metal': 'https://www.theworldavatar.com/kg/ontomops/ChemicalBuildingUnit_712d84d8-6b65-4431-a80e-a50b9a0aa9e7_0',\n",
       "  'organic_formula': '[(C6H3)(CH3)(CO2)2]',\n",
       "  'mop_mw': '9968.856',\n",
       "  'am': 'https://www.theworldavatar.com/kg/ontomops/AssemblyModel_6289a7a7-62f9-49a7-a6da-4e074b99a328',\n",
       "  'metal_formula': '[Co4C56H76O12S4]',\n",
       "  'metal_gbu': 'https://www.theworldavatar.com/kg/ontomops/GenericBuildingUnit_f75b018a-26fe-462a-883b-97692b05b01a',\n",
       "  'organic_gbu': 'https://www.theworldavatar.com/kg/ontomops/GenericBuildingUnit_4baa0f3b-e27e-4616-899b-b0902345735e',\n",
       "  'am_label': '(4-pyramidal)x6(2-linear)x12',\n",
       "  'am_symmetry': 'Oh',\n",
       "  'metal_gbu_number': '6',\n",
       "  'mop_charge': '0.0',\n",
       "  'organic': 'https://www.theworldavatar.com/kg/ontomops/ChemicalBuildingUnit_f252d176-80ba-49ec-8c70-3b79e5867c3a',\n",
       "  'metal_gbu_label': '4-pyramidal'},\n",
       " {'mop_formula': '[Ni4C40H44S4O12]6[(C6H3)(CH3)(CO2)2]12',\n",
       "  'organic_gbu_label': '2-linear',\n",
       "  'organic_gbu_number': '12',\n",
       "  'metal': 'https://www.theworldavatar.com/kg/ontomops/ChemicalBuildingUnit_9247ed68-9060-419d-aba1-1db8820ec7be_0',\n",
       "  'organic_formula': '[(C6H3)(CH3)(CO2)2]',\n",
       "  'mop_mw': '8616.51629296875',\n",
       "  'am': 'https://www.theworldavatar.com/kg/ontomops/AssemblyModel_6289a7a7-62f9-49a7-a6da-4e074b99a328',\n",
       "  'metal_formula': '[Ni4C40H44S4O12]',\n",
       "  'metal_gbu': 'https://www.theworldavatar.com/kg/ontomops/GenericBuildingUnit_f75b018a-26fe-462a-883b-97692b05b01a',\n",
       "  'organic_gbu': 'https://www.theworldavatar.com/kg/ontomops/GenericBuildingUnit_4baa0f3b-e27e-4616-899b-b0902345735e',\n",
       "  'am_label': '(4-pyramidal)x6(2-linear)x12',\n",
       "  'am_symmetry': 'Oh',\n",
       "  'metal_gbu_number': '6',\n",
       "  'mop_charge': '0.0',\n",
       "  'organic': 'https://www.theworldavatar.com/kg/ontomops/ChemicalBuildingUnit_f252d176-80ba-49ec-8c70-3b79e5867c3a',\n",
       "  'metal_gbu_label': '4-pyramidal'},\n",
       " {'mop_formula': '[Co4C24H8O24S8]6[(C6H3)(CH3)(CO2)2]12',\n",
       "  'organic_gbu_label': '2-linear',\n",
       "  'organic_gbu_number': '12',\n",
       "  'metal': 'https://www.theworldavatar.com/kg/ontomops/ChemicalBuildingUnit_6ff0cf10-b80a-4677-b3aa-647f639463e6_0',\n",
       "  'organic_formula': '[(C6H3)(CH3)(CO2)2]',\n",
       "  'mop_mw': '9173.076000000001',\n",
       "  'am': 'https://www.theworldavatar.com/kg/ontomops/AssemblyModel_6289a7a7-62f9-49a7-a6da-4e074b99a328',\n",
       "  'metal_formula': '[Co4C24H8O24S8]',\n",
       "  'metal_gbu': 'https://www.theworldavatar.com/kg/ontomops/GenericBuildingUnit_f75b018a-26fe-462a-883b-97692b05b01a',\n",
       "  'organic_gbu': 'https://www.theworldavatar.com/kg/ontomops/GenericBuildingUnit_4baa0f3b-e27e-4616-899b-b0902345735e',\n",
       "  'am_label': '(4-pyramidal)x6(2-linear)x12',\n",
       "  'am_symmetry': 'Oh',\n",
       "  'metal_gbu_number': '6',\n",
       "  'mop_charge': '-24.0',\n",
       "  'organic': 'https://www.theworldavatar.com/kg/ontomops/ChemicalBuildingUnit_f252d176-80ba-49ec-8c70-3b79e5867c3a',\n",
       "  'metal_gbu_label': '4-pyramidal'},\n",
       " {'mop_formula': '[Ni4C24H12O12S4]6[(C6H3)(CH3)(CO2)2]12',\n",
       "  'organic_gbu_label': '2-linear',\n",
       "  'organic_gbu_number': '12',\n",
       "  'metal': 'https://www.theworldavatar.com/kg/ontomops/ChemicalBuildingUnit_7d0f324a-b0bc-45b7-9c41-17eaf7acb742_0',\n",
       "  'organic_formula': '[(C6H3)(CH3)(CO2)2]',\n",
       "  'mop_mw': '7269.98553125',\n",
       "  'am': 'https://www.theworldavatar.com/kg/ontomops/AssemblyModel_6289a7a7-62f9-49a7-a6da-4e074b99a328',\n",
       "  'metal_formula': '[Ni4C24H12O12S4]',\n",
       "  'metal_gbu': 'https://www.theworldavatar.com/kg/ontomops/GenericBuildingUnit_f75b018a-26fe-462a-883b-97692b05b01a',\n",
       "  'organic_gbu': 'https://www.theworldavatar.com/kg/ontomops/GenericBuildingUnit_4baa0f3b-e27e-4616-899b-b0902345735e',\n",
       "  'am_label': '(4-pyramidal)x6(2-linear)x12',\n",
       "  'am_symmetry': 'Oh',\n",
       "  'metal_gbu_number': '6',\n",
       "  'mop_charge': '0.0',\n",
       "  'organic': 'https://www.theworldavatar.com/kg/ontomops/ChemicalBuildingUnit_f252d176-80ba-49ec-8c70-3b79e5867c3a',\n",
       "  'metal_gbu_label': '4-pyramidal'},\n",
       " {'mop_formula': '[V4O8]6[(C6H3)(CH3)(CO2)2]12',\n",
       "  'organic_gbu_label': '2-linear',\n",
       "  'organic_gbu_number': '12',\n",
       "  'metal': 'https://www.theworldavatar.com/kg/ontomops/ChemicalBuildingUnit_af70f090-78f2-48d3-8d16-351dc17edbf1_0',\n",
       "  'organic_formula': '[(C6H3)(CH3)(CO2)2]',\n",
       "  'mop_mw': '4128.287533203125',\n",
       "  'am': 'https://www.theworldavatar.com/kg/ontomops/AssemblyModel_6289a7a7-62f9-49a7-a6da-4e074b99a328',\n",
       "  'metal_formula': '[V4O8]',\n",
       "  'metal_gbu': 'https://www.theworldavatar.com/kg/ontomops/GenericBuildingUnit_f75b018a-26fe-462a-883b-97692b05b01a',\n",
       "  'organic_gbu': 'https://www.theworldavatar.com/kg/ontomops/GenericBuildingUnit_4baa0f3b-e27e-4616-899b-b0902345735e',\n",
       "  'am_label': '(4-pyramidal)x6(2-linear)x12',\n",
       "  'am_symmetry': 'Oh',\n",
       "  'metal_gbu_number': '6',\n",
       "  'mop_charge': '0.0',\n",
       "  'organic': 'https://www.theworldavatar.com/kg/ontomops/ChemicalBuildingUnit_f252d176-80ba-49ec-8c70-3b79e5867c3a',\n",
       "  'metal_gbu_label': '4-pyramidal'},\n",
       " {'mop_formula': '[Zn4C40H44O12S4]6[(C6H3)(CH3)(CO2)2]12',\n",
       "  'organic_gbu_label': '2-linear',\n",
       "  'organic_gbu_number': '12',\n",
       "  'metal': 'https://www.theworldavatar.com/kg/ontomops/ChemicalBuildingUnit_7c697808-4d9b-45b0-bca5-5738c85898c9_0',\n",
       "  'organic_formula': '[(C6H3)(CH3)(CO2)2]',\n",
       "  'mop_mw': '8777.2345546875',\n",
       "  'am': 'https://www.theworldavatar.com/kg/ontomops/AssemblyModel_6289a7a7-62f9-49a7-a6da-4e074b99a328',\n",
       "  'metal_formula': '[Zn4C40H44O12S4]',\n",
       "  'metal_gbu': 'https://www.theworldavatar.com/kg/ontomops/GenericBuildingUnit_f75b018a-26fe-462a-883b-97692b05b01a',\n",
       "  'organic_gbu': 'https://www.theworldavatar.com/kg/ontomops/GenericBuildingUnit_4baa0f3b-e27e-4616-899b-b0902345735e',\n",
       "  'am_label': '(4-pyramidal)x6(2-linear)x12',\n",
       "  'am_symmetry': 'Oh',\n",
       "  'metal_gbu_number': '6',\n",
       "  'mop_charge': '0.0',\n",
       "  'organic': 'https://www.theworldavatar.com/kg/ontomops/ChemicalBuildingUnit_f252d176-80ba-49ec-8c70-3b79e5867c3a',\n",
       "  'metal_gbu_label': '4-pyramidal'},\n",
       " {'mop_formula': '[Co4C24H12O12S4]6[(C6H3)(CH3)(CO2)2]12',\n",
       "  'organic_gbu_label': '2-linear',\n",
       "  'organic_gbu_number': '12',\n",
       "  'metal': 'https://www.theworldavatar.com/kg/ontomops/ChemicalBuildingUnit_bfa3133b-8884-4e60-9954-4f5ff0107df1_0',\n",
       "  'organic_formula': '[(C6H3)(CH3)(CO2)2]',\n",
       "  'mop_mw': '7275.756',\n",
       "  'am': 'https://www.theworldavatar.com/kg/ontomops/AssemblyModel_6289a7a7-62f9-49a7-a6da-4e074b99a328',\n",
       "  'metal_formula': '[Co4C24H12O12S4]',\n",
       "  'metal_gbu': 'https://www.theworldavatar.com/kg/ontomops/GenericBuildingUnit_f75b018a-26fe-462a-883b-97692b05b01a',\n",
       "  'organic_gbu': 'https://www.theworldavatar.com/kg/ontomops/GenericBuildingUnit_4baa0f3b-e27e-4616-899b-b0902345735e',\n",
       "  'am_label': '(4-pyramidal)x6(2-linear)x12',\n",
       "  'am_symmetry': 'Oh',\n",
       "  'metal_gbu_number': '6',\n",
       "  'mop_charge': '0.0',\n",
       "  'organic': 'https://www.theworldavatar.com/kg/ontomops/ChemicalBuildingUnit_f252d176-80ba-49ec-8c70-3b79e5867c3a',\n",
       "  'metal_gbu_label': '4-pyramidal'},\n",
       " {'mop_formula': '[Mg4C40H44O12S4]6[(C6H3)(CH3)(CO2)2]12',\n",
       "  'organic_gbu_label': '2-linear',\n",
       "  'organic_gbu_number': '12',\n",
       "  'metal': 'https://www.theworldavatar.com/kg/ontomops/ChemicalBuildingUnit_a568bde7-7cd1-4585-9f7e-a2bba5a03b82_0',\n",
       "  'organic_formula': '[(C6H3)(CH3)(CO2)2]',\n",
       "  'mop_mw': '7791.194515625',\n",
       "  'am': 'https://www.theworldavatar.com/kg/ontomops/AssemblyModel_6289a7a7-62f9-49a7-a6da-4e074b99a328',\n",
       "  'metal_formula': '[Mg4C40H44O12S4]',\n",
       "  'metal_gbu': 'https://www.theworldavatar.com/kg/ontomops/GenericBuildingUnit_f75b018a-26fe-462a-883b-97692b05b01a',\n",
       "  'organic_gbu': 'https://www.theworldavatar.com/kg/ontomops/GenericBuildingUnit_4baa0f3b-e27e-4616-899b-b0902345735e',\n",
       "  'am_label': '(4-pyramidal)x6(2-linear)x12',\n",
       "  'am_symmetry': 'Oh',\n",
       "  'metal_gbu_number': '6',\n",
       "  'mop_charge': '0.0',\n",
       "  'organic': 'https://www.theworldavatar.com/kg/ontomops/ChemicalBuildingUnit_f252d176-80ba-49ec-8c70-3b79e5867c3a',\n",
       "  'metal_gbu_label': '4-pyramidal'},\n",
       " {'mop_formula': '[Co4C40H44O4S4]6[(C6H3)(CH3)(CO2)2]12',\n",
       "  'organic_gbu_label': '2-linear',\n",
       "  'organic_gbu_number': '12',\n",
       "  'metal': 'https://www.theworldavatar.com/kg/ontomops/ChemicalBuildingUnit_e46d215e-a1eb-46f5-b6ff-9573d76f295d_0',\n",
       "  'organic_formula': '[(C6H3)(CH3)(CO2)2]',\n",
       "  'mop_mw': '7854.336',\n",
       "  'am': 'https://www.theworldavatar.com/kg/ontomops/AssemblyModel_6289a7a7-62f9-49a7-a6da-4e074b99a328',\n",
       "  'metal_formula': '[Co4C40H44O4S4]',\n",
       "  'metal_gbu': 'https://www.theworldavatar.com/kg/ontomops/GenericBuildingUnit_f75b018a-26fe-462a-883b-97692b05b01a',\n",
       "  'organic_gbu': 'https://www.theworldavatar.com/kg/ontomops/GenericBuildingUnit_4baa0f3b-e27e-4616-899b-b0902345735e',\n",
       "  'am_label': '(4-pyramidal)x6(2-linear)x12',\n",
       "  'am_symmetry': 'Oh',\n",
       "  'metal_gbu_number': '6',\n",
       "  'mop_charge': '0.0',\n",
       "  'organic': 'https://www.theworldavatar.com/kg/ontomops/ChemicalBuildingUnit_f252d176-80ba-49ec-8c70-3b79e5867c3a',\n",
       "  'metal_gbu_label': '4-pyramidal'},\n",
       " {'mop_formula': '[Mg4C56H76O12S4]6[(C6H3)(CH3)(CO2)2]12',\n",
       "  'organic_gbu_label': '2-linear',\n",
       "  'organic_gbu_number': '12',\n",
       "  'metal': 'https://www.theworldavatar.com/kg/ontomops/ChemicalBuildingUnit_f3716525-0a8d-430f-ae24-0a043ec0c93a_0',\n",
       "  'organic_formula': '[(C6H3)(CH3)(CO2)2]',\n",
       "  'mop_mw': '9137.72527734375',\n",
       "  'am': 'https://www.theworldavatar.com/kg/ontomops/AssemblyModel_6289a7a7-62f9-49a7-a6da-4e074b99a328',\n",
       "  'metal_formula': '[Mg4C56H76O12S4]',\n",
       "  'metal_gbu': 'https://www.theworldavatar.com/kg/ontomops/GenericBuildingUnit_f75b018a-26fe-462a-883b-97692b05b01a',\n",
       "  'organic_gbu': 'https://www.theworldavatar.com/kg/ontomops/GenericBuildingUnit_4baa0f3b-e27e-4616-899b-b0902345735e',\n",
       "  'am_label': '(4-pyramidal)x6(2-linear)x12',\n",
       "  'am_symmetry': 'Oh',\n",
       "  'metal_gbu_number': '6',\n",
       "  'mop_charge': '0.0',\n",
       "  'organic': 'https://www.theworldavatar.com/kg/ontomops/ChemicalBuildingUnit_f252d176-80ba-49ec-8c70-3b79e5867c3a',\n",
       "  'metal_gbu_label': '4-pyramidal'},\n",
       " {'mop_formula': '[Fe4C40H44S4O4]6[(C6H3)(CH3)(CO2)2]12',\n",
       "  'organic_gbu_label': '2-linear',\n",
       "  'organic_gbu_number': '12',\n",
       "  'metal': 'https://www.theworldavatar.com/kg/ontomops/ChemicalBuildingUnit_e5a98967-cf3e-414c-807b-c1a309225ba9_0',\n",
       "  'organic_formula': '[(C6H3)(CH3)(CO2)2]',\n",
       "  'mop_mw': '7780.178890625',\n",
       "  'am': 'https://www.theworldavatar.com/kg/ontomops/AssemblyModel_6289a7a7-62f9-49a7-a6da-4e074b99a328',\n",
       "  'metal_formula': '[Fe4C40H44S4O4]',\n",
       "  'metal_gbu': 'https://www.theworldavatar.com/kg/ontomops/GenericBuildingUnit_f75b018a-26fe-462a-883b-97692b05b01a',\n",
       "  'organic_gbu': 'https://www.theworldavatar.com/kg/ontomops/GenericBuildingUnit_4baa0f3b-e27e-4616-899b-b0902345735e',\n",
       "  'am_label': '(4-pyramidal)x6(2-linear)x12',\n",
       "  'am_symmetry': 'Oh',\n",
       "  'metal_gbu_number': '6',\n",
       "  'mop_charge': '0.0',\n",
       "  'organic': 'https://www.theworldavatar.com/kg/ontomops/ChemicalBuildingUnit_f252d176-80ba-49ec-8c70-3b79e5867c3a',\n",
       "  'metal_gbu_label': '4-pyramidal'},\n",
       " {'mop_formula': '[WV5O11]12[(C6H3)(CH3)(CO2)2]30',\n",
       "  'organic_gbu_label': '2-linear',\n",
       "  'organic_gbu_number': '30',\n",
       "  'metal': 'https://www.theworldavatar.com/kg/ontomops/ChemicalBuildingUnit_782a50de-2db7-4910-9547-7200a723d7d3_0',\n",
       "  'organic_formula': '[(C6H3)(CH3)(CO2)2]',\n",
       "  'mop_mw': '12718.7929296875',\n",
       "  'am': 'https://www.theworldavatar.com/kg/ontomops/AssemblyModel_4d34c0b4-2a4b-4f16-98dd-97c5ce7349a5',\n",
       "  'metal_formula': '[WV5O11]',\n",
       "  'metal_gbu': 'https://www.theworldavatar.com/kg/ontomops/GenericBuildingUnit_16df9dfa-f293-44b2-9ca2-cfb838917dea',\n",
       "  'organic_gbu': 'https://www.theworldavatar.com/kg/ontomops/GenericBuildingUnit_06ff251b-7be5-41fc-a51b-754e1392c343',\n",
       "  'am_label': '(5-pyramidal)x12(2-linear)x30',\n",
       "  'am_symmetry': 'Ih',\n",
       "  'metal_gbu_number': '12',\n",
       "  'mop_charge': '-12.0',\n",
       "  'organic': 'https://www.theworldavatar.com/kg/ontomops/ChemicalBuildingUnit_f252d176-80ba-49ec-8c70-3b79e5867c3a',\n",
       "  'metal_gbu_label': '5-pyramidal'},\n",
       " {'mop_formula': '[V6O11]12[(C6H3)(CH3)(CO2)2]30',\n",
       "  'organic_gbu_label': '2-linear',\n",
       "  'organic_gbu_number': '30',\n",
       "  'metal': 'https://www.theworldavatar.com/kg/ontomops/ChemicalBuildingUnit_f664df33-ef4a-44f8-a76f-930234465ea5_0',\n",
       "  'organic_formula': '[(C6H3)(CH3)(CO2)2]',\n",
       "  'mop_mw': '11124.010703125',\n",
       "  'am': 'https://www.theworldavatar.com/kg/ontomops/AssemblyModel_4d34c0b4-2a4b-4f16-98dd-97c5ce7349a5',\n",
       "  'metal_formula': '[V6O11]',\n",
       "  'metal_gbu': 'https://www.theworldavatar.com/kg/ontomops/GenericBuildingUnit_16df9dfa-f293-44b2-9ca2-cfb838917dea',\n",
       "  'organic_gbu': 'https://www.theworldavatar.com/kg/ontomops/GenericBuildingUnit_06ff251b-7be5-41fc-a51b-754e1392c343',\n",
       "  'am_label': '(5-pyramidal)x12(2-linear)x30',\n",
       "  'am_symmetry': 'Ih',\n",
       "  'metal_gbu_number': '12',\n",
       "  'mop_charge': '0.0',\n",
       "  'organic': 'https://www.theworldavatar.com/kg/ontomops/ChemicalBuildingUnit_f252d176-80ba-49ec-8c70-3b79e5867c3a',\n",
       "  'metal_gbu_label': '5-pyramidal'}]"
      ]
     },
     "execution_count": 24,
     "metadata": {},
     "output_type": "execute_result"
    }
   ],
   "source": [
    "# Now run algorithm II to get results\n",
    "results = sparql_client.perform_query(alg2.alg2)\n",
    "results"
   ]
  },
  {
   "cell_type": "code",
   "execution_count": 25,
   "metadata": {},
   "outputs": [
    {
     "data": {
      "text/plain": [
       "{'mop_formula': '[V6O11]12[(C6H3)(CH3)(CO2)2]30',\n",
       " 'organic_gbu_label': '2-linear',\n",
       " 'organic_gbu_number': '30',\n",
       " 'metal': 'https://www.theworldavatar.com/kg/ontomops/ChemicalBuildingUnit_f664df33-ef4a-44f8-a76f-930234465ea5_0',\n",
       " 'organic_formula': '[(C6H3)(CH3)(CO2)2]',\n",
       " 'mop_mw': '11124.010703125',\n",
       " 'am': 'https://www.theworldavatar.com/kg/ontomops/AssemblyModel_4d34c0b4-2a4b-4f16-98dd-97c5ce7349a5',\n",
       " 'metal_formula': '[V6O11]',\n",
       " 'metal_gbu': 'https://www.theworldavatar.com/kg/ontomops/GenericBuildingUnit_16df9dfa-f293-44b2-9ca2-cfb838917dea',\n",
       " 'organic_gbu': 'https://www.theworldavatar.com/kg/ontomops/GenericBuildingUnit_06ff251b-7be5-41fc-a51b-754e1392c343',\n",
       " 'am_label': '(5-pyramidal)x12(2-linear)x30',\n",
       " 'am_symmetry': 'Ih',\n",
       " 'metal_gbu_number': '12',\n",
       " 'mop_charge': '0.0',\n",
       " 'organic': 'https://www.theworldavatar.com/kg/ontomops/ChemicalBuildingUnit_f252d176-80ba-49ec-8c70-3b79e5867c3a',\n",
       " 'metal_gbu_label': '5-pyramidal'}"
      ]
     },
     "execution_count": 25,
     "metadata": {},
     "output_type": "execute_result"
    }
   ],
   "source": [
    "# Each row of the results corresponds to a new hypothetical MOP\n",
    "results[-1]"
   ]
  },
  {
   "cell_type": "code",
   "execution_count": 26,
   "metadata": {},
   "outputs": [],
   "source": [
    "# Now we have the list of hypothetical MOPs, we can use the same method as before to assemble and visualise them\n",
    "# Just to show the assembly process, we choose one hypothetical MOP\n",
    "metal_cbu = ontomops.ChemicalBuildingUnit.pull_from_kg(\n",
    "    [results[-1]['metal']],\n",
    "    sparql_client,\n",
    "    -1, # -1 means full recursion\n",
    ")[0] # The query returns a list, but we know there is only one CBU\n",
    "organic_cbu = ontomops.ChemicalBuildingUnit.pull_from_kg(\n",
    "    [results[-1]['organic']],\n",
    "    sparql_client,\n",
    "    -1, # -1 means full recursion\n",
    ")[0] # The query returns a list, but we know there is only one CBU\n",
    "am = ontomops.AssemblyModel.pull_from_kg(\n",
    "    [results[-1]['am']],\n",
    "    sparql_client,\n",
    "    -1\n",
    ")[0] # The query returns a list, but we know there is only one AM"
   ]
  },
  {
   "cell_type": "code",
   "execution_count": 27,
   "metadata": {},
   "outputs": [
    {
     "name": "stdout",
     "output_type": "stream",
     "text": [
      "current organic CBU is functioning as {https://www.theworldavatar.com/kg/ontomops/GenericBuildingUnit_7eb74ecd-84c2-4d36-bb2b-cb13d300e3e1}\n",
      "suggested organic CBU is functioning as https://www.theworldavatar.com/kg/ontomops/GenericBuildingUnit_06ff251b-7be5-41fc-a51b-754e1392c343\n",
      "adding https://www.theworldavatar.com/kg/ontomops/GenericBuildingUnit_06ff251b-7be5-41fc-a51b-754e1392c343 to the organic CBU\n"
     ]
    }
   ],
   "source": [
    "# NOTE as the algorithm II is cross AM, the organic CBU might not registered as functioning as the GBU in the AM\n",
    "print(f'current organic CBU is functioning as {organic_cbu.isFunctioningAs}')\n",
    "print(f'suggested organic CBU is functioning as {results[-1][\"organic_gbu\"]}')\n",
    "if results[-1]['organic_gbu'] not in organic_cbu.isFunctioningAs:\n",
    "    print(f'adding {results[-1][\"organic_gbu\"]} to the organic CBU')\n",
    "    organic_cbu.isFunctioningAs.add(results[-1]['organic_gbu'])"
   ]
  },
  {
   "cell_type": "code",
   "execution_count": 28,
   "metadata": {},
   "outputs": [
    {
     "name": "stdout",
     "output_type": "stream",
     "text": [
      "current metal CBU is functioning as {https://www.theworldavatar.com/kg/ontomops/GenericBuildingUnit_16df9dfa-f293-44b2-9ca2-cfb838917dea, https://www.theworldavatar.com/kg/ontomops/GenericBuildingUnit_ab04eeb3-09c1-4a5d-b98b-28a58a7087b5}\n",
      "suggested metal CBU is functioning as https://www.theworldavatar.com/kg/ontomops/GenericBuildingUnit_16df9dfa-f293-44b2-9ca2-cfb838917dea\n"
     ]
    }
   ],
   "source": [
    "# Also check for the metal CBU\n",
    "print(f'current metal CBU is functioning as {metal_cbu.isFunctioningAs}')\n",
    "print(f'suggested metal CBU is functioning as {results[-1][\"metal_gbu\"]}')\n",
    "if results[-1]['metal_gbu'] not in metal_cbu.isFunctioningAs:\n",
    "    print(f'adding {results[-1][\"metal_gbu\"]} to the metal CBU')\n",
    "    metal_cbu.isFunctioningAs.add(results[-1]['metal_gbu'])"
   ]
  },
  {
   "cell_type": "code",
   "execution_count": 29,
   "metadata": {},
   "outputs": [],
   "source": [
    "# Assemble the MOP\n",
    "hypothetical_mop = ontomops.MetalOrganicPolyhedron.from_assemble(am, [metal_cbu, organic_cbu], prov, sparql_client=sparql_client, data_dir=mops_conf.DATA_DIR)"
   ]
  },
  {
   "cell_type": "code",
   "execution_count": 30,
   "metadata": {},
   "outputs": [
    {
     "data": {
      "text/plain": [
       "'./data/xyz_mops_new\\\\(5-pyramidal)x12(2-linear)x30_Ih___[V6O11]12[(C6H3)(CH3)(CO2)2]30___MetalOrganicPolyhedron_cb3fe088-89aa-4aa0-8c07-2443f9e19512.xyz'"
      ]
     },
     "execution_count": 30,
     "metadata": {},
     "output_type": "execute_result"
    }
   ],
   "source": [
    "# Check the file path of the assembled XYZ file\n",
    "xyz_fpath = list(list(hypothetical_mop.hasGeometry)[0].hasGeometryFile)[0]\n",
    "xyz_fpath"
   ]
  },
  {
   "cell_type": "code",
   "execution_count": 31,
   "metadata": {},
   "outputs": [
    {
     "data": {
      "application/vnd.plotly.v1+json": {
       "config": {
        "plotlyServerURL": "https://plot.ly"
       },
       "data": [
        {
         "hovertemplate": "Atom=V<br>X=%{x}<br>Y=%{y}<br>Z=%{z}<extra></extra>",
         "legendgroup": "V",
         "marker": {
          "color": "#636efa",
          "size": 2,
          "symbol": "circle"
         },
         "mode": "markers",
         "name": "V",
         "scene": "scene",
         "showlegend": true,
         "type": "scatter3d",
         "x": {
          "bdata": "IvMZGWji3b+V7VmjJeYBQKYpEoW1ou6/+kQTdkFy+z9rnGh6NtP8v45P2IugkAvAFP/UfFKBKsAE8gLdbkwmwNHGzOLaMifAE1dF9vY3KcBD7D1O1+srwPdCiQzdxSrAxyC5ONELJMD+zNTMO4InwOEg2oF1/yPALZvV04yyJMD7L/IaBucewNE7JUKhOB7AMDk70xAl4D9bucVmHZXwP+RJ5kkdhgHAQpgoFojYC0Ce/iwBIzT8P/3iJuGHufu/tFeNNEOgAUD66+DcZBoDQBP65XDOFxRAGRzCzsYk5b8UQkJFnrq3Pz+BQWTz3gxA0J8DbmZ4KEDAkGWfNLMjQJRo97/CECVATgB/knEYJ0BJgBhGlY4qQFCiImdyZClAkHXE7BuTKkApPCcH6FgnQEwEW3DjTSZAenXcQ1nZKkBuW31VtfcrQLOm+UmaQylACco7SbxfAcB8KrzP4fcTwJy6DhngLQPAptLlLpcSDMAQ3T8ruENRPzOrvMnfduU/M3yFxkFnKMAEx4W7sBUlwNu23urRkSPAKRWWCq5XKcCRXkgdqnQqwHWTDaJT/CbA0FPZ+tfrFkDhKX6dlNQZQJjIgM1RdCBAZ+NAs9AICkAaoy0jNF8IQB1vs6gbjxhAATb1IKjKFsAS1Gnqy2AgwO9XnwGX1RnAaVcn71IiGMCtWfFYh8cHwADXIPKAHQrAiYWvO7IcJECycnUvCEAfQFsxbJYqJh5Algz4rkbeJEAFtdsQ7Y0nQIaPCfr3DCRA",
          "dtype": "f8"
         },
         "y": {
          "bdata": "owFcYdLUKcCSvvlWIxMqwE4hpuFNiSvAI+Zz4A1TJsBDloCAjnglwJczV5b8yijANyDmJvzFFEAl56ytQHoXQN7//8E+EB9ADqyVQPk1BUCoGKCamH0EQFC4kLlh9RZAVK5MonLvJMAaakgYSVwgwNxb3VJTTiXAdK9aUGMtIMDaTwdTegIlwM2OqHV8PyjA4q68PxTqKUCYYpfmQ6IrQM8ioraeKipAJls1/KPCKEDTBQYi5IQlQHay/to0fyZAVDPOkbnI8z9AkScv260QQGENJEl0Wvw/XKkbkqdCA0BarAwfbz/xv8JnAcVDUve/ewt9Lyi+AEB1Etysad4KQPpD0uC9CsK/iPXFN3nBE0DGjNvyyVEDQOYG9/who+a/FcJ+UkGeFMCUYBriIOMewLo8AvhKdhfAkSU8qzqCFsAeCbA8rdIDwP4m8+SYOAXAMhZju3MX87/tyExWSvj6v66I4QmMhhDAmhdTP6xs+D9gb2OCnwTxPyjNllhVdwPALA0+0TxjAMA2jxpSayrKP7a8lWt/OQrAYtQFcpva5j9ayez+B6EDwKs7anF0rRPAQo+D7JLGKMCM1Pe1XWUpwAvK441TOSXA4OSMySzSKsBo12FUVYcnwNkmlo+7LSTAUdjzQ1baKEAkZGnTW04lQOCr25ofZylAAcGRTn5BJEDopqdWSbQnQPPtSQjh+CpAtZcwKLAEJUCbxFljkwYlQGfW48TJQyhArJ/UQiczIEAv5fcDvHUgQAXzfSl/hSVA",
          "dtype": "f8"
         },
         "z": {
          "bdata": "/poherYOIEBbZfYlNcoZQJxvAIyLIhRAU3CUFjrhIkACfFB9Lr8jQItY9W81vBxAEsctPVCKFcAcmPBoCHAewBH72RRPehLA/+BL+f9pHMAvjUfw+2gOwFmaSjsbXwLAxNyNTipaEsAijQ5IrJYKwLRJkDdZD/e/r/B8+CtqGsB2gnxoGPwawIJ/K+hAnQzAveiA4J8GIMAZVK/gci4UwDsFs+KthxnAAl8xQnLbHMB/Goia2scjwA3ojF4IziLACIUyyPoOLkAp0cf0XeArQA3fFBrKcytAy7KgbYsMLUDbykGaRFktQBI3VOoheyxAo6/Edi6wIcBhSnYcx98kwPc71vYbjSTAb+2i+9bkHsDVwFeeMIwXwE/rlpPEAR7A/SnzkNKVFUD704BgmmYSQLEh+nU7ah5AVdWJ5KdmAkAPjxB1EhIPQHAxGDsntBxAi28b24YHLsDBqzn/eHkrwH3J+uFHyivAtNKb9fRsLMBde8WfEVQtwPuPjkyCDS3A91Iv4HC3IUAJJ3X9e4skQCMdeDN87iRARRYvZnzPHUCTibZSCJ8XQF8Esv5oNx9AaWu4PfTlGsBEGN7G2oYNwPqzyokU7xfAH2/UTldiFMDdLjXmHoMgwHkxxdGWpSHA10dusyT3GkAP4MKSTzMYQCrftIJqjg1A+Qy44omxIUAVDdoHZW8gQPIGyGU8QhRAWC3TNwBqEkBJ8fYnWSwbQNxl/JRO/wxAtUigRlhLGkC3zQZMgicKQABud8bhlvc/",
          "dtype": "f8"
         }
        },
        {
         "hovertemplate": "Atom=O<br>X=%{x}<br>Y=%{y}<br>Z=%{z}<extra></extra>",
         "legendgroup": "O",
         "marker": {
          "color": "#EF553B",
          "size": 2,
          "symbol": "circle"
         },
         "mode": "markers",
         "name": "O",
         "scene": "scene",
         "showlegend": true,
         "type": "scatter3d",
         "x": {
          "bdata": "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",
          "dtype": "f8"
         },
         "y": {
          "bdata": "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",
          "dtype": "f8"
         },
         "z": {
          "bdata": "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",
          "dtype": "f8"
         }
        },
        {
         "hovertemplate": "Atom=C<br>X=%{x}<br>Y=%{y}<br>Z=%{z}<extra></extra>",
         "legendgroup": "C",
         "marker": {
          "color": "#00cc96",
          "size": 2,
          "symbol": "circle"
         },
         "mode": "markers",
         "name": "C",
         "scene": "scene",
         "showlegend": true,
         "type": "scatter3d",
         "x": {
          "bdata": "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",
          "dtype": "f8"
         },
         "y": {
          "bdata": "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",
          "dtype": "f8"
         },
         "z": {
          "bdata": "1Kpa4ZwHK0BQxPzmh5cpQKOxzyVx9ihAQBm2gB/sJ0AM7bQvHIUnQA8Os7tSJihAtxEpT80uKUCHfs+3DmcpQM6E5/jMmiZAq8eonFMC4D+1dtBFOPbjv2lauRL7Bd6/OswxBztd+b+lwrxvleIGwPHkejiyHgjAqrhGYypo/r/raQpRJ2jsP0+G7AOGHRDAXncgGbRlJcDjJEsAvWEmwDsyNkRD9CXAJ3h4Fow5J8B2sduy+O8owBcn+/pHXSnAuULoZUcXKMD6MimzxTAkwN3QEBfdbSrAKnUIF2a/97+pbFzIYi/av1U/FLrcLOS/1911/qlw3D8moCTkrez7PzbHINI2dv8/i094WEyT7D9l1Z0Lpy4AwNPgnu878gZAG3UjYeSOKcA3y9iGxronwN+t1beEaybAgoRWPw0GJcAZQO0qRfIkwA8Swa7hQSbAzWbkkWilJ8ClZ0pKmWomwFjRET+enCPAzbH9PP51EsBKEO+/FIEKwGM8bOBumgDAuWDKIPi87b92dR1niV7wvzUYsn9lGQLAaxDZHM8+C8CD3TGOsBH9v25TKEkoF8s/HR3dJDzFHUCNHqQkpXgcQE1/8TDKyh5AbbDJcDzYHUC1RMB2IpQaQAXj7WU+QRhAlSPzo4IxGUCPQyVh71khQPVk6V3qABpAb6F9JVwhFMCnuQBV7zEUwHMG3ZtSuhfAM/ptlT7yF8DvpINYhaEUwKMXNTH6FxHAp7UQnq3eEMCPa0ROKdUbwN/S6FV4SBXA+hbVuufe9z/XmVhXGc/XP2UUD4J28eu/fs+JPt+K/r8uwKBwKS77v2ngA8FJ6dy/A7IgCUyj4j9KsxF9pXD0v5/EImPn5AbAoPNWyXeWKUCYj1oy18MnQMD76ytRpSZAVg44dYw+JUCdk3pVjvgkQJVRwwNiFyZADBV2bjZ8J0Bxs6bKGOAmQBWgrrc7pCNAaVlse2quHcCBJLOnViscwK/W15uGhhfA1bvC1ZjDFsA12RjxgqwawOXQZHBxUh/AzPtOnIUJIMDzMCrwc+cSwOUIU4Co6BnAmFPAb9vOIcCGR2esrGkhwIvfTLzeNh7AHb8StFkUHsCGMpqkoEohwB5VD/FnmSPAH4GozMqpI8B55nIfIPMYwLzBj2fKNiHAX5srDUj/KsDslGBpoogpwIkthpy4ECjAVnYH8yMMJ8DwQyUbd4InwFWlQjq6+ijARLbCjnb9KcCWrLxPLHonwGV+YcdLkibAXSuVk+ImFEALa+GxxPkTQKf06EruPg9AZ7m6Dk8NEECHCllae9wUQBWbKJ+9NxlA6YzBPXnIGEBrBvg0vyIEQCmnN+FdTBVA19Tbjbu3IcBPZYWhHDkjwLU0M3qQXiPAWOYdS9MVJcAjicB566omwE//OqQchSbAKyJ2nXTNJMAVBTNlndAhwD1+hC5hoyjA4ccMysu/IUCZAo+38EUjQEubeNdQByRAyJVScmm6JUCncuAa264mQLk5tTz27CVAN2+zVnk5JEDXl+fhXzgjQLdV8J2RqyhAKrHvCq+i/78VXo+5LPjjv2kFrEUPiNm/C681Q6KT7D/uQjLfz2f/P56Iw6iZyvs/lxDWMVKh3D/621lTyOf3v8/LEr1BjgpArdKU9fCJEkD7Dr5DYe8KQOuUIwh3CApAe8MfHb2fAEDednn6XTTwP+6ltW5WBPI/Y67lcitlAkDd426Vfn4RQFLdqDEVe8i/UkrJe4zwIMCi0sLH6mUgwJzJKxAHsiHAfrJa56dOIcABwwSDpz4fwJ0luSubpRzAoa3TtT1qHcDqxlI9hLgjwDkxlRU+2R7AuG8Xz7vaIUDySSiI7pMhQN7S6SHSJyNAzDypswH8IkCydMtXMDwhQIctDgaZTx9Af9RFQoalH0BY/VfixUclQEhDyxN4QyFAqUFPaHmiIED0ml5nF00iQD4pqMi8eiJAExfLd0JVJEBG/6pyXwUmQOdNdS9b1yVAmVfJMZL8I0DFKDlIINAgQCVVA2JZIChAUVWRStwZGUDBav/rGPgXQE/ce8qO6BJAad/1enFPEkBnuo5woMsWQF2S/Xl+3BtAIUqKWlV0HEAD5q15/BcLQNvd2ze3BxZAGI79uNjM/z87Ee64hWzjP07XiROwaOC/IP7FrUp+/L9mkfihpdz+v9pQ228j1um/m9DgJe5U3T/I0Qf8YW/gv7mcEkmnegrAz6UxSnZF6L/YvQ2ze1DhP+K/ST2hyfk/K7RE0qK2BkBoMqUKjfkHQMXVS5u+yv4/XX2i6Qpc5j+AOm8d7Lb5P8eb0m7+axFAq+s6/q41EEA3s8NZRboGQJSvk1TooPg/J9WEFuXW3T8DtaQTuE3mP1lZfGHgAABAtgnAj5ORCEBO3MtlWvHxP5nyPD+2ht6/qQPCfnRuJUDBpdSx4HMmQHlAwD+YOSdAYJ/Xd6x2KEA2se5ql/AoQK8FPiVjKihA8qO5+JjsJkCRpOOaa+4mQEEGJe3cdipApBLhO/ubIMAxfv1nYkwiwKwPkTVbNyPAv9xcRdIMJcAtDa5Q3vklwLxpzu1TDiXAITNzrJo4I8DPa/UgrHQiwJ8yvE4CGijAobhUba3zIEDHLWXaqEwgQJnC2m3R7xtAjbUbVbJaG0CXWpotFnYfQJfAyBVaECJAzhVDSNZZIkBDpVQGDhkXQFEa4FMA3h5AC+pkGJne6D9Jit9fH5Lfv0XzyTaVluO/Qr4MExLX/b+9QnzJ3QYIwNm9S2EKEgfAaq90nyEf+r+LiE1Fmt7hP5Xzks0QWBHAJ6qs8UQVGcAvxarJeDcYwBNzUDPs1xvAc+flGWcDG8DblnlPKowWwLe7cTq36hLAO0N1+AK+E8DlKd1h5I8gwDtLeCfrBBbA",
          "dtype": "f8"
         }
        },
        {
         "hovertemplate": "Atom=H<br>X=%{x}<br>Y=%{y}<br>Z=%{z}<extra></extra>",
         "legendgroup": "H",
         "marker": {
          "color": "#ab63fa",
          "size": 2,
          "symbol": "circle"
         },
         "mode": "markers",
         "name": "H",
         "scene": "scene",
         "showlegend": true,
         "type": "scatter3d",
         "x": {
          "bdata": "6wvWDosGF8BBExQdzngawMu9JL7Z8xHAhf/4ewYBBMBNBlWAkgAKwOmPsVMWqA7A69ufbqtPCUA7j+NORV4ZQHHn5iy/uh5ASdZ6S+8GE0AXOPVR9AkLQFNmABdGfA5A/QMmY4WHBsD7VhbBQZrpP5V/QdkkWvI/PSKaVn1SBsBl62z+ZWkJwKWYWVg0bA7A2uPfiU4XIMCCTrkhnrMkwBW4JcajzCbAqxihgRSvIsDdgLf0v5kfwFxNtEGrEyLAO6uvHN5m5T9bNOrv7IYQQPdBJDzjXgdAY78CNzct+b8T6QIezm73v2MJlf8dUfW/3hQOE1JGKEC2t9k0S/gkQBz9waEymyVAORBIfdS9KUDbMwPeMnooQDdfaUVwUCtAHZVZN5ESHEAgWozMh10gQAPvcJZdkRhAI9ZzFmrcDkAVM/Thye4RQE+efsTNiRRA+bOfHreqJcDaIp7DgkErwD8HI30yLyrAMPIxqQttI8Cfk61EJB4iwJ+9FTXMZiTA40v4gtgdI0DSphaITMAhQH5HV9d17iNACZM5JmGfJkCY+JX4t0okQEFDXtqLDCdA0UlW4sH2DsA1HdyD3Gfpv5Vtz5V+39Q/fd3cENsEBcBZ7n7wMLsKwM3m2J8d/w/Ax3HHQjIlH8DWRsJCIlEdwF2T/D5iPhXAGdxtOZF+E8DE4lgQyZgWwAaL61xYuRnAhczBiceiGEAXozCYSdQUQGOZFiLsrBtAIpaeqhe3IUAPo70W0EoeQNYx4xASKiFAMOPVk0ZnGUBThb3SLlIYQC+btgd/ug9AeRT4TskkCkBDt7V8bn0QQPWCOB1tLhNAx8F+o767KUC4Qp6UID4nQKekIgplSCZA4cqqPSC6KEALpzQdmCooQFranGSYGStA001NV5FmHsBD69qpPpUawH6iTUCqhSDAR/a8oCpRJMAn+DLG3sghwAs6J6V28SPAt++vba00GEAqHZxtk5cgQNLA+n/8uyNATjuu0fM9IEATWJs8OzwaQGVG9xf5hR1AdWrXR1DI2z8hTo8k0qYQQDfFnfPbDxRAZXHbU45h8z+VI5I15zHUP2oHHnhXM8I/ximXlzdvI8CLFLIG5cUpwGiKXr2vRirAU1oe84JtI8BH9QT8eEUhwHk9juAsVSPAa9tGjw0GHUCfURJqyp4kQEH3Dj1oZSZAZrM3bsdqIEAImDuWmHMbQFMYr6LCEh9A8fhWDPRSEsBBwUTFEf8awHptrefH1SDAqKrA+Tk2G8Dh5SEKSesUwMZoLLey8xfAgdnj8rvMGkDBpiDxydoSQGE3mmiafBdACcHtlp5tIUAdSx7iTUgfQG+YoIYA4CFArxYOuH2KCUCf+BEYla0MQP0xjoHOWvQ/i+x2jwxX0r9LySRH/RjqPxWPZXrcKvA/OcaXBt/bD8ALgUks8CjevxN1YN0myPa/tS+BLZt2F8BxooVDQo8WwGUEldX2MRjAf1a/Nr3wJ8B/aoML2C8swIYrTXADYSzAbMVKmE7EJ8Bip2fdlLclwPkafePsgCjAEQ/dEY1SEsC9pXTsvYMewMfS+8pZthjAQVeCUthaAMAx7iq9jaoBwEGJv+Vr6ATABaKbmOz97L/jCQ6jlI0IQM+2DrI+8ARAse/+Exm8AMBp2NJooUMDwJECIaEmIwPAlsTeNXFsEMCf6uP8zCsdwC1xkXk1wiDAO6KGfIZRFcCVkbZ09KgPwFV/S+AoohLAy9T8jsoXI8Db0x0tJZwfwNO8i3zttSHA68adQxlvJsA3cLcKrZwkwEESZ/q1LSfAYR4WTTRnKkBRvezVnM8pQISF2vPlESpAwV0nJQv4KkAhv9t77F0pQFxOJ7TiiixAhdXGtkgLDMB5/rTMspEJwB2Yewt8ley/1qCjBPMWwb9PtiHN+M70v/ON4wtr1Pi/",
          "dtype": "f8"
         },
         "y": {
          "bdata": "bEPExZ0gBcDpfzbhRAr1P0kIdKgAzPs/7DBeHkw/BMBsc7nje/UJwEyBaBqpBgvAueTDYf40KUBcV/mVKsInQEcZqFReAidA33WekyZiKEBs+XfGyH0nQCqxRdvmkipAIfhI8SZsE0CNDaYg874UQLnYvvIQ8hxA+zrpXLWHH0CJLtkCpWsZQPtJ7hwjexxAuzIUn15QJUAXrCAQjA0hQEBPdGyg7B1A8Xu34MLVIkAT/UpBE3cjQJ9MoHf/tiVAsqPluqZvIcDVqXFoSIkbwBDCcuhBChXAGmtHNvRJGsBQZN/bUCMdwE6HXFWnTSDA9PA76kR3FkCEHSWHYh8hQADS6iRQFx1AMClZjZ7ACkCIJMjK/lEKQFA2JLfa8A9Ab9X4xWTeHMAVS6B1g5skwA31cnUywSbAPAhExOHfIMA4TDZa/jAcwKCEpM4/Tx/AI6m0Jvz19L8vYetVQJ/9vwJwRy1wghDASpJHlLWFEsB0xqNr1F8JwJhdnUlE3wvAO6s9jo0AIMBvoA99o08mwOw4P9kDEyTA2KGqV/jQF8AwnhLb4x4XwOwjSy+C6xnA5n/r1gxgGkCx5goKMEUiQBxN9fRwzR1AMGojajg8DkB89yLs8VgQQDCvMbSeaBJAi95OYlhbI0BWgTqjWX4fQFMyGRt3ByJAffx1grZKJ0DjbrfJC2slQDe5KreWwydAEMKTVA3rIUBxsYHcpiAgQCxkyIox4BlAPugzPHz4GkA8ZtqVHMccQISTNvGtlyBA/xR4/+u88b+47eazP8MEQJDZVoSdiQBAqITDHM4cA8DwMSq4ChIDwJiOU9h57gbA1X+KUY1/+T8lt0b2vU76P+Za71qCag9A55Pgp+L0E0AqcMhXK5sMQAZUhN1uaw9Ando29xfN0L9wqYjcRuULQPQKVsIRdRFAwsCjy6K04T/djzaw7Svbv51LRBCFm92/qGfkrXPCCcCGnGCU0UrDP740TlS2Zuq/uASK265+FMDUJpms7jcTwAzl6DxQWxXAhRBJKtdlKcDa7gtKCs8qwCL1Ipw3kyrAYjVO7tT4KMDvSN23r1wnwBioSbZ1hyrA3qXi7ib+H8CAUfBDiDAYwDi05JhYThPA6Pt2/DDlGcBsW+oOs30bwEwMRcpK4B/AWn9qTm2iF8CGY7UJnisbwARxj3H6mxLAQNjcg4ERBcC0U7+U9S0LwODgdIOxpA/AWhj1omQCHsAsaKuD8O8iwCSa7FlHVh/A/tPDrQdlE8AM7xXpiiQUwEIFfK0hoRfAUMAJPGgGDkBuxwQgWzMcQIqDqrIdsyBAdLF3/zoRFUCwIHmZdZEPQGKMDxY2FxFAbkb87JijJ0AVlmAvY/AmQNW6IsMGdCdAQjNh7uqYKEARIkqUtuEmQIhJHMqoCSpA/fSgR2f/KEBde5oUymErQPmkPfCFIitAp30IwVFsKEB/Brx0HrkmQKzXlzjazylAqDdyCoHHBEB9yR9EG5TfvwLpgtj5OeM/kNrccLqUEkCE47+KbqIQQOjkTKeXTRNArycajNphKMAfkxcaFwAnwJrkSh1IrifAFAi/Y36sKcDAwC8UEf4nwCnfn/SKFivA6Xa9uSluEsC9c2e26W0VwGM96ysamx3ApQmrCC1IHsCDGfbBbAQYwBN1XJ5r8RrALJ+jH/NUGsDsxXcqqFAQwHhdz/ed1RXA8F1EslX3IcDGD+ee5GUgwJZ0mP8A/CHAGCZLsOQtGkB+YDbT3OYYQNf5VQxAaBBAunDQnQChC0BLAYsJvFARQL3Jd+Iy7xNAola71LIS6T/0rAxh0wEHwFgNIN3OAw/AesGVfIfOzb9C1XVb/BrsP3Icq0XcIOg//WhsyxsQJcB2xzR4gGcpwODKzLVO2SnA+lCN7TlAJcDzAv0SnREjwMzgvW/E0SXA",
          "dtype": "f8"
         },
         "z": {
          "bdata": "zgoVhiR+J0AMM0HBhN4nQL+HfF4ynSlAaOpfohQiKkCd57+3QbEnQEdG7lx/qSpA+tdFXXyo979Vd4P7SBkPwF2kpJGXDADAtkrDH9sK+j/LhSJBYjvuP2t8r7bXOu4//byzMWvuJsBhae7wE4gqwCMy4U1FYijAw5f7TohbI8CNGgssj8siwEVaHgjNTyXAl03x5ISz0j8vmYM8WtkGQAacRPF2tfA/DZMfucHYBcDdYwxcIuUAwD3LXnO50ADA/xL3AAohJMBZ0EndCDMmwL4XDrr3iijAPtH0XextJ8ANH7ZdSZIkwGu+TdGXPyfApWRT0I52tb87sW8cf5oCwI10cma0AhHAeouUFppOBcAIgcM8HhvzvzI8pVDe3/a/NWy9uq5uH0CLYrG1kAMWQAnos65BmxdAU/eH4zOXIUB1wFlpt5wgQIFftzzUFSNAJ7gnkKBcGsCdUhY+OaQNwBFn+lss6AzA4/qFbz10G8CTw00W4ikbwEuiIRuUeB/ARcQPzMYTBsBp7cpB6LbTv2wq/Qql8/Y/1Zw3F2kY4L9KPL+oLGD5vxqz37sl/f+/McAN0dx6JEAm/Pq9MeYlQMU7yyduQChAHdfXezbhJ0AXaff8/hQlQAFc17O0zydAjai+O8OWE8Bg5eJFl/4gwEq3HyZPoCHAew9wCMqyE8ClhQKDVBMPwI8RA0GEkRLABy28bxntGsCC1sEI6yIlwHLquI6zPSXAmavyIK9SGcDbaOljqPUVwJv4o1LNQBjAF4IRcUALJsAFOiI+TkopwFDRJAjV/irAEm9Ohu4+KMAGlwFwIoolwKfDV5VKRyjAT6rbVWgmCkAP3jfHaIAcQLnDklj9whtAOz9lXd8XBECW5pe3Wgv9P2tAesCmzAJAABvEXRYvJcAw+6UzQpknwKSog4XlsyTAO2dmE7ylIMDOwxjs4bogwM/KhdGMFyPA0O4lY00+JkBy82mIO5MmQJwSEx89tSNAtmhBnW0GIkDgN8WB6UwiQKf/H7t21CRAHvJCpmO88D9P2h/l4MADQJetAEfkwtI//YM+sPcAA8CacxAu/CT1v2qn899dl/e/W04Vup0DAEC3SmxR917ZP7tOReClAwNAmWVFDCytFED15O/cHTkQQOXcE0QbZxJA0Kav29IxIsCxXgHU3lUawCmgj/QGpBvALqJa2O7kI8DMTyKEzhMjwMbURhYMeCXAUvSRDDgQJEAbRAmqiOkcQO9fRIgOfR1AHMSL839KJUAKbKTRitYkQG5v2IyIDSdAHR55axl0JEC59mQ0D/4mQF1fSNxk3SNAdaWK5FAaH0Aad+s5/KQfQKUAEyj4BCJAaw0AjjizDUAtM4zH4OweQCsfo4bQ6h9Au4uhFdOGDEAbpfxgaEYGQDtGF0nouQdAe+iY0m5dBMB3s6WAyxftv9jNKYH3l/M/7wGbUyEi2j9rgpV42bftv7xjLeZpWfC/3yT4hyqQDEBQ9E1EJEIAQClSSixyWKG/9XbZrT7f5j/jMMe48n79P10A4J+/FwJA2bjfQ80T2792foh6fEIBQEefujvUsQ9A7nuwaWvG/j+D0BKaQkriP+uP3J/dX+M/xYCNqJ79KEDGEJkKtnwoQI9R2aVrZSZAx4yQTUILJkBVb2lTfNwlQJnYyjM3tShAWuwj0SGtJcDbrI/Zna8lwFcpNd3llyLAUiaX0R8pIcBeToU6XaohwJR+Q3TpECTA7/xok58qGEABp3AGCXcjQB0fej848iNA/da4shPGF0C7MPAkBNgTQNnv142PoRZAQt9n6gog/78t2uCQdEwNwLouAp6h0fi/ZjRXxuuF9j/LGb6+WJDiP9cDPgaEH9s/n5Cp1nN+HcAdCfcbyrcPwIMbZWTtQhHAodiRKTW5IMAPuokj9IggwAlyCDeqFyLA",
          "dtype": "f8"
         }
        }
       ],
       "layout": {
        "autosize": false,
        "height": 400,
        "legend": {
         "title": {
          "text": "Atom"
         },
         "tracegroupgap": 0
        },
        "scene": {
         "domain": {
          "x": [
           0,
           1
          ],
          "y": [
           0,
           1
          ]
         },
         "xaxis": {
          "title": {
           "text": "X"
          }
         },
         "yaxis": {
          "title": {
           "text": "Y"
          }
         },
         "zaxis": {
          "title": {
           "text": "Z"
          }
         }
        },
        "template": {
         "data": {
          "bar": [
           {
            "error_x": {
             "color": "#2a3f5f"
            },
            "error_y": {
             "color": "#2a3f5f"
            },
            "marker": {
             "line": {
              "color": "#E5ECF6",
              "width": 0.5
             },
             "pattern": {
              "fillmode": "overlay",
              "size": 10,
              "solidity": 0.2
             }
            },
            "type": "bar"
           }
          ],
          "barpolar": [
           {
            "marker": {
             "line": {
              "color": "#E5ECF6",
              "width": 0.5
             },
             "pattern": {
              "fillmode": "overlay",
              "size": 10,
              "solidity": 0.2
             }
            },
            "type": "barpolar"
           }
          ],
          "carpet": [
           {
            "aaxis": {
             "endlinecolor": "#2a3f5f",
             "gridcolor": "white",
             "linecolor": "white",
             "minorgridcolor": "white",
             "startlinecolor": "#2a3f5f"
            },
            "baxis": {
             "endlinecolor": "#2a3f5f",
             "gridcolor": "white",
             "linecolor": "white",
             "minorgridcolor": "white",
             "startlinecolor": "#2a3f5f"
            },
            "type": "carpet"
           }
          ],
          "choropleth": [
           {
            "colorbar": {
             "outlinewidth": 0,
             "ticks": ""
            },
            "type": "choropleth"
           }
          ],
          "contour": [
           {
            "colorbar": {
             "outlinewidth": 0,
             "ticks": ""
            },
            "colorscale": [
             [
              0,
              "#0d0887"
             ],
             [
              0.1111111111111111,
              "#46039f"
             ],
             [
              0.2222222222222222,
              "#7201a8"
             ],
             [
              0.3333333333333333,
              "#9c179e"
             ],
             [
              0.4444444444444444,
              "#bd3786"
             ],
             [
              0.5555555555555556,
              "#d8576b"
             ],
             [
              0.6666666666666666,
              "#ed7953"
             ],
             [
              0.7777777777777778,
              "#fb9f3a"
             ],
             [
              0.8888888888888888,
              "#fdca26"
             ],
             [
              1,
              "#f0f921"
             ]
            ],
            "type": "contour"
           }
          ],
          "contourcarpet": [
           {
            "colorbar": {
             "outlinewidth": 0,
             "ticks": ""
            },
            "type": "contourcarpet"
           }
          ],
          "heatmap": [
           {
            "colorbar": {
             "outlinewidth": 0,
             "ticks": ""
            },
            "colorscale": [
             [
              0,
              "#0d0887"
             ],
             [
              0.1111111111111111,
              "#46039f"
             ],
             [
              0.2222222222222222,
              "#7201a8"
             ],
             [
              0.3333333333333333,
              "#9c179e"
             ],
             [
              0.4444444444444444,
              "#bd3786"
             ],
             [
              0.5555555555555556,
              "#d8576b"
             ],
             [
              0.6666666666666666,
              "#ed7953"
             ],
             [
              0.7777777777777778,
              "#fb9f3a"
             ],
             [
              0.8888888888888888,
              "#fdca26"
             ],
             [
              1,
              "#f0f921"
             ]
            ],
            "type": "heatmap"
           }
          ],
          "histogram": [
           {
            "marker": {
             "pattern": {
              "fillmode": "overlay",
              "size": 10,
              "solidity": 0.2
             }
            },
            "type": "histogram"
           }
          ],
          "histogram2d": [
           {
            "colorbar": {
             "outlinewidth": 0,
             "ticks": ""
            },
            "colorscale": [
             [
              0,
              "#0d0887"
             ],
             [
              0.1111111111111111,
              "#46039f"
             ],
             [
              0.2222222222222222,
              "#7201a8"
             ],
             [
              0.3333333333333333,
              "#9c179e"
             ],
             [
              0.4444444444444444,
              "#bd3786"
             ],
             [
              0.5555555555555556,
              "#d8576b"
             ],
             [
              0.6666666666666666,
              "#ed7953"
             ],
             [
              0.7777777777777778,
              "#fb9f3a"
             ],
             [
              0.8888888888888888,
              "#fdca26"
             ],
             [
              1,
              "#f0f921"
             ]
            ],
            "type": "histogram2d"
           }
          ],
          "histogram2dcontour": [
           {
            "colorbar": {
             "outlinewidth": 0,
             "ticks": ""
            },
            "colorscale": [
             [
              0,
              "#0d0887"
             ],
             [
              0.1111111111111111,
              "#46039f"
             ],
             [
              0.2222222222222222,
              "#7201a8"
             ],
             [
              0.3333333333333333,
              "#9c179e"
             ],
             [
              0.4444444444444444,
              "#bd3786"
             ],
             [
              0.5555555555555556,
              "#d8576b"
             ],
             [
              0.6666666666666666,
              "#ed7953"
             ],
             [
              0.7777777777777778,
              "#fb9f3a"
             ],
             [
              0.8888888888888888,
              "#fdca26"
             ],
             [
              1,
              "#f0f921"
             ]
            ],
            "type": "histogram2dcontour"
           }
          ],
          "mesh3d": [
           {
            "colorbar": {
             "outlinewidth": 0,
             "ticks": ""
            },
            "type": "mesh3d"
           }
          ],
          "parcoords": [
           {
            "line": {
             "colorbar": {
              "outlinewidth": 0,
              "ticks": ""
             }
            },
            "type": "parcoords"
           }
          ],
          "pie": [
           {
            "automargin": true,
            "type": "pie"
           }
          ],
          "scatter": [
           {
            "fillpattern": {
             "fillmode": "overlay",
             "size": 10,
             "solidity": 0.2
            },
            "type": "scatter"
           }
          ],
          "scatter3d": [
           {
            "line": {
             "colorbar": {
              "outlinewidth": 0,
              "ticks": ""
             }
            },
            "marker": {
             "colorbar": {
              "outlinewidth": 0,
              "ticks": ""
             }
            },
            "type": "scatter3d"
           }
          ],
          "scattercarpet": [
           {
            "marker": {
             "colorbar": {
              "outlinewidth": 0,
              "ticks": ""
             }
            },
            "type": "scattercarpet"
           }
          ],
          "scattergeo": [
           {
            "marker": {
             "colorbar": {
              "outlinewidth": 0,
              "ticks": ""
             }
            },
            "type": "scattergeo"
           }
          ],
          "scattergl": [
           {
            "marker": {
             "colorbar": {
              "outlinewidth": 0,
              "ticks": ""
             }
            },
            "type": "scattergl"
           }
          ],
          "scattermap": [
           {
            "marker": {
             "colorbar": {
              "outlinewidth": 0,
              "ticks": ""
             }
            },
            "type": "scattermap"
           }
          ],
          "scattermapbox": [
           {
            "marker": {
             "colorbar": {
              "outlinewidth": 0,
              "ticks": ""
             }
            },
            "type": "scattermapbox"
           }
          ],
          "scatterpolar": [
           {
            "marker": {
             "colorbar": {
              "outlinewidth": 0,
              "ticks": ""
             }
            },
            "type": "scatterpolar"
           }
          ],
          "scatterpolargl": [
           {
            "marker": {
             "colorbar": {
              "outlinewidth": 0,
              "ticks": ""
             }
            },
            "type": "scatterpolargl"
           }
          ],
          "scatterternary": [
           {
            "marker": {
             "colorbar": {
              "outlinewidth": 0,
              "ticks": ""
             }
            },
            "type": "scatterternary"
           }
          ],
          "surface": [
           {
            "colorbar": {
             "outlinewidth": 0,
             "ticks": ""
            },
            "colorscale": [
             [
              0,
              "#0d0887"
             ],
             [
              0.1111111111111111,
              "#46039f"
             ],
             [
              0.2222222222222222,
              "#7201a8"
             ],
             [
              0.3333333333333333,
              "#9c179e"
             ],
             [
              0.4444444444444444,
              "#bd3786"
             ],
             [
              0.5555555555555556,
              "#d8576b"
             ],
             [
              0.6666666666666666,
              "#ed7953"
             ],
             [
              0.7777777777777778,
              "#fb9f3a"
             ],
             [
              0.8888888888888888,
              "#fdca26"
             ],
             [
              1,
              "#f0f921"
             ]
            ],
            "type": "surface"
           }
          ],
          "table": [
           {
            "cells": {
             "fill": {
              "color": "#EBF0F8"
             },
             "line": {
              "color": "white"
             }
            },
            "header": {
             "fill": {
              "color": "#C8D4E3"
             },
             "line": {
              "color": "white"
             }
            },
            "type": "table"
           }
          ]
         },
         "layout": {
          "annotationdefaults": {
           "arrowcolor": "#2a3f5f",
           "arrowhead": 0,
           "arrowwidth": 1
          },
          "autotypenumbers": "strict",
          "coloraxis": {
           "colorbar": {
            "outlinewidth": 0,
            "ticks": ""
           }
          },
          "colorscale": {
           "diverging": [
            [
             0,
             "#8e0152"
            ],
            [
             0.1,
             "#c51b7d"
            ],
            [
             0.2,
             "#de77ae"
            ],
            [
             0.3,
             "#f1b6da"
            ],
            [
             0.4,
             "#fde0ef"
            ],
            [
             0.5,
             "#f7f7f7"
            ],
            [
             0.6,
             "#e6f5d0"
            ],
            [
             0.7,
             "#b8e186"
            ],
            [
             0.8,
             "#7fbc41"
            ],
            [
             0.9,
             "#4d9221"
            ],
            [
             1,
             "#276419"
            ]
           ],
           "sequential": [
            [
             0,
             "#0d0887"
            ],
            [
             0.1111111111111111,
             "#46039f"
            ],
            [
             0.2222222222222222,
             "#7201a8"
            ],
            [
             0.3333333333333333,
             "#9c179e"
            ],
            [
             0.4444444444444444,
             "#bd3786"
            ],
            [
             0.5555555555555556,
             "#d8576b"
            ],
            [
             0.6666666666666666,
             "#ed7953"
            ],
            [
             0.7777777777777778,
             "#fb9f3a"
            ],
            [
             0.8888888888888888,
             "#fdca26"
            ],
            [
             1,
             "#f0f921"
            ]
           ],
           "sequentialminus": [
            [
             0,
             "#0d0887"
            ],
            [
             0.1111111111111111,
             "#46039f"
            ],
            [
             0.2222222222222222,
             "#7201a8"
            ],
            [
             0.3333333333333333,
             "#9c179e"
            ],
            [
             0.4444444444444444,
             "#bd3786"
            ],
            [
             0.5555555555555556,
             "#d8576b"
            ],
            [
             0.6666666666666666,
             "#ed7953"
            ],
            [
             0.7777777777777778,
             "#fb9f3a"
            ],
            [
             0.8888888888888888,
             "#fdca26"
            ],
            [
             1,
             "#f0f921"
            ]
           ]
          },
          "colorway": [
           "#636efa",
           "#EF553B",
           "#00cc96",
           "#ab63fa",
           "#FFA15A",
           "#19d3f3",
           "#FF6692",
           "#B6E880",
           "#FF97FF",
           "#FECB52"
          ],
          "font": {
           "color": "#2a3f5f"
          },
          "geo": {
           "bgcolor": "white",
           "lakecolor": "white",
           "landcolor": "#E5ECF6",
           "showlakes": true,
           "showland": true,
           "subunitcolor": "white"
          },
          "hoverlabel": {
           "align": "left"
          },
          "hovermode": "closest",
          "mapbox": {
           "style": "light"
          },
          "paper_bgcolor": "white",
          "plot_bgcolor": "#E5ECF6",
          "polar": {
           "angularaxis": {
            "gridcolor": "white",
            "linecolor": "white",
            "ticks": ""
           },
           "bgcolor": "#E5ECF6",
           "radialaxis": {
            "gridcolor": "white",
            "linecolor": "white",
            "ticks": ""
           }
          },
          "scene": {
           "xaxis": {
            "backgroundcolor": "#E5ECF6",
            "gridcolor": "white",
            "gridwidth": 2,
            "linecolor": "white",
            "showbackground": true,
            "ticks": "",
            "zerolinecolor": "white"
           },
           "yaxis": {
            "backgroundcolor": "#E5ECF6",
            "gridcolor": "white",
            "gridwidth": 2,
            "linecolor": "white",
            "showbackground": true,
            "ticks": "",
            "zerolinecolor": "white"
           },
           "zaxis": {
            "backgroundcolor": "#E5ECF6",
            "gridcolor": "white",
            "gridwidth": 2,
            "linecolor": "white",
            "showbackground": true,
            "ticks": "",
            "zerolinecolor": "white"
           }
          },
          "shapedefaults": {
           "line": {
            "color": "#2a3f5f"
           }
          },
          "ternary": {
           "aaxis": {
            "gridcolor": "white",
            "linecolor": "white",
            "ticks": ""
           },
           "baxis": {
            "gridcolor": "white",
            "linecolor": "white",
            "ticks": ""
           },
           "bgcolor": "#E5ECF6",
           "caxis": {
            "gridcolor": "white",
            "linecolor": "white",
            "ticks": ""
           }
          },
          "title": {
           "x": 0.05
          },
          "xaxis": {
           "automargin": true,
           "gridcolor": "white",
           "linecolor": "white",
           "ticks": "",
           "title": {
            "standoff": 15
           },
           "zerolinecolor": "white",
           "zerolinewidth": 2
          },
          "yaxis": {
           "automargin": true,
           "gridcolor": "white",
           "linecolor": "white",
           "ticks": "",
           "title": {
            "standoff": 15
           },
           "zerolinecolor": "white",
           "zerolinewidth": 2
          }
         }
        },
        "title": {
         "text": "MOP: [V6O11]12[(C6H3)(CH3)(CO2)2]30\n AM: https://www.theworldavatar.com/kg/ontomops/AssemblyModel_4d34c0b4-2a4b-4f16-98dd-97c5ce7349a5"
        },
        "width": 1200
       }
      }
     },
     "metadata": {},
     "output_type": "display_data"
    }
   ],
   "source": [
    "# To visualise the MOP, we can use the same method as before\n",
    "hypothetical_mop_fig = hypothetical_mop.visualise()"
   ]
  },
  {
   "cell_type": "code",
   "execution_count": 32,
   "metadata": {},
   "outputs": [],
   "source": [
    "# If you wish to push the hypothetical MOP to the KG, you can use the same method as before, omitted for now\n",
    "# hypothetical_mop.push_to_kg(sparql_client, -1)"
   ]
  },
  {
   "cell_type": "markdown",
   "metadata": {},
   "source": [
    "## Author\n",
    "Jiaru Bai (jb2197@cantab.ac.uk)\n",
    "\n",
    "## Citation\n",
    "\n",
    "If you found this tool useful, please consider citing the following preprint:\n",
    "\n",
    "- https://como.ceb.cam.ac.uk/preprints/335/\n",
    "  ```bibtex\n",
    "  @article{bai2025twa,\n",
    "    title={{twa: The World Avatar Python package for dynamic knowledge graphs and its application in reticular chemistry}},\n",
    "    author={Bai, Jiaru and Rihm, Simon D and Kondinski, Aleksandar and Saluz, Fabio and Deng, Xinhong and Brownbridge, George and Mosbach, Sebastian and Akroyd, Jethro and Kraft, Markus},\n",
    "    year={2025},\n",
    "    note={Preprint at \\url{https://como.ceb.cam.ac.uk/preprints/335/}}\n",
    "  }\n",
    "  ```\n",
    "\n",
    "- https://como.ceb.cam.ac.uk/preprints/329/\n",
    "  ```bibtex\n",
    "  @article{kondinski2024automated,\n",
    "    title={Automated Assembly Modelling of Metal-Organic Polyhedra},\n",
    "    author={Kondinski, Aleksandar and Oyarz{\\'u}n, Andrea M and Rihm, Simon and Bai, Jiaru and Mosbach, Sebastian and Akroyd, Jethro and Kraft, Markus},\n",
    "    year={2024},\n",
    "    note={Preprint at \\url{https://como.ceb.cam.ac.uk/preprints/329/}}\n",
    "  }\n",
    "  ```"
   ]
  }
 ],
 "metadata": {
  "kernelspec": {
   "display_name": "twa",
   "language": "python",
   "name": "python3"
  },
  "language_info": {
   "codemirror_mode": {
    "name": "ipython",
    "version": 3
   },
   "file_extension": ".py",
   "mimetype": "text/x-python",
   "name": "python",
   "nbconvert_exporter": "python",
   "pygments_lexer": "ipython3",
   "version": "3.11.11"
  }
 },
 "nbformat": 4,
 "nbformat_minor": 2
}
